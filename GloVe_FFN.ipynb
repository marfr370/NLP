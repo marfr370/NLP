{
  "cells": [
    {
      "cell_type": "code",
      "execution_count": 1,
      "id": "3b2cfe15",
      "metadata": {
        "id": "3b2cfe15"
      },
      "outputs": [],
      "source": [
        "import pandas as pd\n",
        "from sklearn.preprocessing import LabelEncoder\n",
        "from sklearn import preprocessing\n",
        "\n",
        "df = pd.read_csv('preprocessed_lyrics.csv')\n",
        "df = df.groupby('Genre', group_keys=False).apply(lambda s: s.sample(5000, random_state=42)) #\n",
        "df = df[df['Lyric'].notna()]\n"
      ]
    },
    {
      "cell_type": "code",
      "execution_count": 2,
      "id": "80e41079",
      "metadata": {
        "colab": {
          "base_uri": "https://localhost:8080/",
          "height": 424
        },
        "id": "80e41079",
        "outputId": "fb4ed9d3-6c91-4f1e-ca37-a3ae63d087de"
      },
      "outputs": [
        {
          "output_type": "execute_result",
          "data": {
            "text/html": [
              "\n",
              "  <div id=\"df-4df7fea7-a92c-496c-9da3-40b065bf7309\">\n",
              "    <div class=\"colab-df-container\">\n",
              "      <div>\n",
              "<style scoped>\n",
              "    .dataframe tbody tr th:only-of-type {\n",
              "        vertical-align: middle;\n",
              "    }\n",
              "\n",
              "    .dataframe tbody tr th {\n",
              "        vertical-align: top;\n",
              "    }\n",
              "\n",
              "    .dataframe thead th {\n",
              "        text-align: right;\n",
              "    }\n",
              "</style>\n",
              "<table border=\"1\" class=\"dataframe\">\n",
              "  <thead>\n",
              "    <tr style=\"text-align: right;\">\n",
              "      <th></th>\n",
              "      <th>SName</th>\n",
              "      <th>Lyric</th>\n",
              "      <th>Genre</th>\n",
              "      <th>Artist</th>\n",
              "      <th>lyric_length_processed</th>\n",
              "    </tr>\n",
              "  </thead>\n",
              "  <tbody>\n",
              "    <tr>\n",
              "      <th>2157</th>\n",
              "      <td>Family Affair</td>\n",
              "      <td>refrain let crunkupon gon fun dancery ya open ...</td>\n",
              "      <td>Hip Hop</td>\n",
              "      <td>Mary J. Blige</td>\n",
              "      <td>244</td>\n",
              "    </tr>\n",
              "    <tr>\n",
              "      <th>3187</th>\n",
              "      <td>Ransom (ft. Lil' Wayne)</td>\n",
              "      <td>ransom yeah Drizzy Baby know time high time sm...</td>\n",
              "      <td>Hip Hop</td>\n",
              "      <td>Drake</td>\n",
              "      <td>426</td>\n",
              "    </tr>\n",
              "    <tr>\n",
              "      <th>9164</th>\n",
              "      <td>Close To Me</td>\n",
              "      <td>Cent unstoppable incredible impeccable unit wh...</td>\n",
              "      <td>Hip Hop</td>\n",
              "      <td>G-Unit</td>\n",
              "      <td>242</td>\n",
              "    </tr>\n",
              "    <tr>\n",
              "      <th>2145</th>\n",
              "      <td>Zone</td>\n",
              "      <td>uhh yea uh uh uh alright alright love bump bad...</td>\n",
              "      <td>Hip Hop</td>\n",
              "      <td>Drake</td>\n",
              "      <td>164</td>\n",
              "    </tr>\n",
              "    <tr>\n",
              "      <th>6442</th>\n",
              "      <td>Why You Up In Here (feat. Ludacris, Git Fresh ...</td>\n",
              "      <td>Flo Rida Gucci bird buy ciroc lil mama jock st...</td>\n",
              "      <td>Hip Hop</td>\n",
              "      <td>Flo Rida</td>\n",
              "      <td>199</td>\n",
              "    </tr>\n",
              "    <tr>\n",
              "      <th>...</th>\n",
              "      <td>...</td>\n",
              "      <td>...</td>\n",
              "      <td>...</td>\n",
              "      <td>...</td>\n",
              "      <td>...</td>\n",
              "    </tr>\n",
              "    <tr>\n",
              "      <th>31738</th>\n",
              "      <td>What do You Need?</td>\n",
              "      <td>need tonight feel look right pretend right may...</td>\n",
              "      <td>Rock</td>\n",
              "      <td>Goo Goo Dolls</td>\n",
              "      <td>67</td>\n",
              "    </tr>\n",
              "    <tr>\n",
              "      <th>31425</th>\n",
              "      <td>Rebel Heart</td>\n",
              "      <td>Stewart Golub Kentis Rojas pick quarter brothe...</td>\n",
              "      <td>Rock</td>\n",
              "      <td>Rod Stewart</td>\n",
              "      <td>181</td>\n",
              "    </tr>\n",
              "    <tr>\n",
              "      <th>35407</th>\n",
              "      <td>Before The Dawn</td>\n",
              "      <td>meet dark hold maybe tonight fly far away lose...</td>\n",
              "      <td>Rock</td>\n",
              "      <td>Evanescence</td>\n",
              "      <td>43</td>\n",
              "    </tr>\n",
              "    <tr>\n",
              "      <th>35281</th>\n",
              "      <td>Spanish is the Loving Tongue</td>\n",
              "      <td>break heart lose soul Adios mi cora sole spani...</td>\n",
              "      <td>Rock</td>\n",
              "      <td>Bob Dylan</td>\n",
              "      <td>65</td>\n",
              "    </tr>\n",
              "    <tr>\n",
              "      <th>38982</th>\n",
              "      <td>There Goes My Baby</td>\n",
              "      <td>baby ride yeah baby ride know lonesome talk te...</td>\n",
              "      <td>Rock</td>\n",
              "      <td>Ricky Nelson</td>\n",
              "      <td>38</td>\n",
              "    </tr>\n",
              "  </tbody>\n",
              "</table>\n",
              "<p>14999 rows × 5 columns</p>\n",
              "</div>\n",
              "      <button class=\"colab-df-convert\" onclick=\"convertToInteractive('df-4df7fea7-a92c-496c-9da3-40b065bf7309')\"\n",
              "              title=\"Convert this dataframe to an interactive table.\"\n",
              "              style=\"display:none;\">\n",
              "        \n",
              "  <svg xmlns=\"http://www.w3.org/2000/svg\" height=\"24px\"viewBox=\"0 0 24 24\"\n",
              "       width=\"24px\">\n",
              "    <path d=\"M0 0h24v24H0V0z\" fill=\"none\"/>\n",
              "    <path d=\"M18.56 5.44l.94 2.06.94-2.06 2.06-.94-2.06-.94-.94-2.06-.94 2.06-2.06.94zm-11 1L8.5 8.5l.94-2.06 2.06-.94-2.06-.94L8.5 2.5l-.94 2.06-2.06.94zm10 10l.94 2.06.94-2.06 2.06-.94-2.06-.94-.94-2.06-.94 2.06-2.06.94z\"/><path d=\"M17.41 7.96l-1.37-1.37c-.4-.4-.92-.59-1.43-.59-.52 0-1.04.2-1.43.59L10.3 9.45l-7.72 7.72c-.78.78-.78 2.05 0 2.83L4 21.41c.39.39.9.59 1.41.59.51 0 1.02-.2 1.41-.59l7.78-7.78 2.81-2.81c.8-.78.8-2.07 0-2.86zM5.41 20L4 18.59l7.72-7.72 1.47 1.35L5.41 20z\"/>\n",
              "  </svg>\n",
              "      </button>\n",
              "      \n",
              "  <style>\n",
              "    .colab-df-container {\n",
              "      display:flex;\n",
              "      flex-wrap:wrap;\n",
              "      gap: 12px;\n",
              "    }\n",
              "\n",
              "    .colab-df-convert {\n",
              "      background-color: #E8F0FE;\n",
              "      border: none;\n",
              "      border-radius: 50%;\n",
              "      cursor: pointer;\n",
              "      display: none;\n",
              "      fill: #1967D2;\n",
              "      height: 32px;\n",
              "      padding: 0 0 0 0;\n",
              "      width: 32px;\n",
              "    }\n",
              "\n",
              "    .colab-df-convert:hover {\n",
              "      background-color: #E2EBFA;\n",
              "      box-shadow: 0px 1px 2px rgba(60, 64, 67, 0.3), 0px 1px 3px 1px rgba(60, 64, 67, 0.15);\n",
              "      fill: #174EA6;\n",
              "    }\n",
              "\n",
              "    [theme=dark] .colab-df-convert {\n",
              "      background-color: #3B4455;\n",
              "      fill: #D2E3FC;\n",
              "    }\n",
              "\n",
              "    [theme=dark] .colab-df-convert:hover {\n",
              "      background-color: #434B5C;\n",
              "      box-shadow: 0px 1px 3px 1px rgba(0, 0, 0, 0.15);\n",
              "      filter: drop-shadow(0px 1px 2px rgba(0, 0, 0, 0.3));\n",
              "      fill: #FFFFFF;\n",
              "    }\n",
              "  </style>\n",
              "\n",
              "      <script>\n",
              "        const buttonEl =\n",
              "          document.querySelector('#df-4df7fea7-a92c-496c-9da3-40b065bf7309 button.colab-df-convert');\n",
              "        buttonEl.style.display =\n",
              "          google.colab.kernel.accessAllowed ? 'block' : 'none';\n",
              "\n",
              "        async function convertToInteractive(key) {\n",
              "          const element = document.querySelector('#df-4df7fea7-a92c-496c-9da3-40b065bf7309');\n",
              "          const dataTable =\n",
              "            await google.colab.kernel.invokeFunction('convertToInteractive',\n",
              "                                                     [key], {});\n",
              "          if (!dataTable) return;\n",
              "\n",
              "          const docLinkHtml = 'Like what you see? Visit the ' +\n",
              "            '<a target=\"_blank\" href=https://colab.research.google.com/notebooks/data_table.ipynb>data table notebook</a>'\n",
              "            + ' to learn more about interactive tables.';\n",
              "          element.innerHTML = '';\n",
              "          dataTable['output_type'] = 'display_data';\n",
              "          await google.colab.output.renderOutput(dataTable, element);\n",
              "          const docLink = document.createElement('div');\n",
              "          docLink.innerHTML = docLinkHtml;\n",
              "          element.appendChild(docLink);\n",
              "        }\n",
              "      </script>\n",
              "    </div>\n",
              "  </div>\n",
              "  "
            ],
            "text/plain": [
              "                                                   SName  ... lyric_length_processed\n",
              "2157                                       Family Affair  ...                    244\n",
              "3187                             Ransom (ft. Lil' Wayne)  ...                    426\n",
              "9164                                         Close To Me  ...                    242\n",
              "2145                                                Zone  ...                    164\n",
              "6442   Why You Up In Here (feat. Ludacris, Git Fresh ...  ...                    199\n",
              "...                                                  ...  ...                    ...\n",
              "31738                                  What do You Need?  ...                     67\n",
              "31425                                        Rebel Heart  ...                    181\n",
              "35407                                    Before The Dawn  ...                     43\n",
              "35281                       Spanish is the Loving Tongue  ...                     65\n",
              "38982                                 There Goes My Baby  ...                     38\n",
              "\n",
              "[14999 rows x 5 columns]"
            ]
          },
          "metadata": {},
          "execution_count": 2
        }
      ],
      "source": [
        "df"
      ]
    },
    {
      "cell_type": "code",
      "execution_count": 3,
      "id": "07816936",
      "metadata": {
        "id": "07816936"
      },
      "outputs": [],
      "source": [
        "\n",
        "possible_labels = df.Genre.unique()\n",
        "\n",
        "label_dict = {}\n",
        "for index, possible_label in enumerate(possible_labels):\n",
        "    label_dict[possible_label] = index\n",
        "label_dict\n",
        "\n",
        "df['label'] = df.Genre.replace(label_dict)"
      ]
    },
    {
      "cell_type": "code",
      "execution_count": 4,
      "id": "8b098be8",
      "metadata": {
        "id": "8b098be8"
      },
      "outputs": [],
      "source": [
        "import numpy as np\n",
        "label_encoder = preprocessing.LabelEncoder()\n",
        "labels = label_encoder.fit_transform(df.Genre.values)\n"
      ]
    },
    {
      "cell_type": "code",
      "execution_count": 5,
      "id": "afdd5f53",
      "metadata": {
        "scrolled": true,
        "id": "afdd5f53"
      },
      "outputs": [],
      "source": [
        "from sklearn.model_selection import train_test_split\n",
        "\n",
        "xtrain, xtest, ytrain, ytest = train_test_split(df.Lyric.values, \n",
        "                                                df.label.values, \n",
        "                                                random_state=42, \n",
        "                                                test_size=0.1, \n",
        "                                                shuffle=True)"
      ]
    },
    {
      "cell_type": "code",
      "source": [
        "xtrain"
      ],
      "metadata": {
        "colab": {
          "base_uri": "https://localhost:8080/"
        },
        "id": "OHT1tPmpRlGw",
        "outputId": "6b4908f7-03ac-4eb2-f63d-3c865df0fb08"
      },
      "id": "OHT1tPmpRlGw",
      "execution_count": 6,
      "outputs": [
        {
          "output_type": "execute_result",
          "data": {
            "text/plain": [
              "array(['crazy relieve time beg sweet relief blessing sky die tired eye loose sleep come tonight hand miracle hand miracle leave hand miracle way let away survive go alright lucky alive vision blind search way right sight hand miracle hand miracle leave hand miracle way let away hand miracle hand miracle leave hand miracle way let away',\n",
              "       'East New York oh god yeah gangsta gangsta gully gully yeah big business Joe crack don Terror Squad baby BX boro holdin death nothin realer hear uh huh verse like prove somethin everytime stop block set shop try somethin talkin kilo pound fuck desert eagle shit spit round tell scar neck spar good Joey boombay ay hit hard leave sharp right know bother retarded man ya know squadron like let die slow death probably collectin food deadin ya crew tell ya truth stoppin like lil lease b street man poppin street shit d watchin shift east glock fifth leave chump frame right standin daughter slaughter maim pay ransom chorus t e r r o r squad nigga right nigga joe don kid flow hard ask clique Niggas like crazy classic shit verse killa kid bronx Holdin death hear squad comin sound tech round sec leave page think ROC way blaze puff haze mind ease wait day shyne release hip hop shit unjust gon trust record label exec dumb fuck gun tuck belly nigga island makin celly watchin belly DV inch tv flat shit attatch CP game need like gotti go leave bunch fake don champagne woman run game puddin runnin train hoodmen bunch goodman confused like dinero heat nigga nothin loose know shoot scene reneact cuz lay featured actress chorus t e r r o r squad nigga right nigga joe don kid flow hard ask clique Niggas like crazy classic shit yea hell yea uh bring realest motherfucker game infamous terror squad yea real niggas real don real g haha come woo uh ton Montana rest peace forever forget big pun',\n",
              "       'verse Young Hawaii slim Young Hawaii Slim step light swish yes sco dance flo dance bob cute hate Movin manuverin like quarter Tryna live laugh expensive order border strap Nahh Smokin fat russian Compadre iss game madre like birthday Christmas time tryna trap stack g quarter nick dime nigga nick time gettin Money sure sleep song load kreayshawn ruski kush master smokin floor dutch master verse step party weekend ay chicken holla man tryna lay gettin paidd miami shadeee snuggly til fade man livin greatt poppin familiar young kreayshawn yaa door answer spread like cancer swoopin ya chick like fly shit shit walkin main bitch roll blunt quick Lookin like chopstick high like single time slidin kush Smokin guy time swag late know girl hate blow hoe like candle birthday cake barbie man fake somethin like zommpire Comin light fire maayne hot man kreayshawn crazyy stop',\n",
              "       ...,\n",
              "       'ohh wooaah know love know care shout want love want heart apart item girl quit play friend look right eye love break heart time like baby baby baby oooh baby baby baby baby baby baby oooh think baby baby baby oooh like baby baby baby noo like baby baby baby oooh think oh oh believe wanna play cool losin buy buy ring m piece baby fix shake til wake bad dream believe love like baby baby baby oooh like baby baby baby noo like baby baby baby oooh think oh oh baby baby baby oooh like baby baby baby noo like baby baby baby oooh think oh oh Ludacris Luda thirteen love compare baby come come crazy oh starstruck wake daily need Starbucks heart pound skip beat street school playground wanna weekend know daze cuz amazing heart break baby baby baby oooh like baby baby baby noo like baby baby baby oooh think baby baby baby oooh like baby baby baby noo like baby baby baby oooh think like baby baby baby oooh like baby baby baby noo like baby baby baby oooh think yeah yeah ooh ooohh',\n",
              "       'hoe cryin bitch niggaz cryin hoe scratch sample hand clusty Ghost Pullin gat Raekwon double barreled Meth blow burner kinda dusty Ghost test Raekwon bring em proper potnah Meth comin thirty chamber Meth math let plate spin GZA brother sparkin stray shot block stay hot Inspectah Deck ya fuck Wu got to fuck witchu Method Man Ghostface Killah fuck knock build man World Trade massacre step plane huh insane bitch fly shit hood blow bit disrespect rest head understand get rest true nigga people dead America stand divide fall Bush sit charge war Inspectah Deck yes yes N s bless stop heart like cholesterol let brawl fall tear like wreckin ball role niggaz draw gun impulse cash envelope spend kinfolk smoke ounce count mill Providin pure ecstasy pill chorus Method Man know rule fuck fool man fuck cool man disrespect crew ya fuck Wu got to fuck witchu Masta Killa dog guard ya grill real live God Reelz Yo wonderful spark blillz let build people mill rollin Rebel Ill Killa Hill peace Brownsville brother kill righteous lifer true livin sniper wait like sixth sense til hard kill streetlife livin StreetLife surround criminal serial killer tote gun serial high tech street intellect digital Project original sheisty individual New York brave supply late hall famer hit great year hiatus wanna hate thank hater cream Raekwon Chef Sendin letter cousin Wendy Viacom home worth money adorn order drink real niggaz order mink yo fit lookin fink daddy everybody money Payday flash Visas livin like Easter fuck Benz shit float water eyeball come drop birdie yo Method Man eat right clap toy StreetLife Backstreet boy kiddin tryin act like shoe fittin confuse ya head yo ass like shittin Hot Nixon team position Battin average seven hittin bitchin lame chicken leg missin kickin cause haaaaaaaaaaaard hard like criminal love like tennis shoe throw slug finish Method Man short Meth tell motherfucker Wu look neck comin thirty chamber Meth bring em proper potnah Meth Wu Tang Wu Tang Method Man Wu Tang rushin yo gang crushin game pretty thug clutchin chain hand cuppin thang strange gas playin flame let nigga shade sayin',\n",
              "       'come child God walk road ask tell Yasgur Farm join rock roll band camp land try soul free CHORUS stardust golden garden walk come lose smog feel cog turn maybe time year maybe time man know know life learn chorus time Woodstock half million strong song celebration dream bomber ride shotgun sky turn butterfly nation stardust billion year old carbon golden catch devil bargain garden'],\n",
              "      dtype=object)"
            ]
          },
          "metadata": {},
          "execution_count": 6
        }
      ]
    },
    {
      "cell_type": "code",
      "execution_count": 7,
      "id": "2ff60121",
      "metadata": {
        "id": "2ff60121"
      },
      "outputs": [],
      "source": [
        "from tensorflow.keras.layers import TextVectorization\n",
        "import tensorflow as tf\n",
        "vectorizer = TextVectorization(max_tokens=20000, output_sequence_length=500)\n",
        "text_ds = tf.data.Dataset.from_tensor_slices(xtrain).batch(128)\n",
        "vectorizer.adapt(text_ds)"
      ]
    },
    {
      "cell_type": "code",
      "execution_count": 8,
      "id": "857105ae",
      "metadata": {
        "colab": {
          "base_uri": "https://localhost:8080/"
        },
        "id": "857105ae",
        "outputId": "9c829644-0c7d-4392-d01a-6c93f51f3b34"
      },
      "outputs": [
        {
          "output_type": "execute_result",
          "data": {
            "text/plain": [
              "['', '[UNK]', 'know', 'like', 'love']"
            ]
          },
          "metadata": {},
          "execution_count": 8
        }
      ],
      "source": [
        "vectorizer.get_vocabulary()[:5]\n"
      ]
    },
    {
      "cell_type": "code",
      "execution_count": 9,
      "id": "98fdef75",
      "metadata": {
        "colab": {
          "base_uri": "https://localhost:8080/"
        },
        "id": "98fdef75",
        "outputId": "db55d3d8-8deb-4d51-cfc4-a5bb99e971b1"
      },
      "outputs": [
        {
          "output_type": "execute_result",
          "data": {
            "text/plain": [
              "array([10275,   609,     1,     1, 10275,  5409])"
            ]
          },
          "metadata": {},
          "execution_count": 9
        }
      ],
      "source": [
        "output = vectorizer([[\"the cat sat on the mat\"]])\n",
        "output.numpy()[0, :6]"
      ]
    },
    {
      "cell_type": "code",
      "execution_count": 10,
      "id": "9877f0ff",
      "metadata": {
        "id": "9877f0ff"
      },
      "outputs": [],
      "source": [
        "voc = vectorizer.get_vocabulary()\n",
        "word_index = dict(zip(voc, range(len(voc))))"
      ]
    },
    {
      "cell_type": "code",
      "source": [
        "#!wget http://nlp.stanford.edu/data/glove.6B.zip\n",
        "#!unzip glove*.zip\n"
      ],
      "metadata": {
        "id": "zNxOBNS6zEGs"
      },
      "id": "zNxOBNS6zEGs",
      "execution_count": 12,
      "outputs": []
    },
    {
      "cell_type": "code",
      "execution_count": 13,
      "id": "93c2a48b",
      "metadata": {
        "colab": {
          "base_uri": "https://localhost:8080/"
        },
        "id": "93c2a48b",
        "outputId": "5ef35f52-a5e9-48af-99f7-704ff3ee34b0"
      },
      "outputs": [
        {
          "output_type": "stream",
          "name": "stderr",
          "text": [
            "400000it [00:17, 22255.33it/s]"
          ]
        },
        {
          "output_type": "stream",
          "name": "stdout",
          "text": [
            "Found 400000 word vectors.\n"
          ]
        },
        {
          "output_type": "stream",
          "name": "stderr",
          "text": [
            "\n"
          ]
        }
      ],
      "source": [
        "from tqdm import tqdm\n",
        "\n",
        "embedding_index = {}\n",
        "f = open('glove.6B.300d.txt',encoding='utf8')\n",
        "for line in tqdm(f):\n",
        "  word, coefs = line.split(maxsplit=1)\n",
        "  coefs = np.fromstring(coefs, \"f\", sep=\" \")\n",
        "  embedding_index[word] = coefs\n",
        "\n",
        "print(\"Found %s word vectors.\" % len(embedding_index))"
      ]
    },
    {
      "cell_type": "code",
      "execution_count": 14,
      "id": "33fe7c8e",
      "metadata": {
        "colab": {
          "base_uri": "https://localhost:8080/"
        },
        "id": "33fe7c8e",
        "outputId": "63ba7e26-b5d1-4dca-fbe5-d61790a1489c"
      },
      "outputs": [
        {
          "output_type": "stream",
          "name": "stdout",
          "text": [
            "Converted 16627 words (3373 misses)\n"
          ]
        }
      ],
      "source": [
        "num_tokens = len(voc) + 2\n",
        "embedding_dim = 300\n",
        "hits = 0\n",
        "misses = 0\n",
        "\n",
        "# Prepare embedding matrix\n",
        "embedding_matrix = np.zeros((num_tokens, embedding_dim))\n",
        "for word, i in word_index.items():\n",
        "    embedding_vector = embedding_index.get(word)\n",
        "    if embedding_vector is not None:\n",
        "        # Words not found in embedding index will be all-zeros.\n",
        "        # This includes the representation for \"padding\" and \"OOV\"\n",
        "        embedding_matrix[i] = embedding_vector\n",
        "        hits += 1\n",
        "    else:\n",
        "        misses += 1\n",
        "print(\"Converted %d words (%d misses)\" % (hits, misses))"
      ]
    },
    {
      "cell_type": "code",
      "execution_count": 15,
      "id": "88cf5d71",
      "metadata": {
        "id": "88cf5d71"
      },
      "outputs": [],
      "source": [
        "from tensorflow.keras.layers import Embedding\n",
        "import keras\n",
        "embedding_layer = Embedding(\n",
        "    num_tokens,\n",
        "    embedding_dim,\n",
        "    embeddings_initializer=keras.initializers.Constant(embedding_matrix),\n",
        "    trainable=True,\n",
        ")\n"
      ]
    },
    {
      "cell_type": "code",
      "execution_count": 16,
      "id": "037a550d",
      "metadata": {
        "colab": {
          "base_uri": "https://localhost:8080/"
        },
        "id": "037a550d",
        "outputId": "90cefbc3-1cc5-4546-83e5-94b904ebab5a"
      },
      "outputs": [
        {
          "output_type": "stream",
          "name": "stdout",
          "text": [
            "Model: \"model\"\n",
            "_________________________________________________________________\n",
            " Layer (type)                Output Shape              Param #   \n",
            "=================================================================\n",
            " input_1 (InputLayer)        [(None, 500)]             0         \n",
            "                                                                 \n",
            " embedding (Embedding)       (None, 500, 300)          6000600   \n",
            "                                                                 \n",
            " flatten (Flatten)           (None, 150000)            0         \n",
            "                                                                 \n",
            " dense (Dense)               (None, 1024)              153601024 \n",
            "                                                                 \n",
            " outputs (Dense)             (None, 3)                 3075      \n",
            "                                                                 \n",
            "=================================================================\n",
            "Total params: 159,604,699\n",
            "Trainable params: 159,604,699\n",
            "Non-trainable params: 0\n",
            "_________________________________________________________________\n"
          ]
        }
      ],
      "source": [
        "from tensorflow.keras import layers\n",
        "from keras.layers import Input, Flatten\n",
        "\n",
        "int_sequences_input = keras.Input(shape=(500,), dtype=\"int64\")\n",
        "embedded_sequences = embedding_layer(int_sequences_input)\n",
        "flat_emb = Flatten()(embedded_sequences)\n",
        "\n",
        "#x = layers.Conv1D(128, 5, activation=\"relu\")(flat_emb)\n",
        "#x = layers.GlobalMaxPooling1D()(x)\n",
        "x = tf.keras.layers.Dense(1024, activation='relu')(flat_emb)\n",
        "preds = tf.keras.layers.Dense(3, activation='softmax', name='outputs')(x)\n",
        "model = keras.Model(int_sequences_input, preds)\n",
        "model.summary()\n"
      ]
    },
    {
      "cell_type": "code",
      "execution_count": 17,
      "id": "ce3472bd",
      "metadata": {
        "id": "ce3472bd"
      },
      "outputs": [],
      "source": [
        "from keras.utils import np_utils\n",
        "\n",
        "ytrain_encode = np_utils.to_categorical(ytrain)\n",
        "ytest_encode = np_utils.to_categorical(ytest)"
      ]
    },
    {
      "cell_type": "code",
      "source": [
        "x_train = vectorizer(np.array([[s] for s in xtrain])).numpy()\n",
        "x_test = vectorizer(np.array([[s] for s in xtest])).numpy()\n",
        "\n",
        "y_train = np.array(ytrain)\n",
        "y_test = np.array(ytest)"
      ],
      "metadata": {
        "id": "izaR4ufFUZTF"
      },
      "id": "izaR4ufFUZTF",
      "execution_count": 18,
      "outputs": []
    },
    {
      "cell_type": "code",
      "source": [
        "x_train.shape"
      ],
      "metadata": {
        "colab": {
          "base_uri": "https://localhost:8080/"
        },
        "id": "droTEIIcmBXB",
        "outputId": "1b7f6751-93e2-4ac9-8b0c-15e1338d0f8a"
      },
      "id": "droTEIIcmBXB",
      "execution_count": 19,
      "outputs": [
        {
          "output_type": "execute_result",
          "data": {
            "text/plain": [
              "(13499, 500)"
            ]
          },
          "metadata": {},
          "execution_count": 19
        }
      ]
    },
    {
      "cell_type": "code",
      "source": [
        "model.compile(\n",
        "    loss=\"sparse_categorical_crossentropy\", optimizer=\"adam\", metrics=[\"acc\"]\n",
        ")\n",
        "model.fit(x_train, y_train, batch_size=128, epochs=2,validation_data=(x_test, y_test))\n",
        "y_pred=model.predict(x_test)"
      ],
      "metadata": {
        "colab": {
          "base_uri": "https://localhost:8080/"
        },
        "id": "9aCOXqwwUwds",
        "outputId": "19ef3bb0-b478-45a9-e5d9-72ead3022889"
      },
      "id": "9aCOXqwwUwds",
      "execution_count": 20,
      "outputs": [
        {
          "output_type": "stream",
          "name": "stdout",
          "text": [
            "Epoch 1/2\n",
            "106/106 [==============================] - 7s 58ms/step - loss: 0.8502 - acc: 0.6484 - val_loss: 0.6848 - val_acc: 0.6953\n",
            "Epoch 2/2\n",
            "106/106 [==============================] - 6s 56ms/step - loss: 0.3480 - acc: 0.8632 - val_loss: 0.8546 - val_acc: 0.6887\n"
          ]
        }
      ]
    },
    {
      "cell_type": "markdown",
      "id": "64c3679b",
      "metadata": {
        "id": "64c3679b"
      },
      "source": [
        "Large diff between acc on training vs testing (might be overfit)?"
      ]
    },
    {
      "cell_type": "code",
      "execution_count": 21,
      "id": "e3fddd79",
      "metadata": {
        "scrolled": true,
        "colab": {
          "base_uri": "https://localhost:8080/"
        },
        "id": "e3fddd79",
        "outputId": "4ac48f1e-dc2e-475d-ed6d-01db903633ed"
      },
      "outputs": [
        {
          "output_type": "stream",
          "name": "stdout",
          "text": [
            "              precision    recall  f1-score   support\n",
            "\n",
            "           0       0.88      0.83      0.85       498\n",
            "           1       0.64      0.40      0.49       499\n",
            "           2       0.59      0.84      0.69       503\n",
            "\n",
            "    accuracy                           0.69      1500\n",
            "   macro avg       0.70      0.69      0.68      1500\n",
            "weighted avg       0.70      0.69      0.68      1500\n",
            "\n"
          ]
        }
      ],
      "source": [
        "from sklearn.metrics import classification_report\n",
        "\n",
        "y_pred_bool = np.argmax(y_pred, axis=1)\n",
        "print(classification_report(y_test, y_pred_bool))"
      ]
    },
    {
      "cell_type": "code",
      "source": [
        ""
      ],
      "metadata": {
        "id": "r8Tmj7PudzCB"
      },
      "id": "r8Tmj7PudzCB",
      "execution_count": 21,
      "outputs": []
    }
  ],
  "metadata": {
    "kernelspec": {
      "display_name": "Python 3",
      "name": "python3"
    },
    "language_info": {
      "name": "python"
    },
    "colab": {
      "name": "GloVe_FFN.ipynb",
      "provenance": [],
      "collapsed_sections": []
    },
    "accelerator": "GPU"
  },
  "nbformat": 4,
  "nbformat_minor": 5
}