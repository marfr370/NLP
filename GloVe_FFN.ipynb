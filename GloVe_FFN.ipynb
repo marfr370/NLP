{
  "cells": [
    {
      "cell_type": "code",
      "execution_count": null,
      "id": "3b2cfe15",
      "metadata": {
        "id": "3b2cfe15"
      },
      "outputs": [],
      "source": [
        "import pandas as pd\n",
        "from sklearn.preprocessing import LabelEncoder\n",
        "from sklearn import preprocessing\n",
        "\n",
        "df = pd.read_csv('unprocessed_lyrics.csv')\n",
        "df = df.groupby('Genre', group_keys=False).apply(lambda s: s.sample(5000, random_state=42)) #\n"
      ]
    },
    {
      "cell_type": "code",
      "execution_count": null,
      "id": "80e41079",
      "metadata": {
        "colab": {
          "base_uri": "https://localhost:8080/",
          "height": 424
        },
        "id": "80e41079",
        "outputId": "7bff02c8-ce62-4b9a-e883-0afdbc83d516"
      },
      "outputs": [
        {
          "output_type": "execute_result",
          "data": {
            "text/html": [
              "\n",
              "  <div id=\"df-f77558d2-cc1d-4390-a3d7-f5c9c85d77c6\">\n",
              "    <div class=\"colab-df-container\">\n",
              "      <div>\n",
              "<style scoped>\n",
              "    .dataframe tbody tr th:only-of-type {\n",
              "        vertical-align: middle;\n",
              "    }\n",
              "\n",
              "    .dataframe tbody tr th {\n",
              "        vertical-align: top;\n",
              "    }\n",
              "\n",
              "    .dataframe thead th {\n",
              "        text-align: right;\n",
              "    }\n",
              "</style>\n",
              "<table border=\"1\" class=\"dataframe\">\n",
              "  <thead>\n",
              "    <tr style=\"text-align: right;\">\n",
              "      <th></th>\n",
              "      <th>SName</th>\n",
              "      <th>Lyric</th>\n",
              "      <th>Genre</th>\n",
              "      <th>Artist</th>\n",
              "      <th>lyric_length</th>\n",
              "    </tr>\n",
              "  </thead>\n",
              "  <tbody>\n",
              "    <tr>\n",
              "      <th>2157</th>\n",
              "      <td>Family Affair</td>\n",
              "      <td>Refrain:. Let's get it crunkupon. We gon' have...</td>\n",
              "      <td>Hip Hop</td>\n",
              "      <td>Mary J. Blige</td>\n",
              "      <td>567</td>\n",
              "    </tr>\n",
              "    <tr>\n",
              "      <th>3187</th>\n",
              "      <td>Ransom (ft. Lil' Wayne)</td>\n",
              "      <td>Ransom,. . Yeah,. its Drizzy Baby. you already...</td>\n",
              "      <td>Hip Hop</td>\n",
              "      <td>Drake</td>\n",
              "      <td>967</td>\n",
              "    </tr>\n",
              "    <tr>\n",
              "      <th>9164</th>\n",
              "      <td>Close To Me</td>\n",
              "      <td>T.O.S.. (50 Cent). Unstoppable, incredible, im...</td>\n",
              "      <td>Hip Hop</td>\n",
              "      <td>G-Unit</td>\n",
              "      <td>557</td>\n",
              "    </tr>\n",
              "    <tr>\n",
              "      <th>2145</th>\n",
              "      <td>Zone</td>\n",
              "      <td>uhh, yea. uh uh uh. alright, well alright. . i...</td>\n",
              "      <td>Hip Hop</td>\n",
              "      <td>Drake</td>\n",
              "      <td>400</td>\n",
              "    </tr>\n",
              "    <tr>\n",
              "      <th>6442</th>\n",
              "      <td>Why You Up In Here (feat. Ludacris, Git Fresh ...</td>\n",
              "      <td>Flo-Rida. Gucci!. Bird!. I done bought all thi...</td>\n",
              "      <td>Hip Hop</td>\n",
              "      <td>Flo Rida</td>\n",
              "      <td>524</td>\n",
              "    </tr>\n",
              "    <tr>\n",
              "      <th>...</th>\n",
              "      <td>...</td>\n",
              "      <td>...</td>\n",
              "      <td>...</td>\n",
              "      <td>...</td>\n",
              "      <td>...</td>\n",
              "    </tr>\n",
              "    <tr>\n",
              "      <th>31738</th>\n",
              "      <td>What do You Need?</td>\n",
              "      <td>What do you need from me tonight?. I feel you ...</td>\n",
              "      <td>Rock</td>\n",
              "      <td>Goo Goo Dolls</td>\n",
              "      <td>197</td>\n",
              "    </tr>\n",
              "    <tr>\n",
              "      <th>31425</th>\n",
              "      <td>Rebel Heart</td>\n",
              "      <td>(R. Stewart, J. Golub, C. Kentis, C. Rojas). I...</td>\n",
              "      <td>Rock</td>\n",
              "      <td>Rod Stewart</td>\n",
              "      <td>412</td>\n",
              "    </tr>\n",
              "    <tr>\n",
              "      <th>35407</th>\n",
              "      <td>Before The Dawn</td>\n",
              "      <td>Meet me after dark again and I'll hold you. I ...</td>\n",
              "      <td>Rock</td>\n",
              "      <td>Evanescence</td>\n",
              "      <td>114</td>\n",
              "    </tr>\n",
              "    <tr>\n",
              "      <th>35281</th>\n",
              "      <td>Spanish is the Loving Tongue</td>\n",
              "      <td>Broke my heart, lost my soul. Adios,mi cora so...</td>\n",
              "      <td>Rock</td>\n",
              "      <td>Bob Dylan</td>\n",
              "      <td>126</td>\n",
              "    </tr>\n",
              "    <tr>\n",
              "      <th>38982</th>\n",
              "      <td>There Goes My Baby</td>\n",
              "      <td>There goes my baby going for a ride yeah there...</td>\n",
              "      <td>Rock</td>\n",
              "      <td>Ricky Nelson</td>\n",
              "      <td>113</td>\n",
              "    </tr>\n",
              "  </tbody>\n",
              "</table>\n",
              "<p>15000 rows × 5 columns</p>\n",
              "</div>\n",
              "      <button class=\"colab-df-convert\" onclick=\"convertToInteractive('df-f77558d2-cc1d-4390-a3d7-f5c9c85d77c6')\"\n",
              "              title=\"Convert this dataframe to an interactive table.\"\n",
              "              style=\"display:none;\">\n",
              "        \n",
              "  <svg xmlns=\"http://www.w3.org/2000/svg\" height=\"24px\"viewBox=\"0 0 24 24\"\n",
              "       width=\"24px\">\n",
              "    <path d=\"M0 0h24v24H0V0z\" fill=\"none\"/>\n",
              "    <path d=\"M18.56 5.44l.94 2.06.94-2.06 2.06-.94-2.06-.94-.94-2.06-.94 2.06-2.06.94zm-11 1L8.5 8.5l.94-2.06 2.06-.94-2.06-.94L8.5 2.5l-.94 2.06-2.06.94zm10 10l.94 2.06.94-2.06 2.06-.94-2.06-.94-.94-2.06-.94 2.06-2.06.94z\"/><path d=\"M17.41 7.96l-1.37-1.37c-.4-.4-.92-.59-1.43-.59-.52 0-1.04.2-1.43.59L10.3 9.45l-7.72 7.72c-.78.78-.78 2.05 0 2.83L4 21.41c.39.39.9.59 1.41.59.51 0 1.02-.2 1.41-.59l7.78-7.78 2.81-2.81c.8-.78.8-2.07 0-2.86zM5.41 20L4 18.59l7.72-7.72 1.47 1.35L5.41 20z\"/>\n",
              "  </svg>\n",
              "      </button>\n",
              "      \n",
              "  <style>\n",
              "    .colab-df-container {\n",
              "      display:flex;\n",
              "      flex-wrap:wrap;\n",
              "      gap: 12px;\n",
              "    }\n",
              "\n",
              "    .colab-df-convert {\n",
              "      background-color: #E8F0FE;\n",
              "      border: none;\n",
              "      border-radius: 50%;\n",
              "      cursor: pointer;\n",
              "      display: none;\n",
              "      fill: #1967D2;\n",
              "      height: 32px;\n",
              "      padding: 0 0 0 0;\n",
              "      width: 32px;\n",
              "    }\n",
              "\n",
              "    .colab-df-convert:hover {\n",
              "      background-color: #E2EBFA;\n",
              "      box-shadow: 0px 1px 2px rgba(60, 64, 67, 0.3), 0px 1px 3px 1px rgba(60, 64, 67, 0.15);\n",
              "      fill: #174EA6;\n",
              "    }\n",
              "\n",
              "    [theme=dark] .colab-df-convert {\n",
              "      background-color: #3B4455;\n",
              "      fill: #D2E3FC;\n",
              "    }\n",
              "\n",
              "    [theme=dark] .colab-df-convert:hover {\n",
              "      background-color: #434B5C;\n",
              "      box-shadow: 0px 1px 3px 1px rgba(0, 0, 0, 0.15);\n",
              "      filter: drop-shadow(0px 1px 2px rgba(0, 0, 0, 0.3));\n",
              "      fill: #FFFFFF;\n",
              "    }\n",
              "  </style>\n",
              "\n",
              "      <script>\n",
              "        const buttonEl =\n",
              "          document.querySelector('#df-f77558d2-cc1d-4390-a3d7-f5c9c85d77c6 button.colab-df-convert');\n",
              "        buttonEl.style.display =\n",
              "          google.colab.kernel.accessAllowed ? 'block' : 'none';\n",
              "\n",
              "        async function convertToInteractive(key) {\n",
              "          const element = document.querySelector('#df-f77558d2-cc1d-4390-a3d7-f5c9c85d77c6');\n",
              "          const dataTable =\n",
              "            await google.colab.kernel.invokeFunction('convertToInteractive',\n",
              "                                                     [key], {});\n",
              "          if (!dataTable) return;\n",
              "\n",
              "          const docLinkHtml = 'Like what you see? Visit the ' +\n",
              "            '<a target=\"_blank\" href=https://colab.research.google.com/notebooks/data_table.ipynb>data table notebook</a>'\n",
              "            + ' to learn more about interactive tables.';\n",
              "          element.innerHTML = '';\n",
              "          dataTable['output_type'] = 'display_data';\n",
              "          await google.colab.output.renderOutput(dataTable, element);\n",
              "          const docLink = document.createElement('div');\n",
              "          docLink.innerHTML = docLinkHtml;\n",
              "          element.appendChild(docLink);\n",
              "        }\n",
              "      </script>\n",
              "    </div>\n",
              "  </div>\n",
              "  "
            ],
            "text/plain": [
              "                                                   SName  ... lyric_length\n",
              "2157                                       Family Affair  ...          567\n",
              "3187                             Ransom (ft. Lil' Wayne)  ...          967\n",
              "9164                                         Close To Me  ...          557\n",
              "2145                                                Zone  ...          400\n",
              "6442   Why You Up In Here (feat. Ludacris, Git Fresh ...  ...          524\n",
              "...                                                  ...  ...          ...\n",
              "31738                                  What do You Need?  ...          197\n",
              "31425                                        Rebel Heart  ...          412\n",
              "35407                                    Before The Dawn  ...          114\n",
              "35281                       Spanish is the Loving Tongue  ...          126\n",
              "38982                                 There Goes My Baby  ...          113\n",
              "\n",
              "[15000 rows x 5 columns]"
            ]
          },
          "metadata": {},
          "execution_count": 65
        }
      ],
      "source": [
        "df"
      ]
    },
    {
      "cell_type": "code",
      "execution_count": null,
      "id": "07816936",
      "metadata": {
        "id": "07816936"
      },
      "outputs": [],
      "source": [
        "\n",
        "possible_labels = df.Genre.unique()\n",
        "\n",
        "label_dict = {}\n",
        "for index, possible_label in enumerate(possible_labels):\n",
        "    label_dict[possible_label] = index\n",
        "label_dict\n",
        "\n",
        "df['label'] = df.Genre.replace(label_dict)"
      ]
    },
    {
      "cell_type": "code",
      "execution_count": null,
      "id": "8b098be8",
      "metadata": {
        "id": "8b098be8"
      },
      "outputs": [],
      "source": [
        "import numpy as np\n",
        "label_encoder = preprocessing.LabelEncoder()\n",
        "labels = label_encoder.fit_transform(df.Genre.values)\n"
      ]
    },
    {
      "cell_type": "code",
      "execution_count": null,
      "id": "afdd5f53",
      "metadata": {
        "scrolled": true,
        "id": "afdd5f53"
      },
      "outputs": [],
      "source": [
        "from sklearn.model_selection import train_test_split\n",
        "\n",
        "xtrain, xtest, ytrain, ytest = train_test_split(df.Lyric.values, \n",
        "                                                df.label.values, \n",
        "                                                random_state=42, \n",
        "                                                test_size=0.1, \n",
        "                                                shuffle=True)"
      ]
    },
    {
      "cell_type": "code",
      "source": [
        "xtrain"
      ],
      "metadata": {
        "colab": {
          "base_uri": "https://localhost:8080/"
        },
        "id": "OHT1tPmpRlGw",
        "outputId": "57e738f7-b9be-460f-85f1-51f8c398236a"
      },
      "id": "OHT1tPmpRlGw",
      "execution_count": null,
      "outputs": [
        {
          "output_type": "execute_result",
          "data": {
            "text/plain": [
              "array([\"When you won't go along. Some will feel like you can't find your way. Heaven knows. Heaven knows I've seen it all before. Now don't get me wrong. I've seen many a life gone astray. When someone goes. All your bows won't make it any better so let it go. CHORUS. Shut up and take it like a man. You need us to get a life. For your own good we'll take you by the hand. 'Cause you need a little more. . Maybe no one will say it. Maybe no one's aware it goes on. All I know. All I know it's like going off the deep end. Could you make a decision?. Could you think for yourself and go on?. Everyone knows. Everyone knows you've got to fit into the mainstream so save your woes. . CHORUS. Close your eyes. Look away now. Make believe while you can. So you'd best go along. Don't let on if you can't find your way. Many more. Many more do it for you. Because heaven knows. Heaven knows it's like playing with fire. Your life's a throw. . CHORUS.\",\n",
              "       \"East New York!! oh god!!. Yeah, got that gangsta gangsta gully gully. Yeah, big business, Joe Crack the don. Terror Squad baby, BX boro, holdin down to the death. It's nothin realer than this you heard, uh what huh. [Verse 1]. Its like I'm always out to prove somethin. Everytime I stop on the block. I set up shop and try to move somethin. And I'm talkin about kilo's and pounds. Fuck a desert eagle. I got shit that spit over 300 rounds. Can tell by the scar on my neck. I spar with the best. Joey boombay-ay, hit hard with the left. Sharp with the right, I dont know why I bother. Y'all not retarded. Man ya know what the squadron is like. And he can get it too. But I let him die slow death I probably just collectin his food. I'm deadin ya crew. To tell ya the truth we not stoppin. I'm like lil' lease from b-street man I keep poppin. The streets knockin my shit, the d's watchin my shift. We can do this however, east glock or the fifth. I leave you chumps to frame, right where you standin. Daughter slaughtered and maimed you should have paid the ransom. [chorus x2]. Its the T E R R O R squad, nigga get it right. Its the nigga joe the don. And the kid flow hard, ask the clique. Niggas be like you crazy, he got classic shit. [Verse 2]. Its the killa kid from the bronx. Holdin down to the death. You can hear the squad comin. By the sound of the techs. A hundred rounds in a sec. Leave you on front page. You would think I was down with the ROC. The way I just blazed. I puff haze to keep my mind at ease. Can't wait for the day to see shyne released. This hip hop shit is unjust, who you gon' trust. When most of these record label execs is dumb fucks. I keep a gun tuck under my belly. Only nigga on the island makin calls from the celly. We watchin belly on the DV, 60 inch TV. Flat shit attatch to the back of the CP. This game need me, I'm like gotti once I'm gone. All you gonna have left is a bunch of fake dons. Champagne with the women, run a game for the puddin. Its all the same, still runnin trains with my hoodmen. A bunch of goodmen, but dont get it confused. We like dinero in heat nigga, nothin to loose. I know you seen the shoot out scene. Dont make us reneact, cuz I rather be layed up in ?? with a featured actress. [chorus x2]. Its the T E R R O R squad, nigga get it right. Its the nigga joe the don. And the kid flow hard, ask the clique. Niggas be like you crazy, he got classic shit. Yea, hell yea, uh brought to you by the realest motherfuckers in this game. The infamous terror squad, yea, real niggas, real dons. Real G's haha, come on, woo uh. Ton' Montana rest in peace forever, never forget.. Big Pun!\",\n",
              "       \"[Verse 1: Young Hawaii Slim]. Young Hawaii Slim. Step through the do'. Lit up a swish. And yes I sco'. On the dance flo'. Dancing and moving. Bobbing with something cute. And if you hate, please do it. Movin', manuverin' like a quarter back. Tryna live laugh if it's expensive, I'm a order that. Across the border strapped. Nahh, Smokin fat. With my Russian. Compadre. Y.H. iss got all his game from his madre. Like it's birthday or Christmas time. I'm tryna trap the stack,. to see one hundred g's. even if it's from quarters nicks and dimes nigga in the nick of time. I'll be gettin it all. Money sure doesnt sleep neither does this song. I'm loaded with kreayshawn. and the ruski kush master smokin. on the top floor on this dutch master. [Verse 2: Kreayshawn]. Step in the party in the weekend on the ay. All the chickens holla, man they tryna get laid. But me I'm gettin paidd in miami shadeee. Snuggly til I fade. Man I'm livin greatt. You might see me poppin up so get familiar. Young kreayshawn knockin at yaa door you better answer. I'm spreading like cancer and I'm swoopin on ya chick. And now she's on me like a fly on shit. But I don't give a shit. I'm walkin with my main bitch. And she roll a blunt quick. Lookin like a chopstick. And I'm just high. Like every single time. Slidin through with the kush. Smokin out some guy. And now I'm always on time. My swag is never late. I know these girls hate. But I blow them hoes out like candles on my birthday cake. Never been a barbie man I've never been fake. Somethin like a zommpire. Comin' through with 25 lighters. I've always been on fire maayne, and really hot. Man I'm kreayshawn I'm crazyy I don't stop\",\n",
              "       ...,\n",
              "       'Ohh wooaah (3x). You know you love me,I know you care. Just shout whenever, And I\\'ll be there. You want my love, You want my heart. And we will never ever ever be apart. Are we an item? Girl quit playing!. \"We\\'re just friends\"? What are you saying?. Said there\\'s another and looked right in my eyes. My first love broke my heart for the first time,. And I was like. Baby, baby, baby oooh. Baby, baby, baby no. Baby, baby, baby oooh. Thought you\\'d always be mine mine. Baby, baby, baby oooh. Like baby, baby, baby noo. Like baby, baby, baby oooh. I thought you\\'d always be mine, oh oh. For you, I would have done whatever. And I just can\\'t believe, we ain\\'t together. And I wanna play it cool, But I\\'m losin\\' you. I\\'ll buy you anything, I\\'ll buy you any ring. And im in pieces, baby fix me. And just shake me til\\' you wake me from this bad dream. I\\'m going down, down, down. And I just can\\'t believe. My first love won\\'t be around. And I\\'m like. Baby, baby, baby oooh. Like baby, baby, baby noo. Like baby, baby, baby oooh. I thought you\\'d always be mine, oh oh. Baby, baby, baby oooh. Like baby, baby, baby noo. Like baby, baby, baby oooh. I thought you\\'d always be mine, oh oh. (Ludacris). Luda!. When I was thirteen. I had my first love. There was nobody that compared to my baby. And nobody came to between us or could ever come above. She had me going crazy. Oh I starstruck. She woke me up daily. Don\\'t need no Starbucks. She make my heart pound. I skip a beat when. I see her in the street and. At school on the playground. But I really wanna. See her on the weekend. She knows she got me dazing. Cuz she was so amazing. And now my heart is breaking. But I just keep on saying. Baby, baby, baby oooh. Like baby, baby, baby noo. Like baby, baby, baby oooh. I thought you\\'d always be mine. Baby, baby, baby oooh. Like baby, baby, baby noo. Like baby, baby, baby oooh. I thought you`d always be mine, mine. And I was like. Baby, baby, baby oooh. Like baby, baby, baby noo. Like baby, baby, baby oooh. I thought you`d always be mine, mine. I\\'m gone. Yeah Yeah (5x). Now I\\'m all gone, gone, gone, ooh. I\\'m gone, ooohh',\n",
              "       '[RZA]. All you hoes, be cryin for these bitches. All you niggaz, be cryin for these hoes. {*scratched samples*}. \"Both hands clusty\" - Ghost, \"Pullin out gats\" - Raekwon. \"Double barreled\" - Meth, \"Blew off the burner kinda dusty\" - Ghost. \"We back, don\\'t test\" - Raekwon, \"Bring it to em proper, potnah\" - Meth. \"Comin from the thirty-six chamber\" - Meth. \"Math, let the plate spin\" - GZA, \"Many brothers y\\'all be sparkin\". \"Stray shots, all on the block that stays hot\" - Inspectah Deck. \"If ya fuck with Wu, we gots ta fuck witchu\" - Method Man. [Ghostface Killah]. Who the fuck knocked our buildings down?. Who the man behind the World Trade massacres, step up now. Where the four planes at huh is you insane bitch?. Fly that shit over my hood and get blown to bits!. No disrespect, that\\'s where I rest my head. I understand you gotta rest yours true, nigga my people\\'s dead. America, together we stand, divided we fall. Mr. Bush sit down, I\\'m in charge of the war!. [Inspectah Deck]. Yes yes y\\'all, the I-N-S bless y\\'all. Stop hearts like cholesterol, let\\'s brawl. Never fall, tear it down like a wreckin ball. Role call where my niggaz that\\'s one for all. And all for one, we draw the guns on impulse. Cash in the envelope, spend it on kinfolk. Then smoke a ounce as we count mills. Providin you pure ecstasy without pills. [Chorus: Method Man]. Y\\'all know the rules, we don\\'t fuck with fools man. How the fuck did we get so cool man?. Never ever disrespect my crew. If ya fuck with Wu we gots ta fuck witchu. [Masta Killa]. Y\\'all dogs better guard ya grills, it\\'s all real. We live from (?), it\\'s the God I-Reelz. Yo wonderful, spark the blillz. Let me build with the people for the mills. I\\'m rollin with the Rebel I-Ill from Killa Hill, peace to Brownsville. Brothers that\\'ll kill for the will of the righteous. Twenty-five to lifers, true and livin snipers. You wait like \"Sixth Sense\" \\'til hard to kill. [StreetLife]. How you livin StreetLife? I\\'m surrounded by criminals. Serial killers tote guns without the serial. High-tech, street intellect, all digital. Project original, sheisty individual. New York\\'s bravest, always supply you with the latest. We hall of famers, and still hit you with the greatest. Took a year hiatus, now you wanna hate us. Thanks to all you haters for all the cream you made us. [Chorus]. [Raekwon the Chef]. Sendin letters to (?), my cousin in Wendy\\'s on Viacom. At home, it\\'s worth money, I adorns. Order drinks, all real niggaz order your minks yo. We got the fitteds on, lookin all fink. Daddy everybody get money from now on. Payday flash Visas livin like, Easter e\\'ryday. Don\\'t fuck Benz, rather a 430. That shit that float through water, eyeball come up, drop birdies yo. [Method Man]. We can eat right, or we can clap these toys. I\\'m with StreetLife, ain\\'t never been a Backstreet Boy. Who y\\'all kiddin? Tryin to act like my shoe fittin. Confused with ya head up yo\\' ass like who\\'s shittin?. It\\'s Hot Nixon, same team same position. Battin average three-five-seven and still hittin. Y\\'all still bitchin, still lame and still chicken. I\\'m still here, one leg missin and still kickin. Cause I\\'m haaaaaaaaaaaard! Hard like a criminal. Love like a tennis shoe, throw slug to finish you. It\\'s the Method Man, for short Mr. Meth. I can tell this motherfucker ain\\'t Wu, look at his neck. \"Comin from the thirty-six chamber\" - Meth. \"Bring it to em proper, potnah\" - Meth - \"Wu, Tang, Wu, Tang\". [Method Man]. It\\'s Wu-Tang, rushin yo\\' gang, crushin the game. Pretty thugs, clutchin they chain, hand cuppin they thang. Who get strange, gassed up playin with flames. Let a nigga take off his shades, see what I\\'m sayin is... [Chorus].',\n",
              "       \"I came upon a child of God. He was walking along the road. I asked him, where are you going?. And this he told me:. I'm going down to Yasgur's Farm,. I’m going to join in a rock and roll band.. I’m going to camp out on the land. I’m going to try to get my soul free. CHORUS:. We are stardust, we are golden,. And we got to get ourselves back to the garden.. And can I walk beside you?. I have come here to lose the smog,. And I feel to be a cog in something turning.. Or maybe it's just the time of year,. Or maybe it's the time of man.. I don't know who I am,. But you know life is for learning.. CHORUS. By the time we got to Woodstock,. We were half a million strong, and. Everywhere there was song and celebration.. . And I dreamed I saw the bombers. Riding shotgun in the sky,. And they were turning into butterflies. Above our nation.. . We are stardust, a billion year old carbon,. We are golden caught in the devil's bargain. And we got to get ourselves back to the garden.\"],\n",
              "      dtype=object)"
            ]
          },
          "metadata": {},
          "execution_count": 69
        }
      ]
    },
    {
      "cell_type": "code",
      "execution_count": null,
      "id": "2ff60121",
      "metadata": {
        "id": "2ff60121"
      },
      "outputs": [],
      "source": [
        "from tensorflow.keras.layers import TextVectorization\n",
        "import tensorflow as tf\n",
        "vectorizer = TextVectorization(max_tokens=20000, output_sequence_length=500)\n",
        "text_ds = tf.data.Dataset.from_tensor_slices(xtrain).batch(128)\n",
        "vectorizer.adapt(text_ds)"
      ]
    },
    {
      "cell_type": "code",
      "execution_count": null,
      "id": "857105ae",
      "metadata": {
        "colab": {
          "base_uri": "https://localhost:8080/"
        },
        "id": "857105ae",
        "outputId": "bede1581-50c6-41f6-9aa1-032d5d235d55"
      },
      "outputs": [
        {
          "output_type": "execute_result",
          "data": {
            "text/plain": [
              "['', '[UNK]', 'the', 'i', 'you']"
            ]
          },
          "metadata": {},
          "execution_count": 71
        }
      ],
      "source": [
        "vectorizer.get_vocabulary()[:5]\n"
      ]
    },
    {
      "cell_type": "code",
      "execution_count": null,
      "id": "98fdef75",
      "metadata": {
        "colab": {
          "base_uri": "https://localhost:8080/"
        },
        "id": "98fdef75",
        "outputId": "906c1b6d-af85-4f80-da99-936ba5fa5889"
      },
      "outputs": [
        {
          "output_type": "execute_result",
          "data": {
            "text/plain": [
              "array([   2, 1290, 1726,   14,    2, 7317])"
            ]
          },
          "metadata": {},
          "execution_count": 72
        }
      ],
      "source": [
        "output = vectorizer([[\"the cat sat on the mat\"]])\n",
        "output.numpy()[0, :6]"
      ]
    },
    {
      "cell_type": "code",
      "execution_count": null,
      "id": "9877f0ff",
      "metadata": {
        "id": "9877f0ff"
      },
      "outputs": [],
      "source": [
        "voc = vectorizer.get_vocabulary()\n",
        "word_index = dict(zip(voc, range(len(voc))))"
      ]
    },
    {
      "cell_type": "code",
      "source": [
        "test = [\"the\", \"cat\", \"sat\", \"on\", \"the\", \"mat\"]\n",
        "[word_index[w] for w in test]"
      ],
      "metadata": {
        "colab": {
          "base_uri": "https://localhost:8080/"
        },
        "id": "TTlsMTMHSmOa",
        "outputId": "1fdcebf0-e28b-4b48-91bc-0bb0e998dfc4"
      },
      "id": "TTlsMTMHSmOa",
      "execution_count": null,
      "outputs": [
        {
          "output_type": "execute_result",
          "data": {
            "text/plain": [
              "[2, 1290, 1726, 14, 2, 7317]"
            ]
          },
          "metadata": {},
          "execution_count": 74
        }
      ]
    },
    {
      "cell_type": "code",
      "source": [
        "#!wget http://nlp.stanford.edu/data/glove.6B.zip\n",
        "#!unzip glove*.zip\n"
      ],
      "metadata": {
        "id": "zNxOBNS6zEGs"
      },
      "id": "zNxOBNS6zEGs",
      "execution_count": null,
      "outputs": []
    },
    {
      "cell_type": "code",
      "execution_count": null,
      "id": "93c2a48b",
      "metadata": {
        "colab": {
          "base_uri": "https://localhost:8080/"
        },
        "id": "93c2a48b",
        "outputId": "f50b2ca3-dc92-46a2-bdc0-673c6668b302"
      },
      "outputs": [
        {
          "output_type": "stream",
          "name": "stderr",
          "text": [
            "400000it [00:19, 20950.44it/s]"
          ]
        },
        {
          "output_type": "stream",
          "name": "stdout",
          "text": [
            "Found 400000 word vectors.\n"
          ]
        },
        {
          "output_type": "stream",
          "name": "stderr",
          "text": [
            "\n"
          ]
        }
      ],
      "source": [
        "from tqdm import tqdm\n",
        "\n",
        "embedding_index = {}\n",
        "f = open('glove.6B.300d.txt',encoding='utf8')\n",
        "for line in tqdm(f):\n",
        "  word, coefs = line.split(maxsplit=1)\n",
        "  coefs = np.fromstring(coefs, \"f\", sep=\" \")\n",
        "  embedding_index[word] = coefs\n",
        "\n",
        "print(\"Found %s word vectors.\" % len(embedding_index))"
      ]
    },
    {
      "cell_type": "code",
      "execution_count": null,
      "id": "33fe7c8e",
      "metadata": {
        "colab": {
          "base_uri": "https://localhost:8080/"
        },
        "id": "33fe7c8e",
        "outputId": "81d0c821-b43d-430f-9f7f-5985d7c78157"
      },
      "outputs": [
        {
          "output_type": "stream",
          "name": "stdout",
          "text": [
            "Converted 17108 words (2892 misses)\n"
          ]
        }
      ],
      "source": [
        "num_tokens = len(voc) + 2\n",
        "embedding_dim = 300\n",
        "hits = 0\n",
        "misses = 0\n",
        "\n",
        "# Prepare embedding matrix\n",
        "embedding_matrix = np.zeros((num_tokens, embedding_dim))\n",
        "for word, i in word_index.items():\n",
        "    embedding_vector = embedding_index.get(word)\n",
        "    if embedding_vector is not None:\n",
        "        # Words not found in embedding index will be all-zeros.\n",
        "        # This includes the representation for \"padding\" and \"OOV\"\n",
        "        embedding_matrix[i] = embedding_vector\n",
        "        hits += 1\n",
        "    else:\n",
        "        misses += 1\n",
        "print(\"Converted %d words (%d misses)\" % (hits, misses))"
      ]
    },
    {
      "cell_type": "code",
      "execution_count": null,
      "id": "88cf5d71",
      "metadata": {
        "id": "88cf5d71"
      },
      "outputs": [],
      "source": [
        "from tensorflow.keras.layers import Embedding\n",
        "import keras\n",
        "embedding_layer = Embedding(\n",
        "    num_tokens,\n",
        "    embedding_dim,\n",
        "    embeddings_initializer=keras.initializers.Constant(embedding_matrix),\n",
        "    trainable=True,\n",
        ")\n"
      ]
    },
    {
      "cell_type": "code",
      "execution_count": null,
      "id": "037a550d",
      "metadata": {
        "colab": {
          "base_uri": "https://localhost:8080/"
        },
        "id": "037a550d",
        "outputId": "1af33c42-4f0d-4bf5-efa4-925317b759ff"
      },
      "outputs": [
        {
          "output_type": "stream",
          "name": "stdout",
          "text": [
            "Model: \"model_6\"\n",
            "_________________________________________________________________\n",
            " Layer (type)                Output Shape              Param #   \n",
            "=================================================================\n",
            " input_10 (InputLayer)       [(None, 500)]             0         \n",
            "                                                                 \n",
            " embedding_3 (Embedding)     (None, 500, 300)          6000600   \n",
            "                                                                 \n",
            " flatten_3 (Flatten)         (None, 150000)            0         \n",
            "                                                                 \n",
            " dense_7 (Dense)             (None, 1024)              153601024 \n",
            "                                                                 \n",
            " outputs (Dense)             (None, 3)                 3075      \n",
            "                                                                 \n",
            "=================================================================\n",
            "Total params: 159,604,699\n",
            "Trainable params: 159,604,699\n",
            "Non-trainable params: 0\n",
            "_________________________________________________________________\n"
          ]
        }
      ],
      "source": [
        "from tensorflow.keras import layers\n",
        "from keras.layers import Input, Flatten\n",
        "\n",
        "int_sequences_input = keras.Input(shape=(500,), dtype=\"int64\")\n",
        "embedded_sequences = embedding_layer(int_sequences_input)\n",
        "flat_emb = Flatten()(embedded_sequences)\n",
        "\n",
        "#x = layers.Conv1D(128, 5, activation=\"relu\")(flat_emb)\n",
        "#x = layers.GlobalMaxPooling1D()(x)\n",
        "x = tf.keras.layers.Dense(1024, activation='relu')(flat_emb)\n",
        "preds = tf.keras.layers.Dense(3, activation='softmax', name='outputs')(x)\n",
        "model = keras.Model(int_sequences_input, preds)\n",
        "model.summary()\n"
      ]
    },
    {
      "cell_type": "code",
      "execution_count": null,
      "id": "ce3472bd",
      "metadata": {
        "id": "ce3472bd"
      },
      "outputs": [],
      "source": [
        "from keras.utils import np_utils\n",
        "\n",
        "ytrain_encode = np_utils.to_categorical(ytrain)\n",
        "ytest_encode = np_utils.to_categorical(ytest)"
      ]
    },
    {
      "cell_type": "code",
      "source": [
        "x_train = vectorizer(np.array([[s] for s in xtrain])).numpy()\n",
        "x_test = vectorizer(np.array([[s] for s in xtest])).numpy()\n",
        "\n",
        "y_train = np.array(ytrain)\n",
        "y_test = np.array(ytest)"
      ],
      "metadata": {
        "id": "izaR4ufFUZTF"
      },
      "id": "izaR4ufFUZTF",
      "execution_count": null,
      "outputs": []
    },
    {
      "cell_type": "code",
      "source": [
        "x_train.shape"
      ],
      "metadata": {
        "colab": {
          "base_uri": "https://localhost:8080/"
        },
        "id": "droTEIIcmBXB",
        "outputId": "f1afbdef-9c59-4175-eee7-890bfbb8ebc2"
      },
      "id": "droTEIIcmBXB",
      "execution_count": null,
      "outputs": [
        {
          "output_type": "execute_result",
          "data": {
            "text/plain": [
              "(13500, 500)"
            ]
          },
          "metadata": {},
          "execution_count": 94
        }
      ]
    },
    {
      "cell_type": "code",
      "source": [
        "model.compile(\n",
        "    loss=\"sparse_categorical_crossentropy\", optimizer=\"adam\", metrics=[\"acc\"]\n",
        ")\n",
        "model.fit(x_train, y_train, batch_size=128, epochs=10,validation_data=(x_test, y_test))\n",
        "y_pred=model.predict(x_test)"
      ],
      "metadata": {
        "colab": {
          "base_uri": "https://localhost:8080/"
        },
        "id": "9aCOXqwwUwds",
        "outputId": "3cab7e1b-04e0-406d-bec5-1ebb94f2d5ce"
      },
      "id": "9aCOXqwwUwds",
      "execution_count": null,
      "outputs": [
        {
          "output_type": "stream",
          "name": "stdout",
          "text": [
            "Epoch 1/10\n",
            "106/106 [==============================] - 7s 60ms/step - loss: 0.1495 - acc: 0.9561 - val_loss: 1.0558 - val_acc: 0.6880\n",
            "Epoch 2/10\n",
            "106/106 [==============================] - 6s 59ms/step - loss: 0.0774 - acc: 0.9882 - val_loss: 1.3982 - val_acc: 0.6713\n",
            "Epoch 3/10\n",
            "106/106 [==============================] - 6s 59ms/step - loss: 0.0556 - acc: 0.9936 - val_loss: 1.3410 - val_acc: 0.6793\n",
            "Epoch 4/10\n",
            "106/106 [==============================] - 6s 60ms/step - loss: 0.0357 - acc: 0.9960 - val_loss: 1.4208 - val_acc: 0.6780\n",
            "Epoch 5/10\n",
            "106/106 [==============================] - 6s 60ms/step - loss: 0.0296 - acc: 0.9972 - val_loss: 1.4370 - val_acc: 0.6773\n",
            "Epoch 6/10\n",
            "106/106 [==============================] - 6s 60ms/step - loss: 0.0215 - acc: 0.9975 - val_loss: 1.4061 - val_acc: 0.6813\n",
            "Epoch 7/10\n",
            "106/106 [==============================] - 6s 60ms/step - loss: 0.0170 - acc: 0.9977 - val_loss: 1.4863 - val_acc: 0.6827\n",
            "Epoch 8/10\n",
            "106/106 [==============================] - 6s 61ms/step - loss: 0.0301 - acc: 0.9973 - val_loss: 1.5057 - val_acc: 0.6813\n",
            "Epoch 9/10\n",
            "106/106 [==============================] - 7s 61ms/step - loss: 0.0252 - acc: 0.9970 - val_loss: 1.4132 - val_acc: 0.6773\n",
            "Epoch 10/10\n",
            "106/106 [==============================] - 7s 62ms/step - loss: 0.0272 - acc: 0.9976 - val_loss: 1.4198 - val_acc: 0.6833\n"
          ]
        }
      ]
    },
    {
      "cell_type": "markdown",
      "id": "64c3679b",
      "metadata": {
        "id": "64c3679b"
      },
      "source": [
        "Large diff between acc on training vs testing (might be overfit)?"
      ]
    },
    {
      "cell_type": "code",
      "execution_count": null,
      "id": "e3fddd79",
      "metadata": {
        "scrolled": true,
        "colab": {
          "base_uri": "https://localhost:8080/"
        },
        "id": "e3fddd79",
        "outputId": "29fbbbf3-396b-40c8-b817-71d5563b734a"
      },
      "outputs": [
        {
          "output_type": "stream",
          "name": "stdout",
          "text": [
            "              precision    recall  f1-score   support\n",
            "\n",
            "           0       0.87      0.79      0.83       516\n",
            "           1       0.57      0.59      0.58       503\n",
            "           2       0.63      0.67      0.65       481\n",
            "\n",
            "    accuracy                           0.68      1500\n",
            "   macro avg       0.69      0.68      0.68      1500\n",
            "weighted avg       0.69      0.68      0.69      1500\n",
            "\n"
          ]
        }
      ],
      "source": [
        "from sklearn.metrics import classification_report\n",
        "\n",
        "y_pred_bool = np.argmax(y_pred, axis=1)\n",
        "print(classification_report(y_test, y_pred_bool))"
      ]
    }
  ],
  "metadata": {
    "kernelspec": {
      "display_name": "Python 3",
      "name": "python3"
    },
    "language_info": {
      "name": "python"
    },
    "colab": {
      "name": "GloVe_FFN2.ipynb",
      "provenance": [],
      "collapsed_sections": []
    },
    "accelerator": "GPU"
  },
  "nbformat": 4,
  "nbformat_minor": 5
}