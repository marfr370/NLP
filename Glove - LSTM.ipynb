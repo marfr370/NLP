{
 "cells": [
  {
   "cell_type": "markdown",
   "id": "f81c1e25",
   "metadata": {},
   "source": [
    "- i) Removing of stop-words, punctuations, URLs, etc.\n",
    "- ii) Slang lookup\n",
    "- iii) Spelling correction\n",
    "- iv) Escaping HTML entries.\n",
    "- v) Lemmatisation\n",
    "- vi) Stemming"
   ]
  },
  {
   "cell_type": "code",
   "execution_count": 10,
   "id": "162ec456",
   "metadata": {},
   "outputs": [],
   "source": [
    "#library imports\n",
    "import torch\n",
    "import torch.nn as nn\n",
    "import pandas as pd\n",
    "import numpy as np\n",
    "import re\n",
    "import spacy\n",
    "from collections import Counter\n",
    "from torch.utils.data import Dataset, DataLoader\n",
    "import torch.nn.functional as F\n",
    "import string\n",
    "from torch.nn.utils.rnn import pack_padded_sequence, pad_packed_sequence\n",
    "from sklearn.metrics import mean_squared_error"
   ]
  },
  {
   "cell_type": "code",
   "execution_count": 11,
   "id": "d284a660",
   "metadata": {},
   "outputs": [],
   "source": [
    "import pandas as pd\n",
    "df = pd.read_csv('processed_lyrics.csv')\n"
   ]
  },
  {
   "cell_type": "code",
   "execution_count": 12,
   "id": "38bca994",
   "metadata": {},
   "outputs": [],
   "source": [
    "subset = df.sample(n=1000)"
   ]
  },
  {
   "cell_type": "code",
   "execution_count": 13,
   "id": "a91c1c28",
   "metadata": {},
   "outputs": [
    {
     "data": {
      "text/html": [
       "<div>\n",
       "<style scoped>\n",
       "    .dataframe tbody tr th:only-of-type {\n",
       "        vertical-align: middle;\n",
       "    }\n",
       "\n",
       "    .dataframe tbody tr th {\n",
       "        vertical-align: top;\n",
       "    }\n",
       "\n",
       "    .dataframe thead th {\n",
       "        text-align: right;\n",
       "    }\n",
       "</style>\n",
       "<table border=\"1\" class=\"dataframe\">\n",
       "  <thead>\n",
       "    <tr style=\"text-align: right;\">\n",
       "      <th></th>\n",
       "      <th>SName</th>\n",
       "      <th>Lyric</th>\n",
       "      <th>Genre</th>\n",
       "      <th>Artist</th>\n",
       "      <th>lyric_length</th>\n",
       "    </tr>\n",
       "  </thead>\n",
       "  <tbody>\n",
       "    <tr>\n",
       "      <th>45730</th>\n",
       "      <td>On Most Surfaces (Inuit)</td>\n",
       "      <td>The frost hits me in the eye. and wakes me. th...</td>\n",
       "      <td>Rock</td>\n",
       "      <td>The Gathering</td>\n",
       "      <td>104</td>\n",
       "    </tr>\n",
       "    <tr>\n",
       "      <th>19500</th>\n",
       "      <td>The Eleventh Hour</td>\n",
       "      <td>trace the shape of my heart. 'til it becomes m...</td>\n",
       "      <td>Rock</td>\n",
       "      <td>Jars Of Clay</td>\n",
       "      <td>127</td>\n",
       "    </tr>\n",
       "    <tr>\n",
       "      <th>14894</th>\n",
       "      <td>Honorable Mention</td>\n",
       "      <td>i served out my detention. and in the end i go...</td>\n",
       "      <td>Rock</td>\n",
       "      <td>Fall Out Boy</td>\n",
       "      <td>203</td>\n",
       "    </tr>\n",
       "    <tr>\n",
       "      <th>50383</th>\n",
       "      <td>Springhill Mining Disaster</td>\n",
       "      <td>In the town of Springhill Nova Scotia. Down in...</td>\n",
       "      <td>Rock</td>\n",
       "      <td>U2</td>\n",
       "      <td>201</td>\n",
       "    </tr>\n",
       "    <tr>\n",
       "      <th>79448</th>\n",
       "      <td>Maybe Tomorrow</td>\n",
       "      <td>I don't know how many stars there are. Up in t...</td>\n",
       "      <td>Pop</td>\n",
       "      <td>Jackson 5</td>\n",
       "      <td>189</td>\n",
       "    </tr>\n",
       "    <tr>\n",
       "      <th>...</th>\n",
       "      <td>...</td>\n",
       "      <td>...</td>\n",
       "      <td>...</td>\n",
       "      <td>...</td>\n",
       "      <td>...</td>\n",
       "    </tr>\n",
       "    <tr>\n",
       "      <th>16607</th>\n",
       "      <td>Providence</td>\n",
       "      <td>d'you think the end of the world is coming?. t...</td>\n",
       "      <td>Rock</td>\n",
       "      <td>Godspeed You! Black Emperor</td>\n",
       "      <td>80</td>\n",
       "    </tr>\n",
       "    <tr>\n",
       "      <th>45586</th>\n",
       "      <td>Stand In Line</td>\n",
       "      <td>Ten men stand in line. At the gates of the cem...</td>\n",
       "      <td>Rock</td>\n",
       "      <td>The Flaming Lips</td>\n",
       "      <td>81</td>\n",
       "    </tr>\n",
       "    <tr>\n",
       "      <th>6354</th>\n",
       "      <td>The Hills Of Mexico</td>\n",
       "      <td>'Twas in the town of griffin. In the year of s...</td>\n",
       "      <td>Rock</td>\n",
       "      <td>Bob Dylan</td>\n",
       "      <td>143</td>\n",
       "    </tr>\n",
       "    <tr>\n",
       "      <th>38458</th>\n",
       "      <td>This Song Saved My Life</td>\n",
       "      <td>I wanna start by letting you know this. Becaus...</td>\n",
       "      <td>Rock</td>\n",
       "      <td>Simple Plan</td>\n",
       "      <td>317</td>\n",
       "    </tr>\n",
       "    <tr>\n",
       "      <th>82745</th>\n",
       "      <td>Alone</td>\n",
       "      <td>When we're driving in your car. It's like I'm ...</td>\n",
       "      <td>Pop</td>\n",
       "      <td>Kelly Clarkson</td>\n",
       "      <td>268</td>\n",
       "    </tr>\n",
       "  </tbody>\n",
       "</table>\n",
       "<p>1000 rows × 5 columns</p>\n",
       "</div>"
      ],
      "text/plain": [
       "                            SName  \\\n",
       "45730    On Most Surfaces (Inuit)   \n",
       "19500           The Eleventh Hour   \n",
       "14894           Honorable Mention   \n",
       "50383  Springhill Mining Disaster   \n",
       "79448              Maybe Tomorrow   \n",
       "...                           ...   \n",
       "16607                  Providence   \n",
       "45586               Stand In Line   \n",
       "6354          The Hills Of Mexico   \n",
       "38458     This Song Saved My Life   \n",
       "82745                       Alone   \n",
       "\n",
       "                                                   Lyric Genre  \\\n",
       "45730  The frost hits me in the eye. and wakes me. th...  Rock   \n",
       "19500  trace the shape of my heart. 'til it becomes m...  Rock   \n",
       "14894  i served out my detention. and in the end i go...  Rock   \n",
       "50383  In the town of Springhill Nova Scotia. Down in...  Rock   \n",
       "79448  I don't know how many stars there are. Up in t...   Pop   \n",
       "...                                                  ...   ...   \n",
       "16607  d'you think the end of the world is coming?. t...  Rock   \n",
       "45586  Ten men stand in line. At the gates of the cem...  Rock   \n",
       "6354   'Twas in the town of griffin. In the year of s...  Rock   \n",
       "38458  I wanna start by letting you know this. Becaus...  Rock   \n",
       "82745  When we're driving in your car. It's like I'm ...   Pop   \n",
       "\n",
       "                            Artist  lyric_length  \n",
       "45730                The Gathering           104  \n",
       "19500                 Jars Of Clay           127  \n",
       "14894                 Fall Out Boy           203  \n",
       "50383                           U2           201  \n",
       "79448                    Jackson 5           189  \n",
       "...                            ...           ...  \n",
       "16607  Godspeed You! Black Emperor            80  \n",
       "45586             The Flaming Lips            81  \n",
       "6354                     Bob Dylan           143  \n",
       "38458                  Simple Plan           317  \n",
       "82745               Kelly Clarkson           268  \n",
       "\n",
       "[1000 rows x 5 columns]"
      ]
     },
     "execution_count": 13,
     "metadata": {},
     "output_type": "execute_result"
    }
   ],
   "source": [
    "subset"
   ]
  },
  {
   "cell_type": "code",
   "execution_count": 14,
   "id": "c236d404",
   "metadata": {},
   "outputs": [],
   "source": [
    "#tokenization\n",
    "tok = spacy.load(\"en_core_web_lg\")\n",
    "def tokenize (text):\n",
    "    text = re.sub(r\"[^\\x00-\\x7F]+\", \" \", text)\n",
    "    regex = re.compile('[' + re.escape(string.punctuation) + '0-9\\\\r\\\\t\\\\n]') # remove punctuation and numbers\n",
    "    nopunct = regex.sub(\" \", text.lower())\n",
    "    return [token.text for token in tok.tokenizer(nopunct)]"
   ]
  },
  {
   "cell_type": "code",
   "execution_count": 15,
   "id": "a6f843ad",
   "metadata": {},
   "outputs": [],
   "source": [
    "#count number of occurences of each word\n",
    "counts = Counter()\n",
    "for index, row in subset.iterrows():\n",
    "    counts.update(tokenize(row['Lyric']))"
   ]
  },
  {
   "cell_type": "code",
   "execution_count": 16,
   "id": "e1e6067a",
   "metadata": {},
   "outputs": [],
   "source": [
    "#creating vocabulary\n",
    "vocab2index = {\"\":0, \"UNK\":1}\n",
    "words = [\"\", \"UNK\"]\n",
    "for word in counts:\n",
    "    vocab2index[word] = len(words)\n",
    "    words.append(word)"
   ]
  },
  {
   "cell_type": "code",
   "execution_count": 17,
   "id": "e266acf9",
   "metadata": {},
   "outputs": [],
   "source": [
    "def encode_sentence(text, vocab2index, N=70):\n",
    "    tokenized = tokenize(text)\n",
    "    encoded = np.zeros(N, dtype=int)\n",
    "    enc1 = np.array([vocab2index.get(word, vocab2index[\"UNK\"]) for word in tokenized])\n",
    "    length = min(N, len(enc1))\n",
    "    encoded[:length] = enc1[:length]\n",
    "    return encoded, length"
   ]
  },
  {
   "cell_type": "code",
   "execution_count": 18,
   "id": "90706370",
   "metadata": {
    "scrolled": true
   },
   "outputs": [
    {
     "name": "stderr",
     "output_type": "stream",
     "text": [
      "/var/folders/4g/1whclwfx3t1054vd_jdtd9xm0000gn/T/ipykernel_25364/3049043839.py:1: VisibleDeprecationWarning: Creating an ndarray from ragged nested sequences (which is a list-or-tuple of lists-or-tuples-or ndarrays with different lengths or shapes) is deprecated. If you meant to do this, you must specify 'dtype=object' when creating the ndarray.\n",
      "  subset['encoded'] = subset['Lyric'].apply(lambda x: np.array(encode_sentence(x,vocab2index )))\n"
     ]
    },
    {
     "data": {
      "text/html": [
       "<div>\n",
       "<style scoped>\n",
       "    .dataframe tbody tr th:only-of-type {\n",
       "        vertical-align: middle;\n",
       "    }\n",
       "\n",
       "    .dataframe tbody tr th {\n",
       "        vertical-align: top;\n",
       "    }\n",
       "\n",
       "    .dataframe thead th {\n",
       "        text-align: right;\n",
       "    }\n",
       "</style>\n",
       "<table border=\"1\" class=\"dataframe\">\n",
       "  <thead>\n",
       "    <tr style=\"text-align: right;\">\n",
       "      <th></th>\n",
       "      <th>SName</th>\n",
       "      <th>Lyric</th>\n",
       "      <th>Genre</th>\n",
       "      <th>Artist</th>\n",
       "      <th>lyric_length</th>\n",
       "      <th>encoded</th>\n",
       "    </tr>\n",
       "  </thead>\n",
       "  <tbody>\n",
       "    <tr>\n",
       "      <th>45730</th>\n",
       "      <td>On Most Surfaces (Inuit)</td>\n",
       "      <td>The frost hits me in the eye. and wakes me. th...</td>\n",
       "      <td>Rock</td>\n",
       "      <td>The Gathering</td>\n",
       "      <td>104</td>\n",
       "      <td>[[2, 3, 4, 5, 6, 2, 7, 8, 9, 10, 5, 8, 11, 12,...</td>\n",
       "    </tr>\n",
       "    <tr>\n",
       "      <th>19500</th>\n",
       "      <td>The Eleventh Hour</td>\n",
       "      <td>trace the shape of my heart. 'til it becomes m...</td>\n",
       "      <td>Rock</td>\n",
       "      <td>Jars Of Clay</td>\n",
       "      <td>127</td>\n",
       "      <td>[[58, 2, 59, 23, 31, 60, 61, 62, 29, 63, 64, 6...</td>\n",
       "    </tr>\n",
       "    <tr>\n",
       "      <th>14894</th>\n",
       "      <td>Honorable Mention</td>\n",
       "      <td>i served out my detention. and in the end i go...</td>\n",
       "      <td>Rock</td>\n",
       "      <td>Fall Out Boy</td>\n",
       "      <td>203</td>\n",
       "      <td>[[15, 116, 55, 31, 117, 8, 9, 6, 2, 118, 15, 1...</td>\n",
       "    </tr>\n",
       "    <tr>\n",
       "      <th>50383</th>\n",
       "      <td>Springhill Mining Disaster</td>\n",
       "      <td>In the town of Springhill Nova Scotia. Down in...</td>\n",
       "      <td>Rock</td>\n",
       "      <td>U2</td>\n",
       "      <td>201</td>\n",
       "      <td>[[6, 2, 163, 23, 164, 165, 166, 8, 39, 6, 2, 1...</td>\n",
       "    </tr>\n",
       "    <tr>\n",
       "      <th>79448</th>\n",
       "      <td>Maybe Tomorrow</td>\n",
       "      <td>I don't know how many stars there are. Up in t...</td>\n",
       "      <td>Pop</td>\n",
       "      <td>Jackson 5</td>\n",
       "      <td>189</td>\n",
       "      <td>[[15, 180, 85, 207, 208, 209, 210, 170, 12, 8,...</td>\n",
       "    </tr>\n",
       "  </tbody>\n",
       "</table>\n",
       "</div>"
      ],
      "text/plain": [
       "                            SName  \\\n",
       "45730    On Most Surfaces (Inuit)   \n",
       "19500           The Eleventh Hour   \n",
       "14894           Honorable Mention   \n",
       "50383  Springhill Mining Disaster   \n",
       "79448              Maybe Tomorrow   \n",
       "\n",
       "                                                   Lyric Genre         Artist  \\\n",
       "45730  The frost hits me in the eye. and wakes me. th...  Rock  The Gathering   \n",
       "19500  trace the shape of my heart. 'til it becomes m...  Rock   Jars Of Clay   \n",
       "14894  i served out my detention. and in the end i go...  Rock   Fall Out Boy   \n",
       "50383  In the town of Springhill Nova Scotia. Down in...  Rock             U2   \n",
       "79448  I don't know how many stars there are. Up in t...   Pop      Jackson 5   \n",
       "\n",
       "       lyric_length                                            encoded  \n",
       "45730           104  [[2, 3, 4, 5, 6, 2, 7, 8, 9, 10, 5, 8, 11, 12,...  \n",
       "19500           127  [[58, 2, 59, 23, 31, 60, 61, 62, 29, 63, 64, 6...  \n",
       "14894           203  [[15, 116, 55, 31, 117, 8, 9, 6, 2, 118, 15, 1...  \n",
       "50383           201  [[6, 2, 163, 23, 164, 165, 166, 8, 39, 6, 2, 1...  \n",
       "79448           189  [[15, 180, 85, 207, 208, 209, 210, 170, 12, 8,...  "
      ]
     },
     "execution_count": 18,
     "metadata": {},
     "output_type": "execute_result"
    }
   ],
   "source": [
    "subset['encoded'] = subset['Lyric'].apply(lambda x: np.array(encode_sentence(x,vocab2index )))\n",
    "subset.head()"
   ]
  },
  {
   "cell_type": "code",
   "execution_count": 19,
   "id": "ec9eb079",
   "metadata": {},
   "outputs": [],
   "source": [
    "possible_labels = df.Genre.unique()\n",
    "\n",
    "label_dict = {}\n",
    "for index, possible_label in enumerate(possible_labels):\n",
    "    label_dict[possible_label] = index\n",
    "label_dict\n",
    "\n",
    "subset['label'] = subset.Genre.replace(label_dict)\n"
   ]
  },
  {
   "cell_type": "code",
   "execution_count": 23,
   "id": "19b7ebd3",
   "metadata": {},
   "outputs": [],
   "source": [
    "from sklearn.model_selection import train_test_split\n",
    " \n",
    "X_train, X_valid, y_train, y_valid = train_test_split(\n",
    "    subset.index.values,\n",
    "    subset.label.values,\n",
    "    test_size = 0.2,\n",
    "    random_state=42,\n",
    "    stratify=subset.label.values\n",
    ")"
   ]
  },
  {
   "cell_type": "code",
   "execution_count": 37,
   "id": "7272bf28",
   "metadata": {},
   "outputs": [],
   "source": [
    "class LyricsDataset(Dataset):\n",
    "    def __init__(self, X, Y):\n",
    "        self.X = X\n",
    "        self.y = Y\n",
    "        \n",
    "    def __len__(self):\n",
    "        return len(self.y)\n",
    "    \n",
    "    def __getitem__(self, idx):\n",
    "        print(self.X[idx][0])\n",
    "        print(self.X[idx][1])\n",
    "        return torch.from_numpy(self.X[idx][0].astype(np.int32)), self.y[idx], self.X[idx][1]"
   ]
  },
  {
   "cell_type": "code",
   "execution_count": 25,
   "id": "4a24a9af",
   "metadata": {},
   "outputs": [],
   "source": [
    "train_ds = LyricsDataset(X_train, y_train)\n",
    "valid_ds = LyricsDataset(X_valid, y_valid)"
   ]
  },
  {
   "cell_type": "markdown",
   "id": "458d0c85",
   "metadata": {},
   "source": [
    "# Training"
   ]
  },
  {
   "cell_type": "code",
   "execution_count": 26,
   "id": "bf3c1dd9",
   "metadata": {},
   "outputs": [],
   "source": [
    "def train_model(model, epochs=10, lr=0.001):\n",
    "    parameters = filter(lambda p: p.requires_grad, model.parameters())\n",
    "    optimizer = torch.optim.Adam(parameters, lr=lr)\n",
    "    for i in range(epochs):\n",
    "        model.train()\n",
    "        sum_loss = 0.0\n",
    "        total = 0\n",
    "        for x, y, l in train_dl:\n",
    "            x = x.long()\n",
    "            y = y.long()\n",
    "            y_pred = model(x, l)\n",
    "            optimizer.zero_grad()\n",
    "            loss = F.cross_entropy(y_pred, y)\n",
    "            loss.backward()\n",
    "            optimizer.step()\n",
    "            sum_loss += loss.item()*y.shape[0]\n",
    "            total += y.shape[0]\n",
    "        val_loss, val_acc, val_rmse = validation_metrics(model, val_dl)\n",
    "        if i % 5 == 1:\n",
    "            print(\"train loss %.3f, val loss %.3f, val accuracy %.3f, and val rmse %.3f\" % (sum_loss/total, val_loss, val_acc, val_rmse))\n",
    "\n",
    "def validation_metrics (model, valid_dl):\n",
    "    model.eval()\n",
    "    correct = 0\n",
    "    total = 0\n",
    "    sum_loss = 0.0\n",
    "    sum_rmse = 0.0\n",
    "    for x, y, l in valid_dl:\n",
    "        x = x.long()\n",
    "        y = y.long()\n",
    "        y_hat = model(x, l)\n",
    "        loss = F.cross_entropy(y_hat, y)\n",
    "        pred = torch.max(y_hat, 1)[1]\n",
    "        correct += (pred == y).float().sum()\n",
    "        total += y.shape[0]\n",
    "        sum_loss += loss.item()*y.shape[0]\n",
    "        sum_rmse += np.sqrt(mean_squared_error(pred, y.unsqueeze(-1)))*y.shape[0]\n",
    "    return sum_loss/total, correct/total, sum_rmse/totalb"
   ]
  },
  {
   "cell_type": "code",
   "execution_count": 27,
   "id": "f3d28f15",
   "metadata": {},
   "outputs": [],
   "source": [
    "batch_size = 5000\n",
    "vocab_size = len(words)\n",
    "train_dl = DataLoader(train_ds, batch_size=batch_size, shuffle=True)\n",
    "val_dl = DataLoader(valid_ds, batch_size=batch_size)"
   ]
  },
  {
   "cell_type": "code",
   "execution_count": 31,
   "id": "909a7f8a",
   "metadata": {},
   "outputs": [],
   "source": [
    "def load_glove_vectors(glove_file=\"glove/glove.6B.50d.txt\"):\n",
    "    \"\"\"Load the glove word vectors\"\"\"\n",
    "    word_vectors = {}\n",
    "    with open(glove_file) as f:\n",
    "        for line in f:\n",
    "            split = line.split()\n",
    "            word_vectors[split[0]] = np.array([float(x) for x in split[1:]])\n",
    "    return word_vectors"
   ]
  },
  {
   "cell_type": "code",
   "execution_count": 32,
   "id": "8f124377",
   "metadata": {},
   "outputs": [],
   "source": [
    "def get_emb_matrix(word_vecs, word_counts, emb_size = 50):\n",
    "    \"\"\" Creates embedding matrix from word vectors\"\"\"\n",
    "    vocab_size = len(word_counts) + 2\n",
    "    vocab_to_idx = {}\n",
    "    vocab = [\"\", \"UNK\"]\n",
    "    W = np.zeros((vocab_size, emb_size), dtype=\"float32\")\n",
    "    W[0] = np.zeros(emb_size, dtype='float32') # adding a vector for padding\n",
    "    W[1] = np.random.uniform(-0.25, 0.25, emb_size) # adding a vector for unknown words \n",
    "    vocab_to_idx[\"UNK\"] = 1\n",
    "    i = 2\n",
    "    for word in word_counts:\n",
    "        if word in word_vecs:\n",
    "            W[i] = word_vecs[word]\n",
    "        else:\n",
    "            W[i] = np.random.uniform(-0.25,0.25, emb_size)\n",
    "        vocab_to_idx[word] = i\n",
    "        vocab.append(word)\n",
    "        i += 1   \n",
    "    return W, np.array(vocab), vocab_to_idx"
   ]
  },
  {
   "cell_type": "code",
   "execution_count": 33,
   "id": "1d3f4469",
   "metadata": {},
   "outputs": [],
   "source": [
    "word_vecs = load_glove_vectors()\n",
    "pretrained_weights, vocab, vocab2index = get_emb_matrix(word_vecs, counts)"
   ]
  },
  {
   "cell_type": "code",
   "execution_count": 34,
   "id": "bad74d45",
   "metadata": {},
   "outputs": [],
   "source": [
    "class LSTM_glove_vecs(torch.nn.Module) :\n",
    "    def __init__(self, vocab_size, embedding_dim, hidden_dim, glove_weights) :\n",
    "        super().__init__()\n",
    "        self.embeddings = nn.Embedding(vocab_size, embedding_dim, padding_idx=0)\n",
    "        self.embeddings.weight.data.copy_(torch.from_numpy(glove_weights))\n",
    "        self.embeddings.weight.requires_grad = False ## freeze embeddings\n",
    "        self.lstm = nn.LSTM(embedding_dim, hidden_dim, batch_first=True)\n",
    "        self.linear = nn.Linear(hidden_dim, 5)\n",
    "        self.dropout = nn.Dropout(0.2)\n",
    "        \n",
    "    def forward(self, x, l):\n",
    "        x = self.embeddings(x)\n",
    "        x = self.dropout(x)\n",
    "        lstm_out, (ht, ct) = self.lstm(x)\n",
    "        return self.linear(ht[-1])"
   ]
  },
  {
   "cell_type": "code",
   "execution_count": null,
   "id": "66153ded",
   "metadata": {},
   "outputs": [],
   "source": []
  },
  {
   "cell_type": "code",
   "execution_count": 35,
   "id": "8ec208b6",
   "metadata": {},
   "outputs": [],
   "source": [
    "model = LSTM_glove_vecs(vocab_size, 50, 50, pretrained_weights)"
   ]
  },
  {
   "cell_type": "code",
   "execution_count": null,
   "id": "1b53347e",
   "metadata": {},
   "outputs": [],
   "source": [
    "train_model(model, epochs=30, lr=0.1)"
   ]
  },
  {
   "cell_type": "code",
   "execution_count": null,
   "id": "c2bcb940",
   "metadata": {},
   "outputs": [],
   "source": [
    "train_model(model, epochs=30, lr=0.05)"
   ]
  },
  {
   "cell_type": "code",
   "execution_count": null,
   "id": "f89baa5a",
   "metadata": {},
   "outputs": [],
   "source": []
  }
 ],
 "metadata": {
  "kernelspec": {
   "display_name": "Python [conda env:NLP]",
   "language": "python",
   "name": "conda-env-NLP-py"
  },
  "language_info": {
   "codemirror_mode": {
    "name": "ipython",
    "version": 3
   },
   "file_extension": ".py",
   "mimetype": "text/x-python",
   "name": "python",
   "nbconvert_exporter": "python",
   "pygments_lexer": "ipython3",
   "version": "3.9.7"
  },
  "varInspector": {
   "cols": {
    "lenName": 16,
    "lenType": 16,
    "lenVar": 40
   },
   "kernels_config": {
    "python": {
     "delete_cmd_postfix": "",
     "delete_cmd_prefix": "del ",
     "library": "var_list.py",
     "varRefreshCmd": "print(var_dic_list())"
    },
    "r": {
     "delete_cmd_postfix": ") ",
     "delete_cmd_prefix": "rm(",
     "library": "var_list.r",
     "varRefreshCmd": "cat(var_dic_list()) "
    }
   },
   "types_to_exclude": [
    "module",
    "function",
    "builtin_function_or_method",
    "instance",
    "_Feature"
   ],
   "window_display": false
  }
 },
 "nbformat": 4,
 "nbformat_minor": 5
}
