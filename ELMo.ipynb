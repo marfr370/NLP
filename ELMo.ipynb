{
 "cells": [
  {
   "cell_type": "code",
   "execution_count": 1,
   "id": "9e264baa",
   "metadata": {},
   "outputs": [],
   "source": [
    "import pandas as pd\n",
    "from sklearn.preprocessing import LabelEncoder\n",
    "\n",
    "df = pd.read_csv('processed_lyrics.csv')\n"
   ]
  },
  {
   "cell_type": "code",
   "execution_count": 2,
   "id": "daeb3eee",
   "metadata": {},
   "outputs": [],
   "source": [
    "subset = df.sample(n=1000)"
   ]
  },
  {
   "cell_type": "code",
   "execution_count": 3,
   "id": "47581112",
   "metadata": {},
   "outputs": [],
   "source": [
    "\n",
    "subset[\"label\"] = LabelEncoder().fit_transform(subset[\"Genre\"])\n"
   ]
  },
  {
   "cell_type": "code",
   "execution_count": 4,
   "id": "d8e963c1",
   "metadata": {
    "scrolled": true
   },
   "outputs": [
    {
     "data": {
      "text/html": [
       "<div>\n",
       "<style scoped>\n",
       "    .dataframe tbody tr th:only-of-type {\n",
       "        vertical-align: middle;\n",
       "    }\n",
       "\n",
       "    .dataframe tbody tr th {\n",
       "        vertical-align: top;\n",
       "    }\n",
       "\n",
       "    .dataframe thead th {\n",
       "        text-align: right;\n",
       "    }\n",
       "</style>\n",
       "<table border=\"1\" class=\"dataframe\">\n",
       "  <thead>\n",
       "    <tr style=\"text-align: right;\">\n",
       "      <th></th>\n",
       "      <th>SName</th>\n",
       "      <th>Lyric</th>\n",
       "      <th>Genre</th>\n",
       "      <th>Artist</th>\n",
       "      <th>lyric_length</th>\n",
       "      <th>label</th>\n",
       "    </tr>\n",
       "  </thead>\n",
       "  <tbody>\n",
       "    <tr>\n",
       "      <th>91029</th>\n",
       "      <td>Any Man Of Mine</td>\n",
       "      <td>This is what a woman wants.... Any man of mine...</td>\n",
       "      <td>Pop</td>\n",
       "      <td>Shania Twain</td>\n",
       "      <td>284</td>\n",
       "      <td>1</td>\n",
       "    </tr>\n",
       "    <tr>\n",
       "      <th>46441</th>\n",
       "      <td>Steppin' Razor</td>\n",
       "      <td>Treat me good. If you wanna live and live and ...</td>\n",
       "      <td>Rock</td>\n",
       "      <td>The Kills</td>\n",
       "      <td>177</td>\n",
       "      <td>2</td>\n",
       "    </tr>\n",
       "    <tr>\n",
       "      <th>21389</th>\n",
       "      <td>Take My Temperature</td>\n",
       "      <td>Take a look at your eyes, they're bloody menta...</td>\n",
       "      <td>Rock</td>\n",
       "      <td>Kaiser Chiefs</td>\n",
       "      <td>223</td>\n",
       "      <td>2</td>\n",
       "    </tr>\n",
       "    <tr>\n",
       "      <th>48245</th>\n",
       "      <td>Dream Lover</td>\n",
       "      <td>Dream they call desire. Like it matters. It do...</td>\n",
       "      <td>Rock</td>\n",
       "      <td>The Vaccines</td>\n",
       "      <td>169</td>\n",
       "      <td>2</td>\n",
       "    </tr>\n",
       "    <tr>\n",
       "      <th>10331</th>\n",
       "      <td>Information</td>\n",
       "      <td>Information. She's been around me all the whil...</td>\n",
       "      <td>Rock</td>\n",
       "      <td>Dave Edmunds</td>\n",
       "      <td>269</td>\n",
       "      <td>2</td>\n",
       "    </tr>\n",
       "    <tr>\n",
       "      <th>...</th>\n",
       "      <td>...</td>\n",
       "      <td>...</td>\n",
       "      <td>...</td>\n",
       "      <td>...</td>\n",
       "      <td>...</td>\n",
       "      <td>...</td>\n",
       "    </tr>\n",
       "    <tr>\n",
       "      <th>851</th>\n",
       "      <td>Cryin' (Tablatura Para Baixo)</td>\n",
       "      <td>INTRO. 1|........................................</td>\n",
       "      <td>Rock</td>\n",
       "      <td>Aerosmith</td>\n",
       "      <td>55</td>\n",
       "      <td>2</td>\n",
       "    </tr>\n",
       "    <tr>\n",
       "      <th>92631</th>\n",
       "      <td>In The Round</td>\n",
       "      <td>I am young and I'm alive. I want to talk about...</td>\n",
       "      <td>Pop</td>\n",
       "      <td>The Cardigans</td>\n",
       "      <td>203</td>\n",
       "      <td>1</td>\n",
       "    </tr>\n",
       "    <tr>\n",
       "      <th>72021</th>\n",
       "      <td>Make It With You</td>\n",
       "      <td>Hey have you ever tried,. Really reaching out ...</td>\n",
       "      <td>Pop</td>\n",
       "      <td>Bread</td>\n",
       "      <td>171</td>\n",
       "      <td>1</td>\n",
       "    </tr>\n",
       "    <tr>\n",
       "      <th>43188</th>\n",
       "      <td>Smoke Signal</td>\n",
       "      <td>Went to the movie matinee. To see the blue coa...</td>\n",
       "      <td>Rock</td>\n",
       "      <td>The Band</td>\n",
       "      <td>231</td>\n",
       "      <td>2</td>\n",
       "    </tr>\n",
       "    <tr>\n",
       "      <th>20453</th>\n",
       "      <td>Mind Games</td>\n",
       "      <td>We're playing those mind games together. Pushi...</td>\n",
       "      <td>Rock</td>\n",
       "      <td>John Lennon</td>\n",
       "      <td>200</td>\n",
       "      <td>2</td>\n",
       "    </tr>\n",
       "  </tbody>\n",
       "</table>\n",
       "<p>1000 rows × 6 columns</p>\n",
       "</div>"
      ],
      "text/plain": [
       "                               SName  \\\n",
       "91029                Any Man Of Mine   \n",
       "46441                 Steppin' Razor   \n",
       "21389            Take My Temperature   \n",
       "48245                    Dream Lover   \n",
       "10331                    Information   \n",
       "...                              ...   \n",
       "851    Cryin' (Tablatura Para Baixo)   \n",
       "92631                   In The Round   \n",
       "72021               Make It With You   \n",
       "43188                   Smoke Signal   \n",
       "20453                     Mind Games   \n",
       "\n",
       "                                                   Lyric Genre         Artist  \\\n",
       "91029  This is what a woman wants.... Any man of mine...   Pop   Shania Twain   \n",
       "46441  Treat me good. If you wanna live and live and ...  Rock      The Kills   \n",
       "21389  Take a look at your eyes, they're bloody menta...  Rock  Kaiser Chiefs   \n",
       "48245  Dream they call desire. Like it matters. It do...  Rock   The Vaccines   \n",
       "10331  Information. She's been around me all the whil...  Rock   Dave Edmunds   \n",
       "...                                                  ...   ...            ...   \n",
       "851    INTRO. 1|........................................  Rock      Aerosmith   \n",
       "92631  I am young and I'm alive. I want to talk about...   Pop  The Cardigans   \n",
       "72021  Hey have you ever tried,. Really reaching out ...   Pop          Bread   \n",
       "43188  Went to the movie matinee. To see the blue coa...  Rock       The Band   \n",
       "20453  We're playing those mind games together. Pushi...  Rock    John Lennon   \n",
       "\n",
       "       lyric_length  label  \n",
       "91029           284      1  \n",
       "46441           177      2  \n",
       "21389           223      2  \n",
       "48245           169      2  \n",
       "10331           269      2  \n",
       "...             ...    ...  \n",
       "851              55      2  \n",
       "92631           203      1  \n",
       "72021           171      1  \n",
       "43188           231      2  \n",
       "20453           200      2  \n",
       "\n",
       "[1000 rows x 6 columns]"
      ]
     },
     "execution_count": 4,
     "metadata": {},
     "output_type": "execute_result"
    }
   ],
   "source": [
    "subset"
   ]
  },
  {
   "cell_type": "code",
   "execution_count": null,
   "id": "11c44ae7",
   "metadata": {},
   "outputs": [],
   "source": [
    "def preprocess(text):\n",
    "    # init\n",
    "    nlp = spacy.load('en_core_web_sm', disable = ['parser', 'ner'])\n",
    "    \n",
    "    # token\n",
    "    doc = nlp(text)\n",
    "\n",
    "    # stop word removal & lemma\n",
    "    stopwords = nlp.Defaults.stop_words\n",
    "    doc_no_sw = [token.lemma_ for token in doc if not token.text in stopwords]\n",
    "\n",
    "    # remove non-alphabetic chars\n",
    "    doc_final = [word for word in doc_no_sw if word.isalpha()]\n",
    "    return doc_final"
   ]
  },
  {
   "cell_type": "code",
   "execution_count": 5,
   "id": "6c17dae6",
   "metadata": {},
   "outputs": [
    {
     "data": {
      "text/plain": [
       "91029    This woman wants.... Any man better proud me. ...\n",
       "46441    Treat good. If wanna live live live. Treat goo...\n",
       "21389    Take look eyes, they're bloody mental. swelled...\n",
       "48245    Dream desire. Like matters. It doesn't matter ...\n",
       "10331    Information. She's while.. Try I might, I can'...\n",
       "Name: Lyric, dtype: object"
      ]
     },
     "execution_count": 5,
     "metadata": {},
     "output_type": "execute_result"
    }
   ],
   "source": [
    "import spacy\n",
    "#loading the english language small model of spacy\n",
    "nlp = spacy.load('en_core_web_lg')\n",
    "stopwords = nlp.Defaults.stop_words\n",
    "subset['Lyric'] = subset['Lyric'].apply(lambda x: \" \".join(x for x in x.split() if x not in stopwords))\n",
    "subset['Lyric'].head()"
   ]
  },
  {
   "cell_type": "code",
   "execution_count": 6,
   "id": "8cf09550",
   "metadata": {},
   "outputs": [
    {
     "data": {
      "text/plain": [
       "sky?.           1\n",
       "have,.          1\n",
       "comprehend..    1\n",
       "died?.          1\n",
       "(sea).          1\n",
       "HOw             1\n",
       "email,          1\n",
       "text,           1\n",
       "unraveling.     1\n",
       "before)         1\n",
       "dtype: int64"
      ]
     },
     "execution_count": 6,
     "metadata": {},
     "output_type": "execute_result"
    }
   ],
   "source": [
    "freq = pd.Series(' '.join(subset['Lyric']).split()).value_counts()[-10:]\n",
    "subset['Lyric'] = subset['Lyric'].apply(lambda x: \" \".join(x for x in x.split() if x not in freq))\n",
    "subset['Lyric'].head()\n",
    "freq"
   ]
  },
  {
   "cell_type": "code",
   "execution_count": 7,
   "id": "386003d4",
   "metadata": {},
   "outputs": [],
   "source": [
    "import pandas as pd\n",
    "import numpy as np\n",
    "import spacy\n",
    "from tqdm import tqdm\n",
    "import re\n",
    "import time\n",
    "import pickle\n",
    "pd.set_option('display.max_colwidth', 200)"
   ]
  },
  {
   "cell_type": "code",
   "execution_count": 8,
   "id": "4024953b",
   "metadata": {},
   "outputs": [],
   "source": [
    "import tensorflow_hub as hub\n",
    "import tensorflow.compat.v1 as tf\n",
    "tf.disable_eager_execution()\n",
    "import tensorflow as tf\n",
    "\n",
    "\n",
    "embed = hub.Module(\"https://tfhub.dev/google/elmo/2\", trainable=True)"
   ]
  },
  {
   "cell_type": "code",
   "execution_count": 10,
   "id": "59357b43",
   "metadata": {},
   "outputs": [],
   "source": [
    "import tensorflow as tf\n",
    "import tensorflow_hub as hub\n",
    "import pandas as pd\n",
    "from sklearn import preprocessing\n",
    "import keras\n",
    "from keras.utils import np_utils\n",
    "import numpy as np\n",
    "\n",
    "\n",
    "y = list(subset['label'])\n",
    "x = list(subset['Lyric'])\n",
    "\n",
    "le = preprocessing.LabelEncoder()\n",
    "le.fit(y)\n",
    "\n",
    "def encode(le, labels):\n",
    "    enc = le.transform(labels)\n",
    "    return keras.utils.np_utils.to_categorical(enc)\n",
    "\n",
    "def decode(le, one_hot):\n",
    "    dec = np.argmax(one_hot, axis=1)\n",
    "    return le.inverse_transform(dec)\n",
    "\n",
    "\n",
    "x_enc = x\n",
    "y_enc = encode(le, y)"
   ]
  },
  {
   "cell_type": "code",
   "execution_count": 11,
   "id": "a6cdec50",
   "metadata": {},
   "outputs": [],
   "source": [
    "from sklearn.model_selection import train_test_split\n",
    "x_train, x_test, y_train, y_test = train_test_split(np.asarray(x_enc), np.asarray(y_enc), test_size=0.2, random_state=42)"
   ]
  },
  {
   "cell_type": "code",
   "execution_count": 12,
   "id": "420053bd",
   "metadata": {},
   "outputs": [
    {
     "data": {
      "text/plain": [
       "(800,)"
      ]
     },
     "execution_count": 12,
     "metadata": {},
     "output_type": "execute_result"
    }
   ],
   "source": [
    "x_train.shape\n"
   ]
  },
  {
   "cell_type": "code",
   "execution_count": 19,
   "id": "73e25980",
   "metadata": {},
   "outputs": [
    {
     "name": "stdout",
     "output_type": "stream",
     "text": [
      "INFO:tensorflow:Saver not created because there are no variables in the graph to restore\n"
     ]
    },
    {
     "name": "stderr",
     "output_type": "stream",
     "text": [
      "INFO:tensorflow:Saver not created because there are no variables in the graph to restore\n"
     ]
    },
    {
     "name": "stdout",
     "output_type": "stream",
     "text": [
      "Train on 800 samples\n",
      "800/800 [==============================] - 582s 728ms/sample - loss: 0.9008 - accuracy: 0.6125\n"
     ]
    },
    {
     "name": "stderr",
     "output_type": "stream",
     "text": [
      "/Users/martinfriberg/opt/anaconda3/envs/NLP/lib/python3.9/site-packages/keras/engine/training_v1.py:2079: UserWarning: `Model.state_updates` will be removed in a future version. This property should not be used in TensorFlow 2.0, as `updates` are applied automatically.\n",
      "  updates=self.state_updates,\n"
     ]
    }
   ],
   "source": [
    "from keras.layers import Input, Lambda, Dense\n",
    "from keras.models import Model\n",
    "import keras.backend as K\n",
    "tf.compat.v1.disable_eager_execution()\n",
    "def ELMoEmbedding(x):\n",
    "    return embed(tf.squeeze(tf.cast(x, tf.string)), signature=\"default\", as_dict=True)[\"default\"]\n",
    "\n",
    "input_text = Input(shape=(1,), dtype=tf.string)\n",
    "embedding = Lambda(ELMoEmbedding, output_shape=(1024, ))(input_text)\n",
    "dense = Dense(256, activation='relu')(embedding)\n",
    "pred = Dense(3, activation='softmax')(dense)\n",
    "model = Model(inputs=[input_text], outputs=pred)\n",
    "model.compile(loss='categorical_crossentropy', optimizer='adam', metrics=['accuracy'])\n",
    "\n",
    "with tf.compat.v1.Session() as session:\n",
    "    K.set_session(session)\n",
    "    session.run(tf.compat.v1.global_variables_initializer())  \n",
    "    session.run(tf.compat.v1.tables_initializer())\n",
    "    history = model.fit(x_train, y_train, epochs=1, batch_size=16) ## Increase batch size and epochs???? \n",
    "    model.save_weights('./elmo-model.h5')\n",
    "\n",
    "with tf.compat.v1.Session() as session:\n",
    "    K.set_session(session)\n",
    "    session.run(tf.compat.v1.global_variables_initializer())\n",
    "    session.run(tf.compat.v1.tables_initializer())\n",
    "    model.load_weights('./elmo-model.h5')  \n",
    "    predicts = model.predict(x_test, batch_size=16)\n",
    "\n",
    "y_test = decode(le, y_test)\n",
    "y_preds = decode(le, predicts)"
   ]
  },
  {
   "cell_type": "code",
   "execution_count": 20,
   "id": "8ad57346",
   "metadata": {},
   "outputs": [
    {
     "name": "stdout",
     "output_type": "stream",
     "text": [
      "[[29  2  7]\n",
      " [ 6  8 39]\n",
      " [ 5  5 99]]\n",
      "              precision    recall  f1-score   support\n",
      "\n",
      "           0       0.72      0.76      0.74        38\n",
      "           1       0.53      0.15      0.24        53\n",
      "           2       0.68      0.91      0.78       109\n",
      "\n",
      "    accuracy                           0.68       200\n",
      "   macro avg       0.65      0.61      0.59       200\n",
      "weighted avg       0.65      0.68      0.63       200\n",
      "\n",
      "Accuracy of ELMO is: 0.68\n"
     ]
    }
   ],
   "source": [
    "from sklearn import metrics\n",
    "\n",
    "print(metrics.confusion_matrix(y_test, y_preds))\n",
    "\n",
    "print(metrics.classification_report(y_test, y_preds))\n",
    "\n",
    "from sklearn.metrics import accuracy_score\n",
    "\n",
    "print(\"Accuracy of ELMO is:\",accuracy_score(y_test,y_preds))"
   ]
  },
  {
   "cell_type": "code",
   "execution_count": null,
   "id": "13201f04",
   "metadata": {},
   "outputs": [],
   "source": []
  }
 ],
 "metadata": {
  "kernelspec": {
   "display_name": "Python [conda env:NLP]",
   "language": "python",
   "name": "conda-env-NLP-py"
  },
  "language_info": {
   "codemirror_mode": {
    "name": "ipython",
    "version": 3
   },
   "file_extension": ".py",
   "mimetype": "text/x-python",
   "name": "python",
   "nbconvert_exporter": "python",
   "pygments_lexer": "ipython3",
   "version": "3.9.7"
  },
  "varInspector": {
   "cols": {
    "lenName": 16,
    "lenType": 16,
    "lenVar": 40
   },
   "kernels_config": {
    "python": {
     "delete_cmd_postfix": "",
     "delete_cmd_prefix": "del ",
     "library": "var_list.py",
     "varRefreshCmd": "print(var_dic_list())"
    },
    "r": {
     "delete_cmd_postfix": ") ",
     "delete_cmd_prefix": "rm(",
     "library": "var_list.r",
     "varRefreshCmd": "cat(var_dic_list()) "
    }
   },
   "types_to_exclude": [
    "module",
    "function",
    "builtin_function_or_method",
    "instance",
    "_Feature"
   ],
   "window_display": false
  }
 },
 "nbformat": 4,
 "nbformat_minor": 5
}
