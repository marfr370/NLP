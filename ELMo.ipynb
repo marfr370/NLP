{
 "cells": [
  {
   "cell_type": "code",
   "execution_count": 25,
   "id": "9e264baa",
   "metadata": {},
   "outputs": [
    {
     "ename": "ImportError",
     "evalue": "cannot import name 'Layer' from 'keras.engine' (/home/ubuntu/anaconda3/envs/tensorflow_p37/lib/python3.7/site-packages/keras/engine/__init__.py)",
     "output_type": "error",
     "traceback": [
      "\u001b[0;31m---------------------------------------------------------------------------\u001b[0m",
      "\u001b[0;31mImportError\u001b[0m                               Traceback (most recent call last)",
      "\u001b[0;32m<ipython-input-25-a4fcf2920493>\u001b[0m in \u001b[0;36m<module>\u001b[0;34m\u001b[0m\n\u001b[1;32m     10\u001b[0m \u001b[0;32mimport\u001b[0m \u001b[0mtensorflow\u001b[0m\u001b[0;34m.\u001b[0m\u001b[0mpython\u001b[0m\u001b[0;34m.\u001b[0m\u001b[0mkeras\u001b[0m\u001b[0;34m.\u001b[0m\u001b[0mengine\u001b[0m\u001b[0;34m\u001b[0m\u001b[0;34m\u001b[0m\u001b[0m\n\u001b[1;32m     11\u001b[0m \u001b[0;34m\u001b[0m\u001b[0m\n\u001b[0;32m---> 12\u001b[0;31m \u001b[0;32mfrom\u001b[0m \u001b[0mkeras\u001b[0m\u001b[0;34m.\u001b[0m\u001b[0mengine\u001b[0m \u001b[0;32mimport\u001b[0m \u001b[0mLayer\u001b[0m\u001b[0;34m\u001b[0m\u001b[0;34m\u001b[0m\u001b[0m\n\u001b[0m\u001b[1;32m     13\u001b[0m \u001b[0;32mimport\u001b[0m \u001b[0mnumpy\u001b[0m \u001b[0;32mas\u001b[0m \u001b[0mnp\u001b[0m\u001b[0;34m\u001b[0m\u001b[0;34m\u001b[0m\u001b[0m\n\u001b[1;32m     14\u001b[0m \u001b[0;34m\u001b[0m\u001b[0m\n",
      "\u001b[0;31mImportError\u001b[0m: cannot import name 'Layer' from 'keras.engine' (/home/ubuntu/anaconda3/envs/tensorflow_p37/lib/python3.7/site-packages/keras/engine/__init__.py)"
     ]
    }
   ],
   "source": [
    "import pandas as pd\n",
    "import tensorflow.compat.v1 as tf\n",
    "tf.disable_v2_behavior()\n",
    "import tensorflow_hub as hub\n",
    "import os\n",
    "import re\n",
    "from keras import backend as K\n",
    "import keras.layers as layers\n",
    "from keras.models import Model, load_model\n",
    "import tensorflow.python.keras.engine\n",
    "\n",
    "from keras.engine import Layer\n",
    "import numpy as np\n",
    "\n",
    "# Initialize session\n",
    "sess = tf.Session()\n",
    "K.set_session(sess)\n",
    "from sklearn.preprocessing import LabelEncoder\n",
    "df = pd.read_csv('unprocessed_lyrics.csv')\n",
    "df = df.groupby('Genre', group_keys=False).apply(lambda s: s.sample(3333, random_state=42)) #\n"
   ]
  },
  {
   "cell_type": "code",
   "execution_count": 15,
   "id": "subjective-sunday",
   "metadata": {},
   "outputs": [
    {
     "data": {
      "text/html": [
       "<div>\n",
       "<style scoped>\n",
       "    .dataframe tbody tr th:only-of-type {\n",
       "        vertical-align: middle;\n",
       "    }\n",
       "\n",
       "    .dataframe tbody tr th {\n",
       "        vertical-align: top;\n",
       "    }\n",
       "\n",
       "    .dataframe thead th {\n",
       "        text-align: right;\n",
       "    }\n",
       "</style>\n",
       "<table border=\"1\" class=\"dataframe\">\n",
       "  <thead>\n",
       "    <tr style=\"text-align: right;\">\n",
       "      <th></th>\n",
       "      <th>SName</th>\n",
       "      <th>Lyric</th>\n",
       "      <th>Genre</th>\n",
       "      <th>Artist</th>\n",
       "      <th>lyric_length</th>\n",
       "    </tr>\n",
       "  </thead>\n",
       "  <tbody>\n",
       "    <tr>\n",
       "      <th>2157</th>\n",
       "      <td>Family Affair</td>\n",
       "      <td>Refrain:. Let's get it crunkupon. We gon' have...</td>\n",
       "      <td>Hip Hop</td>\n",
       "      <td>Mary J. Blige</td>\n",
       "      <td>567</td>\n",
       "    </tr>\n",
       "    <tr>\n",
       "      <th>3187</th>\n",
       "      <td>Ransom (ft. Lil' Wayne)</td>\n",
       "      <td>Ransom,. . Yeah,. its Drizzy Baby. you already...</td>\n",
       "      <td>Hip Hop</td>\n",
       "      <td>Drake</td>\n",
       "      <td>967</td>\n",
       "    </tr>\n",
       "    <tr>\n",
       "      <th>9164</th>\n",
       "      <td>Close To Me</td>\n",
       "      <td>T.O.S.. (50 Cent). Unstoppable, incredible, im...</td>\n",
       "      <td>Hip Hop</td>\n",
       "      <td>G-Unit</td>\n",
       "      <td>557</td>\n",
       "    </tr>\n",
       "    <tr>\n",
       "      <th>2145</th>\n",
       "      <td>Zone</td>\n",
       "      <td>uhh, yea. uh uh uh. alright, well alright. . i...</td>\n",
       "      <td>Hip Hop</td>\n",
       "      <td>Drake</td>\n",
       "      <td>400</td>\n",
       "    </tr>\n",
       "    <tr>\n",
       "      <th>6442</th>\n",
       "      <td>Why You Up In Here (feat. Ludacris, Git Fresh ...</td>\n",
       "      <td>Flo-Rida. Gucci!. Bird!. I done bought all thi...</td>\n",
       "      <td>Hip Hop</td>\n",
       "      <td>Flo Rida</td>\n",
       "      <td>524</td>\n",
       "    </tr>\n",
       "    <tr>\n",
       "      <th>...</th>\n",
       "      <td>...</td>\n",
       "      <td>...</td>\n",
       "      <td>...</td>\n",
       "      <td>...</td>\n",
       "      <td>...</td>\n",
       "    </tr>\n",
       "    <tr>\n",
       "      <th>42982</th>\n",
       "      <td>Paris Bells</td>\n",
       "      <td>Past the cafÃ© shutters down,. No one stirs in...</td>\n",
       "      <td>Rock</td>\n",
       "      <td>Marianne Faithfull</td>\n",
       "      <td>135</td>\n",
       "    </tr>\n",
       "    <tr>\n",
       "      <th>34551</th>\n",
       "      <td>Lover, Leaver (Taker, Believer)</td>\n",
       "      <td>Oh my holy lord. Sets my soul on fire. Flames ...</td>\n",
       "      <td>Rock</td>\n",
       "      <td>Greta Van Fleet</td>\n",
       "      <td>129</td>\n",
       "    </tr>\n",
       "    <tr>\n",
       "      <th>35729</th>\n",
       "      <td>Hunter And The Hunted</td>\n",
       "      <td>Shooting from the hip. About our faith and lov...</td>\n",
       "      <td>Rock</td>\n",
       "      <td>Simple Minds</td>\n",
       "      <td>281</td>\n",
       "    </tr>\n",
       "    <tr>\n",
       "      <th>35071</th>\n",
       "      <td>My Champion</td>\n",
       "      <td>May this be your victory song. A song for you ...</td>\n",
       "      <td>Rock</td>\n",
       "      <td>Alter Bridge</td>\n",
       "      <td>250</td>\n",
       "    </tr>\n",
       "    <tr>\n",
       "      <th>41294</th>\n",
       "      <td>Makeout Party</td>\n",
       "      <td>Hey you've got yourself a pretty little mouth....</td>\n",
       "      <td>Rock</td>\n",
       "      <td>Green Day</td>\n",
       "      <td>168</td>\n",
       "    </tr>\n",
       "  </tbody>\n",
       "</table>\n",
       "<p>9999 rows × 5 columns</p>\n",
       "</div>"
      ],
      "text/plain": [
       "                                                   SName  \\\n",
       "2157                                       Family Affair   \n",
       "3187                             Ransom (ft. Lil' Wayne)   \n",
       "9164                                         Close To Me   \n",
       "2145                                                Zone   \n",
       "6442   Why You Up In Here (feat. Ludacris, Git Fresh ...   \n",
       "...                                                  ...   \n",
       "42982                                        Paris Bells   \n",
       "34551                    Lover, Leaver (Taker, Believer)   \n",
       "35729                              Hunter And The Hunted   \n",
       "35071                                        My Champion   \n",
       "41294                                      Makeout Party   \n",
       "\n",
       "                                                   Lyric    Genre  \\\n",
       "2157   Refrain:. Let's get it crunkupon. We gon' have...  Hip Hop   \n",
       "3187   Ransom,. . Yeah,. its Drizzy Baby. you already...  Hip Hop   \n",
       "9164   T.O.S.. (50 Cent). Unstoppable, incredible, im...  Hip Hop   \n",
       "2145   uhh, yea. uh uh uh. alright, well alright. . i...  Hip Hop   \n",
       "6442   Flo-Rida. Gucci!. Bird!. I done bought all thi...  Hip Hop   \n",
       "...                                                  ...      ...   \n",
       "42982  Past the cafÃ© shutters down,. No one stirs in...     Rock   \n",
       "34551  Oh my holy lord. Sets my soul on fire. Flames ...     Rock   \n",
       "35729  Shooting from the hip. About our faith and lov...     Rock   \n",
       "35071  May this be your victory song. A song for you ...     Rock   \n",
       "41294  Hey you've got yourself a pretty little mouth....     Rock   \n",
       "\n",
       "                   Artist  lyric_length  \n",
       "2157        Mary J. Blige           567  \n",
       "3187                Drake           967  \n",
       "9164               G-Unit           557  \n",
       "2145                Drake           400  \n",
       "6442             Flo Rida           524  \n",
       "...                   ...           ...  \n",
       "42982  Marianne Faithfull           135  \n",
       "34551     Greta Van Fleet           129  \n",
       "35729        Simple Minds           281  \n",
       "35071        Alter Bridge           250  \n",
       "41294           Green Day           168  \n",
       "\n",
       "[9999 rows x 5 columns]"
      ]
     },
     "execution_count": 15,
     "metadata": {},
     "output_type": "execute_result"
    }
   ],
   "source": [
    "df"
   ]
  },
  {
   "cell_type": "code",
   "execution_count": 16,
   "id": "blessed-harrison",
   "metadata": {},
   "outputs": [
    {
     "data": {
      "text/plain": [
       "[PhysicalDevice(name='/physical_device:GPU:0', device_type='GPU')]"
      ]
     },
     "execution_count": 16,
     "metadata": {},
     "output_type": "execute_result"
    }
   ],
   "source": [
    "# confirm TensorFlow sees the GPU\n",
    "from tensorflow.python.client import device_lib\n",
    "assert 'GPU' in str(device_lib.list_local_devices())\n",
    "\n",
    "tf.config.list_physical_devices('GPU') \n"
   ]
  },
  {
   "cell_type": "code",
   "execution_count": 17,
   "id": "variable-olympus",
   "metadata": {},
   "outputs": [
    {
     "name": "stdout",
     "output_type": "stream",
     "text": [
      "[name: \"/device:CPU:0\"\n",
      "device_type: \"CPU\"\n",
      "memory_limit: 268435456\n",
      "locality {\n",
      "}\n",
      "incarnation: 12861358046774227855\n",
      "xla_global_id: -1\n",
      ", name: \"/device:GPU:0\"\n",
      "device_type: \"GPU\"\n",
      "memory_limit: 14461698048\n",
      "locality {\n",
      "  bus_id: 1\n",
      "  links {\n",
      "  }\n",
      "}\n",
      "incarnation: 15647172179220724205\n",
      "physical_device_desc: \"device: 0, name: Tesla T4, pci bus id: 0000:00:1e.0, compute capability: 7.5\"\n",
      "xla_global_id: 416903419\n",
      "]\n"
     ]
    }
   ],
   "source": [
    "from tensorflow.python.client import device_lib\n",
    "print(device_lib.list_local_devices()) # list of DeviceAttributes\n",
    "\n"
   ]
  },
  {
   "cell_type": "code",
   "execution_count": 18,
   "id": "47581112",
   "metadata": {},
   "outputs": [],
   "source": [
    "\n",
    "df[\"label\"] = LabelEncoder().fit_transform(df[\"Genre\"])\n"
   ]
  },
  {
   "cell_type": "code",
   "execution_count": 19,
   "id": "4024953b",
   "metadata": {},
   "outputs": [],
   "source": [
    "#!pip install tensorflow_hub\n",
    "#import tensorflow_hub as hub\n",
    "#tf.compat.v1.disable_eager_execution()\n",
    "\n",
    "\n",
    "#\n",
    "\n",
    "\n",
    "#embed = hub.Module(\"https://tfhub.dev/google/elmo/3\", trainable=True)"
   ]
  },
  {
   "cell_type": "code",
   "execution_count": 20,
   "id": "59357b43",
   "metadata": {},
   "outputs": [],
   "source": [
    "#import tensorflow as tf\n",
    "import pandas as pd\n",
    "import keras\n",
    "\n",
    "from sklearn import preprocessing\n",
    "from keras.utils import np_utils\n",
    "import numpy as np\n",
    "\n",
    "\n",
    "y = list(df['label'])\n",
    "x = list(df['Lyric'])\n",
    "\n",
    "le = preprocessing.LabelEncoder()\n",
    "le.fit(y)\n",
    "\n",
    "def encode(le, labels):\n",
    "    enc = le.transform(labels)\n",
    "    return keras.utils.np_utils.to_categorical(enc)\n",
    "\n",
    "def decode(le, one_hot):\n",
    "    print(one_hot)\n",
    "    dec = np.argmax(one_hot, axis=1)\n",
    "    return le.inverse_transform(dec)\n",
    "\n",
    "\n",
    "x_enc = x\n",
    "y_enc = encode(le, y)"
   ]
  },
  {
   "cell_type": "code",
   "execution_count": 21,
   "id": "a6cdec50",
   "metadata": {},
   "outputs": [],
   "source": [
    "from sklearn.model_selection import train_test_split\n",
    "x_train, x_test, y_train, y_test = train_test_split(np.asarray(x_enc), np.asarray(y_enc), test_size=0.2, random_state=42)"
   ]
  },
  {
   "cell_type": "code",
   "execution_count": 22,
   "id": "420053bd",
   "metadata": {},
   "outputs": [
    {
     "data": {
      "text/plain": [
       "(7999,)"
      ]
     },
     "execution_count": 22,
     "metadata": {},
     "output_type": "execute_result"
    }
   ],
   "source": [
    "x_train.shape\n"
   ]
  },
  {
   "cell_type": "code",
   "execution_count": 23,
   "id": "6960aef8",
   "metadata": {},
   "outputs": [
    {
     "ename": "NameError",
     "evalue": "name 'Layer' is not defined",
     "output_type": "error",
     "traceback": [
      "\u001b[0;31m---------------------------------------------------------------------------\u001b[0m",
      "\u001b[0;31mNameError\u001b[0m                                 Traceback (most recent call last)",
      "\u001b[0;32m<ipython-input-23-3c8c4eb30dc4>\u001b[0m in \u001b[0;36m<module>\u001b[0;34m\u001b[0m\n\u001b[1;32m      1\u001b[0m \u001b[0;31m# Create a custom layer that allows us to update weights (lambda layers do not have trainable parameters!)\u001b[0m\u001b[0;34m\u001b[0m\u001b[0;34m\u001b[0m\u001b[0;34m\u001b[0m\u001b[0m\n\u001b[1;32m      2\u001b[0m \u001b[0;34m\u001b[0m\u001b[0m\n\u001b[0;32m----> 3\u001b[0;31m \u001b[0;32mclass\u001b[0m \u001b[0mElmoEmbeddingLayer\u001b[0m\u001b[0;34m(\u001b[0m\u001b[0mLayer\u001b[0m\u001b[0;34m)\u001b[0m\u001b[0;34m:\u001b[0m\u001b[0;34m\u001b[0m\u001b[0;34m\u001b[0m\u001b[0m\n\u001b[0m\u001b[1;32m      4\u001b[0m     \u001b[0;32mdef\u001b[0m \u001b[0m__init__\u001b[0m\u001b[0;34m(\u001b[0m\u001b[0mself\u001b[0m\u001b[0;34m,\u001b[0m \u001b[0;34m**\u001b[0m\u001b[0mkwargs\u001b[0m\u001b[0;34m)\u001b[0m\u001b[0;34m:\u001b[0m\u001b[0;34m\u001b[0m\u001b[0;34m\u001b[0m\u001b[0m\n\u001b[1;32m      5\u001b[0m         \u001b[0mself\u001b[0m\u001b[0;34m.\u001b[0m\u001b[0mdimensions\u001b[0m \u001b[0;34m=\u001b[0m \u001b[0;36m1024\u001b[0m\u001b[0;34m\u001b[0m\u001b[0;34m\u001b[0m\u001b[0m\n",
      "\u001b[0;31mNameError\u001b[0m: name 'Layer' is not defined"
     ]
    }
   ],
   "source": [
    "# Create a custom layer that allows us to update weights (lambda layers do not have trainable parameters!)\n",
    "\n",
    "class ElmoEmbeddingLayer(Layer):\n",
    "    def __init__(self, **kwargs):\n",
    "        self.dimensions = 1024\n",
    "        self.trainable=True\n",
    "        super(ElmoEmbeddingLayer, self).__init__(**kwargs)\n",
    "\n",
    "    def build(self, input_shape):\n",
    "        self.elmo = hub.Module('https://tfhub.dev/google/elmo/2', trainable=self.trainable,\n",
    "                               name=\"{}_module\".format(self.name))\n",
    "\n",
    "        self.trainable_weights += K.tf.trainable_variables(scope=\"^{}_module/.*\".format(self.name))\n",
    "        super(ElmoEmbeddingLayer, self).build(input_shape)\n",
    "\n",
    "    def call(self, x, mask=None):\n",
    "        result = self.elmo(K.squeeze(K.cast(x, tf.string), axis=1),\n",
    "                      as_dict=True,\n",
    "                      signature='default',\n",
    "                      )['default']\n",
    "        return result\n",
    "\n",
    "    def compute_mask(self, inputs, mask=None):\n",
    "        return K.not_equal(inputs, '--PAD--')\n",
    "\n",
    "    def compute_output_shape(self, input_shape):\n",
    "        return (input_shape[0], self.dimensions)"
   ]
  },
  {
   "cell_type": "code",
   "execution_count": null,
   "id": "efffbc49",
   "metadata": {},
   "outputs": [],
   "source": [
    "# Function to build model\n",
    "def build_model(): \n",
    "    input_text = layers.Input(shape=(1,), dtype=\"string\")\n",
    "    embedding = ElmoEmbeddingLayer()(input_text)\n",
    "    dense = layers.Dense(256, activation='relu')(embedding)\n",
    "    pred = layers.Dense(1, activation='sigmoid')(dense)\n",
    "\n",
    "    model = Model(inputs=[input_text], outputs=pred)\n",
    "\n",
    "    model.compile(loss='binary_crossentropy', optimizer='adam', metrics=['accuracy'])\n",
    "    model.summary()\n",
    "\n",
    "    return model"
   ]
  },
  {
   "cell_type": "code",
   "execution_count": null,
   "id": "0148f932",
   "metadata": {},
   "outputs": [],
   "source": [
    "# Build and fit\n",
    "model = build_model()\n",
    "model.fit(x_train, \n",
    "          y_train,\n",
    "          epochs=1,\n",
    "          batch_size=16)"
   ]
  },
  {
   "cell_type": "code",
   "execution_count": null,
   "id": "73e25980",
   "metadata": {},
   "outputs": [],
   "source": [
    "from keras.layers import Input, Lambda, Dense\n",
    "from keras.models import Model\n",
    "import keras.backend as K\n",
    "\n",
    "def ELMoEmbedding(x):\n",
    "    return embed(tf.squeeze(tf.cast(x, tf.string)), signature=\"default\", as_dict=True)[\"default\"]\n",
    "\n",
    "input_text = Input(shape=(1,), dtype=tf.string)\n",
    "\n",
    "embedding = Lambda(ELMoEmbedding, output_shape=(1024, ))(input_text) # elmo vectors are of size 1024. Our first layer (input layer)\n",
    "x = tf.keras.layers.Dense(1024, activation='relu')(embedding)\n",
    "y = tf.keras.layers.Dense(3, activation='softmax', name='outputs')(x)\n",
    "model = Model(inputs=[input_text], outputs=y)\n",
    "\n",
    "optimizer = tf.keras.optimizers.Adam(lr=1e-5, decay=1e-6)\n",
    "loss = tf.keras.losses.CategoricalCrossentropy()\n",
    "acc = tf.keras.metrics.CategoricalAccuracy('accuracy')\n",
    "\n",
    "model.compile(optimizer=optimizer, loss=loss, metrics=[acc])\n",
    "\n",
    "with tf.Session() as session:\n",
    "    K.set_session(session)\n",
    "    session.run(tf.global_variables_initializer())  \n",
    "    session.run(tf.tables_initializer())\n",
    "    history = model.fit(x_train, y_train, epochs=3, batch_size=16)\n",
    "    predicts = model.predict(x_test, batch_size=16)\n",
    "    #model.save_weights('./elmo-model.h5')\n",
    "\n",
    "\n",
    "\n",
    "#history = model.fit(x_train, y_train, epochs=3, batch_size=16)\n",
    "#predicts = model.predict(x_test, batch_size=16)\n",
    "\n",
    "y_test = decode(le, y_test)\n",
    "y_preds = decode(le, predicts)"
   ]
  },
  {
   "cell_type": "code",
   "execution_count": null,
   "id": "8ad57346",
   "metadata": {},
   "outputs": [],
   "source": [
    "from sklearn import metrics\n",
    "\n",
    "print(metrics.confusion_matrix(y_test, y_preds))\n",
    "\n",
    "print(metrics.classification_report(y_test, y_preds))\n",
    "\n",
    "from sklearn.metrics import accuracy_score\n",
    "\n",
    "print(\"Accuracy of ELMO is:\",accuracy_score(y_test,y_preds))"
   ]
  },
  {
   "cell_type": "code",
   "execution_count": null,
   "id": "13201f04",
   "metadata": {},
   "outputs": [],
   "source": []
  },
  {
   "cell_type": "code",
   "execution_count": null,
   "id": "western-america",
   "metadata": {},
   "outputs": [],
   "source": []
  }
 ],
 "metadata": {
  "kernelspec": {
   "display_name": "Environment (conda_tensorflow_p37)",
   "language": "python",
   "name": "conda_tensorflow_p37"
  },
  "language_info": {
   "codemirror_mode": {
    "name": "ipython",
    "version": 3
   },
   "file_extension": ".py",
   "mimetype": "text/x-python",
   "name": "python",
   "nbconvert_exporter": "python",
   "pygments_lexer": "ipython3",
   "version": "3.7.10"
  },
  "varInspector": {
   "cols": {
    "lenName": 16,
    "lenType": 16,
    "lenVar": 40
   },
   "kernels_config": {
    "python": {
     "delete_cmd_postfix": "",
     "delete_cmd_prefix": "del ",
     "library": "var_list.py",
     "varRefreshCmd": "print(var_dic_list())"
    },
    "r": {
     "delete_cmd_postfix": ") ",
     "delete_cmd_prefix": "rm(",
     "library": "var_list.r",
     "varRefreshCmd": "cat(var_dic_list()) "
    }
   },
   "types_to_exclude": [
    "module",
    "function",
    "builtin_function_or_method",
    "instance",
    "_Feature"
   ],
   "window_display": false
  }
 },
 "nbformat": 4,
 "nbformat_minor": 5
}
