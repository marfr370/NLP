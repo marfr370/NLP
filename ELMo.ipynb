{
 "cells": [
  {
   "cell_type": "code",
   "execution_count": 1,
   "id": "d41c500d",
   "metadata": {},
   "outputs": [
    {
     "name": "stdout",
     "output_type": "stream",
     "text": [
      "WARNING:tensorflow:From /home/ubuntu/anaconda3/envs/tensorflow_p37/gpu_cuda11.0/lib/python3.7/site-packages/tensorflow_core/__init__.py:1473: The name tf.estimator.inputs is deprecated. Please use tf.compat.v1.estimator.inputs instead.\n",
      "\n"
     ]
    },
    {
     "name": "stderr",
     "output_type": "stream",
     "text": [
      "Using TensorFlow backend.\n"
     ]
    }
   ],
   "source": [
    "import os\n",
    "os.environ['TF_CPP_MIN_LOG_LEVEL'] = '2' \n",
    "import pandas as pd\n",
    "#import tensorflow.compat.v1 as tf\n",
    "#tf.disable_v2_behavior()\n",
    "import tensorflow as tf\n",
    "import tensorflow_hub as hub\n",
    "from keras import backend as K\n",
    "import keras.layers as layers"
   ]
  },
  {
   "cell_type": "code",
   "execution_count": 2,
   "id": "aaf874aa",
   "metadata": {},
   "outputs": [],
   "source": [
    "\n",
    "from keras.models import Model, load_model\n",
    "import tensorflow.python.keras.engine\n",
    "\n",
    "from keras.engine import Layer\n",
    "import numpy as np\n",
    "\n",
    "# Initialize session\n",
    "sess = tf.Session()\n",
    "K.set_session(sess)\n",
    "from sklearn.preprocessing import LabelEncoder\n",
    "df = pd.read_csv('unprocessed_lyrics.csv')\n",
    "df = df.groupby('Genre', group_keys=False).apply(lambda s: s.sample(5000, random_state=42)) #\n",
    "\n"
   ]
  },
  {
   "cell_type": "code",
   "execution_count": 3,
   "id": "36a07d12",
   "metadata": {},
   "outputs": [],
   "source": [
    "possible_labels = df.Genre.unique()\n",
    "\n",
    "label_dict = {}\n",
    "for index, possible_label in enumerate(possible_labels):\n",
    "    label_dict[possible_label] = index\n",
    "label_dict\n",
    "\n",
    "df['label'] = df.Genre.replace(label_dict)"
   ]
  },
  {
   "cell_type": "code",
   "execution_count": 4,
   "id": "subjective-sunday",
   "metadata": {},
   "outputs": [
    {
     "data": {
      "text/html": [
       "<div>\n",
       "<style scoped>\n",
       "    .dataframe tbody tr th:only-of-type {\n",
       "        vertical-align: middle;\n",
       "    }\n",
       "\n",
       "    .dataframe tbody tr th {\n",
       "        vertical-align: top;\n",
       "    }\n",
       "\n",
       "    .dataframe thead th {\n",
       "        text-align: right;\n",
       "    }\n",
       "</style>\n",
       "<table border=\"1\" class=\"dataframe\">\n",
       "  <thead>\n",
       "    <tr style=\"text-align: right;\">\n",
       "      <th></th>\n",
       "      <th>SName</th>\n",
       "      <th>Lyric</th>\n",
       "      <th>Genre</th>\n",
       "      <th>Artist</th>\n",
       "      <th>lyric_length</th>\n",
       "      <th>label</th>\n",
       "    </tr>\n",
       "  </thead>\n",
       "  <tbody>\n",
       "    <tr>\n",
       "      <th>2157</th>\n",
       "      <td>Family Affair</td>\n",
       "      <td>Refrain:. Let's get it crunkupon. We gon' have...</td>\n",
       "      <td>Hip Hop</td>\n",
       "      <td>Mary J. Blige</td>\n",
       "      <td>567</td>\n",
       "      <td>0</td>\n",
       "    </tr>\n",
       "    <tr>\n",
       "      <th>3187</th>\n",
       "      <td>Ransom (ft. Lil' Wayne)</td>\n",
       "      <td>Ransom,. . Yeah,. its Drizzy Baby. you already...</td>\n",
       "      <td>Hip Hop</td>\n",
       "      <td>Drake</td>\n",
       "      <td>967</td>\n",
       "      <td>0</td>\n",
       "    </tr>\n",
       "    <tr>\n",
       "      <th>9164</th>\n",
       "      <td>Close To Me</td>\n",
       "      <td>T.O.S.. (50 Cent). Unstoppable, incredible, im...</td>\n",
       "      <td>Hip Hop</td>\n",
       "      <td>G-Unit</td>\n",
       "      <td>557</td>\n",
       "      <td>0</td>\n",
       "    </tr>\n",
       "    <tr>\n",
       "      <th>2145</th>\n",
       "      <td>Zone</td>\n",
       "      <td>uhh, yea. uh uh uh. alright, well alright. . i...</td>\n",
       "      <td>Hip Hop</td>\n",
       "      <td>Drake</td>\n",
       "      <td>400</td>\n",
       "      <td>0</td>\n",
       "    </tr>\n",
       "    <tr>\n",
       "      <th>6442</th>\n",
       "      <td>Why You Up In Here (feat. Ludacris, Git Fresh ...</td>\n",
       "      <td>Flo-Rida. Gucci!. Bird!. I done bought all thi...</td>\n",
       "      <td>Hip Hop</td>\n",
       "      <td>Flo Rida</td>\n",
       "      <td>524</td>\n",
       "      <td>0</td>\n",
       "    </tr>\n",
       "    <tr>\n",
       "      <th>...</th>\n",
       "      <td>...</td>\n",
       "      <td>...</td>\n",
       "      <td>...</td>\n",
       "      <td>...</td>\n",
       "      <td>...</td>\n",
       "      <td>...</td>\n",
       "    </tr>\n",
       "    <tr>\n",
       "      <th>31738</th>\n",
       "      <td>What do You Need?</td>\n",
       "      <td>What do you need from me tonight?. I feel you ...</td>\n",
       "      <td>Rock</td>\n",
       "      <td>Goo Goo Dolls</td>\n",
       "      <td>197</td>\n",
       "      <td>2</td>\n",
       "    </tr>\n",
       "    <tr>\n",
       "      <th>31425</th>\n",
       "      <td>Rebel Heart</td>\n",
       "      <td>(R. Stewart, J. Golub, C. Kentis, C. Rojas). I...</td>\n",
       "      <td>Rock</td>\n",
       "      <td>Rod Stewart</td>\n",
       "      <td>412</td>\n",
       "      <td>2</td>\n",
       "    </tr>\n",
       "    <tr>\n",
       "      <th>35407</th>\n",
       "      <td>Before The Dawn</td>\n",
       "      <td>Meet me after dark again and I'll hold you. I ...</td>\n",
       "      <td>Rock</td>\n",
       "      <td>Evanescence</td>\n",
       "      <td>114</td>\n",
       "      <td>2</td>\n",
       "    </tr>\n",
       "    <tr>\n",
       "      <th>35281</th>\n",
       "      <td>Spanish is the Loving Tongue</td>\n",
       "      <td>Broke my heart, lost my soul. Adios,mi cora so...</td>\n",
       "      <td>Rock</td>\n",
       "      <td>Bob Dylan</td>\n",
       "      <td>126</td>\n",
       "      <td>2</td>\n",
       "    </tr>\n",
       "    <tr>\n",
       "      <th>38982</th>\n",
       "      <td>There Goes My Baby</td>\n",
       "      <td>There goes my baby going for a ride yeah there...</td>\n",
       "      <td>Rock</td>\n",
       "      <td>Ricky Nelson</td>\n",
       "      <td>113</td>\n",
       "      <td>2</td>\n",
       "    </tr>\n",
       "  </tbody>\n",
       "</table>\n",
       "<p>15000 rows × 6 columns</p>\n",
       "</div>"
      ],
      "text/plain": [
       "                                                   SName  \\\n",
       "2157                                       Family Affair   \n",
       "3187                             Ransom (ft. Lil' Wayne)   \n",
       "9164                                         Close To Me   \n",
       "2145                                                Zone   \n",
       "6442   Why You Up In Here (feat. Ludacris, Git Fresh ...   \n",
       "...                                                  ...   \n",
       "31738                                  What do You Need?   \n",
       "31425                                        Rebel Heart   \n",
       "35407                                    Before The Dawn   \n",
       "35281                       Spanish is the Loving Tongue   \n",
       "38982                                 There Goes My Baby   \n",
       "\n",
       "                                                   Lyric    Genre  \\\n",
       "2157   Refrain:. Let's get it crunkupon. We gon' have...  Hip Hop   \n",
       "3187   Ransom,. . Yeah,. its Drizzy Baby. you already...  Hip Hop   \n",
       "9164   T.O.S.. (50 Cent). Unstoppable, incredible, im...  Hip Hop   \n",
       "2145   uhh, yea. uh uh uh. alright, well alright. . i...  Hip Hop   \n",
       "6442   Flo-Rida. Gucci!. Bird!. I done bought all thi...  Hip Hop   \n",
       "...                                                  ...      ...   \n",
       "31738  What do you need from me tonight?. I feel you ...     Rock   \n",
       "31425  (R. Stewart, J. Golub, C. Kentis, C. Rojas). I...     Rock   \n",
       "35407  Meet me after dark again and I'll hold you. I ...     Rock   \n",
       "35281  Broke my heart, lost my soul. Adios,mi cora so...     Rock   \n",
       "38982  There goes my baby going for a ride yeah there...     Rock   \n",
       "\n",
       "              Artist  lyric_length  label  \n",
       "2157   Mary J. Blige           567      0  \n",
       "3187           Drake           967      0  \n",
       "9164          G-Unit           557      0  \n",
       "2145           Drake           400      0  \n",
       "6442        Flo Rida           524      0  \n",
       "...              ...           ...    ...  \n",
       "31738  Goo Goo Dolls           197      2  \n",
       "31425    Rod Stewart           412      2  \n",
       "35407    Evanescence           114      2  \n",
       "35281      Bob Dylan           126      2  \n",
       "38982   Ricky Nelson           113      2  \n",
       "\n",
       "[15000 rows x 6 columns]"
      ]
     },
     "execution_count": 4,
     "metadata": {},
     "output_type": "execute_result"
    }
   ],
   "source": [
    "df"
   ]
  },
  {
   "cell_type": "code",
   "execution_count": 5,
   "id": "blessed-harrison",
   "metadata": {},
   "outputs": [],
   "source": [
    "# confirm TensorFlow sees the GPU\n",
    "from tensorflow.python.client import device_lib\n",
    "assert 'GPU' in str(device_lib.list_local_devices())\n",
    "\n",
    "#tf.config.list_physical_devices('GPU') \n"
   ]
  },
  {
   "cell_type": "code",
   "execution_count": 6,
   "id": "variable-olympus",
   "metadata": {},
   "outputs": [
    {
     "name": "stdout",
     "output_type": "stream",
     "text": [
      "[name: \"/device:CPU:0\"\n",
      "device_type: \"CPU\"\n",
      "memory_limit: 268435456\n",
      "locality {\n",
      "}\n",
      "incarnation: 5285020765833077895\n",
      ", name: \"/device:XLA_CPU:0\"\n",
      "device_type: \"XLA_CPU\"\n",
      "memory_limit: 17179869184\n",
      "locality {\n",
      "}\n",
      "incarnation: 14408400334928113412\n",
      "physical_device_desc: \"device: XLA_CPU device\"\n",
      ", name: \"/device:XLA_GPU:0\"\n",
      "device_type: \"XLA_GPU\"\n",
      "memory_limit: 17179869184\n",
      "locality {\n",
      "}\n",
      "incarnation: 3472884504128192756\n",
      "physical_device_desc: \"device: XLA_GPU device\"\n",
      ", name: \"/device:GPU:0\"\n",
      "device_type: \"GPU\"\n",
      "memory_limit: 14949928141\n",
      "locality {\n",
      "  bus_id: 1\n",
      "  links {\n",
      "  }\n",
      "}\n",
      "incarnation: 18268486277284971855\n",
      "physical_device_desc: \"device: 0, name: Tesla T4, pci bus id: 0000:00:1e.0, compute capability: 7.5\"\n",
      "]\n"
     ]
    }
   ],
   "source": [
    "from tensorflow.python.client import device_lib\n",
    "print(device_lib.list_local_devices()) # list of DeviceAttributes\n",
    "\n"
   ]
  },
  {
   "cell_type": "code",
   "execution_count": 7,
   "id": "47581112",
   "metadata": {},
   "outputs": [],
   "source": [
    "\n",
    "df[\"label\"] = LabelEncoder().fit_transform(df[\"Genre\"])\n"
   ]
  },
  {
   "cell_type": "code",
   "execution_count": 8,
   "id": "4024953b",
   "metadata": {},
   "outputs": [],
   "source": [
    "#!pip install tensorflow_hub\n",
    "#import tensorflow_hub as hub\n",
    "#tf.compat.v1.disable_eager_execution()\n",
    "\n",
    "\n",
    "#\n",
    "\n",
    "\n",
    "embed = hub.Module(\"https://tfhub.dev/google/elmo/2\", trainable=True)"
   ]
  },
  {
   "cell_type": "code",
   "execution_count": 9,
   "id": "59357b43",
   "metadata": {},
   "outputs": [],
   "source": [
    "#import tensorflow as tf\n",
    "import pandas as pd\n",
    "import keras\n",
    "\n",
    "from sklearn import preprocessing\n",
    "from keras.utils import np_utils\n",
    "import numpy as np\n",
    "\n",
    "\n",
    "y = list(df['label'])\n",
    "x = list(df['Lyric'])\n",
    "\n",
    "le = preprocessing.LabelEncoder()\n",
    "le.fit(y)\n",
    "\n",
    "def encode(le, labels):\n",
    "    enc = le.transform(labels)\n",
    "    return keras.utils.np_utils.to_categorical(enc)\n",
    "\n",
    "def decode(le, one_hot):\n",
    "    dec = np.argmax(one_hot, axis=1)\n",
    "    return le.inverse_transform(dec)\n",
    "\n",
    "\n",
    "x_enc = x\n",
    "y_enc = encode(le, y)"
   ]
  },
  {
   "cell_type": "code",
   "execution_count": 10,
   "id": "a6cdec50",
   "metadata": {},
   "outputs": [],
   "source": [
    "from sklearn.model_selection import train_test_split\n",
    "x_train, x_test, y_train, y_test = train_test_split(np.asarray(x_enc), np.asarray(y_enc), test_size=0.2, random_state=42)"
   ]
  },
  {
   "cell_type": "code",
   "execution_count": 11,
   "id": "420053bd",
   "metadata": {},
   "outputs": [
    {
     "data": {
      "text/plain": [
       "(12000,)"
      ]
     },
     "execution_count": 11,
     "metadata": {},
     "output_type": "execute_result"
    }
   ],
   "source": [
    "x_train.shape\n"
   ]
  },
  {
   "cell_type": "code",
   "execution_count": 12,
   "id": "73e25980",
   "metadata": {
    "scrolled": true
   },
   "outputs": [
    {
     "name": "stdout",
     "output_type": "stream",
     "text": [
      "Device mapping:\n",
      "/job:localhost/replica:0/task:0/device:XLA_CPU:0 -> device: XLA_CPU device\n",
      "/job:localhost/replica:0/task:0/device:XLA_GPU:0 -> device: XLA_GPU device\n",
      "/job:localhost/replica:0/task:0/device:GPU:0 -> device: 0, name: Tesla T4, pci bus id: 0000:00:1e.0, compute capability: 7.5\n",
      "\n",
      "Epoch 1/2\n",
      "12000/12000 [==============================] - 2650s 221ms/step - loss: 0.8151 - acc: 0.6219\n",
      "Epoch 2/2\n",
      "12000/12000 [==============================] - 2425s 202ms/step - loss: 0.7579 - acc: 0.6562\n"
     ]
    }
   ],
   "source": [
    "tf.get_logger().setLevel('ERROR')\n",
    "\n",
    "from keras.layers import Input, Lambda, Dense\n",
    "from keras.models import Model\n",
    "import keras.backend as K\n",
    "\n",
    "def ELMoEmbedding(x):\n",
    "    return embed(tf.squeeze(tf.cast(x, tf.string)), signature=\"default\", as_dict=True)[\"default\"]\n",
    "\n",
    "input_text = Input(shape=(1,), dtype=tf.string)\n",
    "\n",
    "embedding = Lambda(ELMoEmbedding, output_shape=(1024, ))(input_text) # elmo vectors are of size 1024. Our first layer (input layer)\n",
    "dense = Dense(1024, activation='relu')(embedding) # second layer, (dense layer) each node is connected to all nodes of the preceding layer\n",
    "pred = Dense(3, activation='softmax')(dense) # output layer\n",
    "model = Model(inputs=[input_text], outputs=pred)\n",
    "model.compile(loss='categorical_crossentropy', optimizer='adam', metrics=['accuracy'])\n",
    "\n",
    "with tf.Session(config=tf.ConfigProto(log_device_placement=True)) as session:\n",
    "    K.set_session(session)\n",
    "    session.run(tf.global_variables_initializer())  \n",
    "    session.run(tf.tables_initializer())\n",
    "    history = model.fit(x_train, y_train, epochs=2, batch_size=8)\n",
    "    model.save_weights('./elmo-model.h5')\n",
    "    predicts = model.predict(x_test, batch_size=16)\n",
    "\n",
    "\n",
    "##with tf.Session() as session:\n",
    "#    K.set_session(session)\n",
    "#    session.run(tf.global_variables_initializer())\n",
    "#    session.run(tf.tables_initializer())\n",
    "#    model.load_weights('./elmo-model.h5')  \n",
    "    \n",
    "    \n",
    "y_test = decode(le, y_test)\n",
    "y_preds = decode(le, predicts)\n"
   ]
  },
  {
   "cell_type": "code",
   "execution_count": 13,
   "id": "8ad57346",
   "metadata": {},
   "outputs": [
    {
     "name": "stdout",
     "output_type": "stream",
     "text": [
      "[[691 231 115]\n",
      " [ 75 549 346]\n",
      " [ 17 293 683]]\n",
      "              precision    recall  f1-score   support\n",
      "\n",
      "     Hip Hop       0.88      0.67      0.76      1037\n",
      "         Pop       0.51      0.57      0.54       970\n",
      "        Rock       0.60      0.69      0.64       993\n",
      "\n",
      "    accuracy                           0.64      3000\n",
      "   macro avg       0.66      0.64      0.65      3000\n",
      "weighted avg       0.67      0.64      0.65      3000\n",
      "\n",
      "Accuracy of ELMO is: 0.641\n"
     ]
    }
   ],
   "source": [
    "from sklearn import metrics\n",
    "\n",
    "print(metrics.confusion_matrix(y_test, y_preds))\n",
    "\n",
    "print(metrics.classification_report(y_test, y_preds, target_names=label_dict))\n",
    "\n",
    "from sklearn.metrics import accuracy_score\n",
    "\n",
    "print(\"Accuracy of ELMO is:\",accuracy_score(y_test,y_preds))"
   ]
  },
  {
   "cell_type": "code",
   "execution_count": null,
   "id": "13201f04",
   "metadata": {},
   "outputs": [],
   "source": []
  },
  {
   "cell_type": "code",
   "execution_count": null,
   "id": "western-america",
   "metadata": {},
   "outputs": [],
   "source": []
  }
 ],
 "metadata": {
  "kernelspec": {
   "display_name": "Environment (conda_tensorflow_p37)",
   "language": "python",
   "name": "conda_tensorflow_p37"
  },
  "language_info": {
   "codemirror_mode": {
    "name": "ipython",
    "version": 3
   },
   "file_extension": ".py",
   "mimetype": "text/x-python",
   "name": "python",
   "nbconvert_exporter": "python",
   "pygments_lexer": "ipython3",
   "version": "3.7.10"
  },
  "varInspector": {
   "cols": {
    "lenName": 16,
    "lenType": 16,
    "lenVar": 40
   },
   "kernels_config": {
    "python": {
     "delete_cmd_postfix": "",
     "delete_cmd_prefix": "del ",
     "library": "var_list.py",
     "varRefreshCmd": "print(var_dic_list())"
    },
    "r": {
     "delete_cmd_postfix": ") ",
     "delete_cmd_prefix": "rm(",
     "library": "var_list.r",
     "varRefreshCmd": "cat(var_dic_list()) "
    }
   },
   "types_to_exclude": [
    "module",
    "function",
    "builtin_function_or_method",
    "instance",
    "_Feature"
   ],
   "window_display": false
  }
 },
 "nbformat": 4,
 "nbformat_minor": 5
}
