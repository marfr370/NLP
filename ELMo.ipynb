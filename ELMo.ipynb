{
 "cells": [
  {
   "cell_type": "code",
   "execution_count": 27,
   "id": "9e264baa",
   "metadata": {},
   "outputs": [],
   "source": [
    "import pandas as pd\n",
    "from sklearn.preprocessing import LabelEncoder\n",
    "df = pd.read_csv('unprocessed_lyrics.csv')\n",
    "df = df.groupby('Genre', group_keys=False).apply(lambda s: s.sample(1000, random_state=42)) #\n"
   ]
  },
  {
   "cell_type": "code",
   "execution_count": 28,
   "id": "subjective-sunday",
   "metadata": {},
   "outputs": [
    {
     "data": {
      "text/html": [
       "<div>\n",
       "<style scoped>\n",
       "    .dataframe tbody tr th:only-of-type {\n",
       "        vertical-align: middle;\n",
       "    }\n",
       "\n",
       "    .dataframe tbody tr th {\n",
       "        vertical-align: top;\n",
       "    }\n",
       "\n",
       "    .dataframe thead th {\n",
       "        text-align: right;\n",
       "    }\n",
       "</style>\n",
       "<table border=\"1\" class=\"dataframe\">\n",
       "  <thead>\n",
       "    <tr style=\"text-align: right;\">\n",
       "      <th></th>\n",
       "      <th>SName</th>\n",
       "      <th>Lyric</th>\n",
       "      <th>Genre</th>\n",
       "      <th>Artist</th>\n",
       "      <th>lyric_length</th>\n",
       "    </tr>\n",
       "  </thead>\n",
       "  <tbody>\n",
       "    <tr>\n",
       "      <th>2157</th>\n",
       "      <td>What You Want</td>\n",
       "      <td>[Intro]. Ladies and gentlemen. We are gathered here today. To join. I see it, yeah. Yeah, yeah. I like this right here. Yeah, yeah. One-Two, One-Two, in the place to be. As you can see. I am the c...</td>\n",
       "      <td>Hip Hop</td>\n",
       "      <td>Puff Daddy</td>\n",
       "      <td>572</td>\n",
       "    </tr>\n",
       "    <tr>\n",
       "      <th>3187</th>\n",
       "      <td>Don't Throw Us Away</td>\n",
       "      <td>In a perfect world. I would still be your girl. In a perfect dream. You would still be with me. But nothing's perfect cus I'm still hurtin. Here I am all alone with a broken heart. Heart. I don't ...</td>\n",
       "      <td>Hip Hop</td>\n",
       "      <td>Ester Dean</td>\n",
       "      <td>365</td>\n",
       "    </tr>\n",
       "    <tr>\n",
       "      <th>9164</th>\n",
       "      <td>Middle Child</td>\n",
       "      <td>You good, T-Minus?. Niggas been countin' me out. I'm countin' my bullets, I'm loadin' my clips. I'm writin' down names, I'm makin' a list. I'm checkin' it twice and I'm gettin' 'em hit. The real o...</td>\n",
       "      <td>Hip Hop</td>\n",
       "      <td>J. Cole</td>\n",
       "      <td>719</td>\n",
       "    </tr>\n",
       "    <tr>\n",
       "      <th>2145</th>\n",
       "      <td>Leave Me Alone</td>\n",
       "      <td>[Snoop]. Yo.. uh-huh. I'ma try somethin different on this right here. but I know y'all gon' feel it. cause I know y'all feel me. It's some real shit right here, y'knahmsayin?. I ain't never did it...</td>\n",
       "      <td>Hip Hop</td>\n",
       "      <td>Snoop Dogg</td>\n",
       "      <td>557</td>\n",
       "    </tr>\n",
       "    <tr>\n",
       "      <th>6442</th>\n",
       "      <td>Just Lose It</td>\n",
       "      <td>{*Eminem making sounds*}. Okay. Guess who's back, back again. Shady's back, tell a friend. Now everyone report to the dance floor. To the dance floor, to the dance floor. Now everyone report to th...</td>\n",
       "      <td>Hip Hop</td>\n",
       "      <td>Eminem</td>\n",
       "      <td>725</td>\n",
       "    </tr>\n",
       "    <tr>\n",
       "      <th>...</th>\n",
       "      <td>...</td>\n",
       "      <td>...</td>\n",
       "      <td>...</td>\n",
       "      <td>...</td>\n",
       "      <td>...</td>\n",
       "    </tr>\n",
       "    <tr>\n",
       "      <th>36875</th>\n",
       "      <td>Send Away The Tigers</td>\n",
       "      <td>There’s no hope in the colonies. So catch yourself a lifeline. Things have gone wrong too many times. So catch yourself a slow boat to china. Fixing some holes from the tigers claws. All your tear...</td>\n",
       "      <td>Rock</td>\n",
       "      <td>Manic Street Preachers</td>\n",
       "      <td>184</td>\n",
       "    </tr>\n",
       "    <tr>\n",
       "      <th>38526</th>\n",
       "      <td>Knights Of Cydonia</td>\n",
       "      <td>Come ride with me. Through the veins of history. I'll show you a god. Who falls asleep on the job. And how can we win. When fools can be kings. Don't waste your time. Or time will waste you. No on...</td>\n",
       "      <td>Rock</td>\n",
       "      <td>Muse</td>\n",
       "      <td>126</td>\n",
       "    </tr>\n",
       "    <tr>\n",
       "      <th>32623</th>\n",
       "      <td>What If It All Means Something</td>\n",
       "      <td>If I could do anything for you. Believe me I would. Do you feel the same?. Feel the same as me?. If I could be anyone for you. Believe me I would. I?m not ashamed. Not ashamed to be. It?s hard for...</td>\n",
       "      <td>Rock</td>\n",
       "      <td>Chantal Kreviazuk</td>\n",
       "      <td>316</td>\n",
       "    </tr>\n",
       "    <tr>\n",
       "      <th>36551</th>\n",
       "      <td>Love Like a Sunset Part I</td>\n",
       "      <td>Acres. Visible horizon. Right where it starts and ends. Oh and then we start the end. Acres. A visible illusion. Oh where it starts it ends. You are like a sunset</td>\n",
       "      <td>Rock</td>\n",
       "      <td>Phoenix</td>\n",
       "      <td>31</td>\n",
       "    </tr>\n",
       "    <tr>\n",
       "      <th>34002</th>\n",
       "      <td>6/8</td>\n",
       "      <td>You live in a world I cannot believe. You create a world I don't want to see. And your forest's a stand of dead trees. lost in the night. Did you ever think you'd live down the past. You just want...</td>\n",
       "      <td>Rock</td>\n",
       "      <td>blink-182</td>\n",
       "      <td>231</td>\n",
       "    </tr>\n",
       "  </tbody>\n",
       "</table>\n",
       "<p>3000 rows × 5 columns</p>\n",
       "</div>"
      ],
      "text/plain": [
       "                                SName  \\\n",
       "2157                    What You Want   \n",
       "3187              Don't Throw Us Away   \n",
       "9164                     Middle Child   \n",
       "2145                   Leave Me Alone   \n",
       "6442                     Just Lose It   \n",
       "...                               ...   \n",
       "36875            Send Away The Tigers   \n",
       "38526              Knights Of Cydonia   \n",
       "32623  What If It All Means Something   \n",
       "36551       Love Like a Sunset Part I   \n",
       "34002                             6/8   \n",
       "\n",
       "                                                                                                                                                                                                         Lyric  \\\n",
       "2157   [Intro]. Ladies and gentlemen. We are gathered here today. To join. I see it, yeah. Yeah, yeah. I like this right here. Yeah, yeah. One-Two, One-Two, in the place to be. As you can see. I am the c...   \n",
       "3187   In a perfect world. I would still be your girl. In a perfect dream. You would still be with me. But nothing's perfect cus I'm still hurtin. Here I am all alone with a broken heart. Heart. I don't ...   \n",
       "9164   You good, T-Minus?. Niggas been countin' me out. I'm countin' my bullets, I'm loadin' my clips. I'm writin' down names, I'm makin' a list. I'm checkin' it twice and I'm gettin' 'em hit. The real o...   \n",
       "2145   [Snoop]. Yo.. uh-huh. I'ma try somethin different on this right here. but I know y'all gon' feel it. cause I know y'all feel me. It's some real shit right here, y'knahmsayin?. I ain't never did it...   \n",
       "6442   {*Eminem making sounds*}. Okay. Guess who's back, back again. Shady's back, tell a friend. Now everyone report to the dance floor. To the dance floor, to the dance floor. Now everyone report to th...   \n",
       "...                                                                                                                                                                                                        ...   \n",
       "36875  There’s no hope in the colonies. So catch yourself a lifeline. Things have gone wrong too many times. So catch yourself a slow boat to china. Fixing some holes from the tigers claws. All your tear...   \n",
       "38526  Come ride with me. Through the veins of history. I'll show you a god. Who falls asleep on the job. And how can we win. When fools can be kings. Don't waste your time. Or time will waste you. No on...   \n",
       "32623  If I could do anything for you. Believe me I would. Do you feel the same?. Feel the same as me?. If I could be anyone for you. Believe me I would. I?m not ashamed. Not ashamed to be. It?s hard for...   \n",
       "36551                                       Acres. Visible horizon. Right where it starts and ends. Oh and then we start the end. Acres. A visible illusion. Oh where it starts it ends. You are like a sunset   \n",
       "34002  You live in a world I cannot believe. You create a world I don't want to see. And your forest's a stand of dead trees. lost in the night. Did you ever think you'd live down the past. You just want...   \n",
       "\n",
       "         Genre                  Artist  lyric_length  \n",
       "2157   Hip Hop              Puff Daddy           572  \n",
       "3187   Hip Hop              Ester Dean           365  \n",
       "9164   Hip Hop                 J. Cole           719  \n",
       "2145   Hip Hop              Snoop Dogg           557  \n",
       "6442   Hip Hop                  Eminem           725  \n",
       "...        ...                     ...           ...  \n",
       "36875     Rock  Manic Street Preachers           184  \n",
       "38526     Rock                    Muse           126  \n",
       "32623     Rock       Chantal Kreviazuk           316  \n",
       "36551     Rock                 Phoenix            31  \n",
       "34002     Rock               blink-182           231  \n",
       "\n",
       "[3000 rows x 5 columns]"
      ]
     },
     "execution_count": 28,
     "metadata": {},
     "output_type": "execute_result"
    }
   ],
   "source": [
    "df"
   ]
  },
  {
   "cell_type": "code",
   "execution_count": 29,
   "id": "blessed-harrison",
   "metadata": {},
   "outputs": [],
   "source": [
    "# confirm TensorFlow sees the GPU\n",
    "from tensorflow.python.client import device_lib\n",
    "assert 'GPU' in str(device_lib.list_local_devices())\n",
    "\n",
    "# confirm Keras sees the GPU (for TensorFlow 1.X + Keras)\n",
    "from keras import backend\n",
    "assert len(backend.tensorflow_backend._get_available_gpus()) > 0"
   ]
  },
  {
   "cell_type": "code",
   "execution_count": 30,
   "id": "variable-olympus",
   "metadata": {},
   "outputs": [
    {
     "name": "stdout",
     "output_type": "stream",
     "text": [
      "[name: \"/device:CPU:0\"\n",
      "device_type: \"CPU\"\n",
      "memory_limit: 268435456\n",
      "locality {\n",
      "}\n",
      "incarnation: 15406044623610518844\n",
      ", name: \"/device:XLA_CPU:0\"\n",
      "device_type: \"XLA_CPU\"\n",
      "memory_limit: 17179869184\n",
      "locality {\n",
      "}\n",
      "incarnation: 8329998636343240033\n",
      "physical_device_desc: \"device: XLA_CPU device\"\n",
      ", name: \"/device:XLA_GPU:0\"\n",
      "device_type: \"XLA_GPU\"\n",
      "memory_limit: 17179869184\n",
      "locality {\n",
      "}\n",
      "incarnation: 674808946735445687\n",
      "physical_device_desc: \"device: XLA_GPU device\"\n",
      ", name: \"/device:GPU:0\"\n",
      "device_type: \"GPU\"\n",
      "memory_limit: 14949928141\n",
      "locality {\n",
      "  bus_id: 1\n",
      "  links {\n",
      "  }\n",
      "}\n",
      "incarnation: 15479246909865147292\n",
      "physical_device_desc: \"device: 0, name: Tesla T4, pci bus id: 0000:00:1e.0, compute capability: 7.5\"\n",
      "]\n"
     ]
    }
   ],
   "source": [
    "from tensorflow.python.client import device_lib\n",
    "print(device_lib.list_local_devices()) # list of DeviceAttributes\n",
    "\n"
   ]
  },
  {
   "cell_type": "code",
   "execution_count": 31,
   "id": "47581112",
   "metadata": {},
   "outputs": [],
   "source": [
    "\n",
    "df[\"label\"] = LabelEncoder().fit_transform(df[\"Genre\"])\n"
   ]
  },
  {
   "cell_type": "code",
   "execution_count": 32,
   "id": "386003d4",
   "metadata": {},
   "outputs": [],
   "source": [
    "import pandas as pd\n",
    "import numpy as np\n",
    "from tqdm import tqdm\n",
    "import re\n",
    "import time\n",
    "import pickle\n",
    "pd.set_option('display.max_colwidth', 200)"
   ]
  },
  {
   "cell_type": "code",
   "execution_count": 33,
   "id": "4024953b",
   "metadata": {},
   "outputs": [],
   "source": [
    "#!pip install tensorflow_hub\n",
    "import tensorflow_hub as hub\n",
    "\n",
    "\n",
    "embed = hub.Module(\"https://tfhub.dev/google/elmo/2\", trainable=True)"
   ]
  },
  {
   "cell_type": "code",
   "execution_count": 34,
   "id": "59357b43",
   "metadata": {},
   "outputs": [],
   "source": [
    "import tensorflow as tf\n",
    "import pandas as pd\n",
    "import keras\n",
    "\n",
    "from sklearn import preprocessing\n",
    "from keras.utils import np_utils\n",
    "import numpy as np\n",
    "\n",
    "\n",
    "y = list(df['label'])\n",
    "x = list(df['Lyric'])\n",
    "\n",
    "le = preprocessing.LabelEncoder()\n",
    "le.fit(y)\n",
    "\n",
    "def encode(le, labels):\n",
    "    enc = le.transform(labels)\n",
    "    return keras.utils.np_utils.to_categorical(enc)\n",
    "\n",
    "def decode(le, one_hot):\n",
    "    print(one_hot)\n",
    "    dec = np.argmax(one_hot, axis=1)\n",
    "    return le.inverse_transform(dec)\n",
    "\n",
    "\n",
    "x_enc = x\n",
    "y_enc = encode(le, y)"
   ]
  },
  {
   "cell_type": "code",
   "execution_count": 35,
   "id": "a6cdec50",
   "metadata": {},
   "outputs": [],
   "source": [
    "from sklearn.model_selection import train_test_split\n",
    "x_train, x_test, y_train, y_test = train_test_split(np.asarray(x_enc), np.asarray(y_enc), test_size=0.2, random_state=42)"
   ]
  },
  {
   "cell_type": "code",
   "execution_count": 36,
   "id": "420053bd",
   "metadata": {},
   "outputs": [
    {
     "data": {
      "text/plain": [
       "(2400,)"
      ]
     },
     "execution_count": 36,
     "metadata": {},
     "output_type": "execute_result"
    }
   ],
   "source": [
    "x_train.shape\n"
   ]
  },
  {
   "cell_type": "code",
   "execution_count": 37,
   "id": "6960aef8",
   "metadata": {},
   "outputs": [
    {
     "name": "stdout",
     "output_type": "stream",
     "text": [
      "Tensor(\"input_6:0\", shape=(?, 1), dtype=string)\n"
     ]
    }
   ],
   "source": [
    "from keras.layers import Input, Lambda, Dense\n",
    "import tensorflow as tf\n",
    "\n",
    "input_text = Input(shape=(1,), dtype=tf.string)\n",
    "print(input_text)"
   ]
  },
  {
   "cell_type": "code",
   "execution_count": 38,
   "id": "73e25980",
   "metadata": {},
   "outputs": [
    {
     "name": "stdout",
     "output_type": "stream",
     "text": [
      "INFO:tensorflow:Saver not created because there are no variables in the graph to restore\n"
     ]
    },
    {
     "name": "stderr",
     "output_type": "stream",
     "text": [
      "INFO:tensorflow:Saver not created because there are no variables in the graph to restore\n"
     ]
    },
    {
     "name": "stdout",
     "output_type": "stream",
     "text": [
      "Device mapping:\n",
      "/job:localhost/replica:0/task:0/device:XLA_CPU:0 -> device: XLA_CPU device\n",
      "/job:localhost/replica:0/task:0/device:XLA_GPU:0 -> device: XLA_GPU device\n",
      "/job:localhost/replica:0/task:0/device:GPU:0 -> device: 0, name: Tesla T4, pci bus id: 0000:00:1e.0, compute capability: 7.5\n",
      "\n",
      "Epoch 1/3\n",
      "2400/2400 [==============================] - 436s 182ms/step - loss: 0.8575 - acc: 0.6042\n",
      "Epoch 2/3\n",
      "2400/2400 [==============================] - 370s 154ms/step - loss: 0.7558 - acc: 0.6362\n",
      "Epoch 3/3\n",
      "2400/2400 [==============================] - 352s 147ms/step - loss: 0.7386 - acc: 0.6583\n",
      "[[0. 1. 0.]\n",
      " [0. 1. 0.]\n",
      " [0. 1. 0.]\n",
      " ...\n",
      " [1. 0. 0.]\n",
      " [0. 1. 0.]\n",
      " [0. 1. 0.]]\n",
      "[[1.2161297e-01 5.0545454e-01 3.7293255e-01]\n",
      " [4.6397731e-01 4.6439740e-01 7.1625315e-02]\n",
      " [8.9550269e-01 8.8913463e-02 1.5583757e-02]\n",
      " ...\n",
      " [9.9615085e-01 3.3364482e-03 5.1275908e-04]\n",
      " [6.1766517e-01 2.8925583e-01 9.3078934e-02]\n",
      " [2.1451554e-01 4.2613980e-01 3.5934466e-01]]\n"
     ]
    }
   ],
   "source": [
    "from keras.layers import Input, Lambda, Dense\n",
    "from keras.models import Model\n",
    "import keras.backend as K\n",
    "\n",
    "def ELMoEmbedding(x):\n",
    "    return embed(tf.squeeze(tf.cast(x, tf.string)), signature=\"default\", as_dict=True)[\"default\"]\n",
    "\n",
    "input_text = Input(shape=(1,), dtype=tf.string)\n",
    "\n",
    "embedding = Lambda(ELMoEmbedding, output_shape=(1024, ))(input_text) # elmo vectors are of size 1024. Our first layer (input layer)\n",
    "dense = Dense(256, activation='relu')(embedding) # second layer, (dense layer) each node is connected to all nodes of the preceding layer\n",
    "pred = Dense(3, activation='softmax')(dense) # output layer\n",
    "model = Model(inputs=[input_text], outputs=pred)\n",
    "model.compile(loss='categorical_crossentropy', optimizer='adam', metrics=['accuracy'])\n",
    "\n",
    "with tf.Session(config=tf.ConfigProto(log_device_placement=True)) as session:\n",
    "    K.set_session(session)\n",
    "    session.run(tf.global_variables_initializer())  \n",
    "    session.run(tf.tables_initializer())\n",
    "    history = model.fit(x_train, y_train, epochs=3, batch_size=16)\n",
    "    predicts = model.predict(x_test, batch_size=16)\n",
    "    #model.save_weights('./elmo-model.h5')\n",
    "\n",
    "y_test = decode(le, y_test)\n",
    "y_preds = decode(le, predicts)"
   ]
  },
  {
   "cell_type": "code",
   "execution_count": 39,
   "id": "8ad57346",
   "metadata": {},
   "outputs": [
    {
     "name": "stdout",
     "output_type": "stream",
     "text": [
      "[[180  26  11]\n",
      " [ 60  94  43]\n",
      " [ 21  68  97]]\n",
      "              precision    recall  f1-score   support\n",
      "\n",
      "           0       0.69      0.83      0.75       217\n",
      "           1       0.50      0.48      0.49       197\n",
      "           2       0.64      0.52      0.58       186\n",
      "\n",
      "    accuracy                           0.62       600\n",
      "   macro avg       0.61      0.61      0.61       600\n",
      "weighted avg       0.61      0.62      0.61       600\n",
      "\n",
      "Accuracy of ELMO is: 0.6183333333333333\n"
     ]
    }
   ],
   "source": [
    "from sklearn import metrics\n",
    "\n",
    "print(metrics.confusion_matrix(y_test, y_preds))\n",
    "\n",
    "print(metrics.classification_report(y_test, y_preds))\n",
    "\n",
    "from sklearn.metrics import accuracy_score\n",
    "\n",
    "print(\"Accuracy of ELMO is:\",accuracy_score(y_test,y_preds))"
   ]
  },
  {
   "cell_type": "code",
   "execution_count": null,
   "id": "13201f04",
   "metadata": {},
   "outputs": [],
   "source": []
  },
  {
   "cell_type": "code",
   "execution_count": null,
   "id": "western-america",
   "metadata": {},
   "outputs": [],
   "source": []
  }
 ],
 "metadata": {
  "kernelspec": {
   "display_name": "Python 3",
   "language": "python",
   "name": "python3"
  },
  "language_info": {
   "codemirror_mode": {
    "name": "ipython",
    "version": 3
   },
   "file_extension": ".py",
   "mimetype": "text/x-python",
   "name": "python",
   "nbconvert_exporter": "python",
   "pygments_lexer": "ipython3",
   "version": "3.7.10"
  },
  "varInspector": {
   "cols": {
    "lenName": 16,
    "lenType": 16,
    "lenVar": 40
   },
   "kernels_config": {
    "python": {
     "delete_cmd_postfix": "",
     "delete_cmd_prefix": "del ",
     "library": "var_list.py",
     "varRefreshCmd": "print(var_dic_list())"
    },
    "r": {
     "delete_cmd_postfix": ") ",
     "delete_cmd_prefix": "rm(",
     "library": "var_list.r",
     "varRefreshCmd": "cat(var_dic_list()) "
    }
   },
   "types_to_exclude": [
    "module",
    "function",
    "builtin_function_or_method",
    "instance",
    "_Feature"
   ],
   "window_display": false
  }
 },
 "nbformat": 4,
 "nbformat_minor": 5
}
