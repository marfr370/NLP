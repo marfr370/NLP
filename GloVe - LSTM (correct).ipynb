{
 "cells": [
  {
   "cell_type": "code",
   "execution_count": 1,
   "id": "d87a1d6e",
   "metadata": {},
   "outputs": [
    {
     "name": "stderr",
     "output_type": "stream",
     "text": [
      "Using TensorFlow backend.\n"
     ]
    },
    {
     "name": "stdout",
     "output_type": "stream",
     "text": [
      "WARNING:tensorflow:From /home/ubuntu/anaconda3/envs/tensorflow_p37/gpu_cuda11.0/lib/python3.7/site-packages/tensorflow_core/__init__.py:1473: The name tf.estimator.inputs is deprecated. Please use tf.compat.v1.estimator.inputs instead.\n",
      "\n"
     ]
    }
   ],
   "source": [
    "import numpy as np # linear algebra\n",
    "import pandas as pd # data processing, CSV file I/O (e.g. pd.read_csv)\n",
    "\n",
    "from keras.models import Sequential\n",
    "from keras.layers import LSTM,Dense,Dropout,Embedding,CuDNNLSTM,Bidirectional\n",
    "from keras.preprocessing.text import Tokenizer\n",
    "from keras.preprocessing.sequence import pad_sequences\n",
    "from tqdm import tqdm\n",
    "import matplotlib.pyplot as plt\n",
    "import seaborn as sns\n",
    "%matplotlib inline"
   ]
  },
  {
   "cell_type": "code",
   "execution_count": 2,
   "id": "0968f459",
   "metadata": {},
   "outputs": [],
   "source": [
    "import pandas as pd\n",
    "from sklearn.preprocessing import LabelEncoder\n",
    "from sklearn import preprocessing\n",
    "\n",
    "df = pd.read_csv('unprocessed_lyrics.csv')\n",
    "df = df.groupby('Genre', group_keys=False).apply(lambda s: s.sample(5000, random_state=42)) #\n"
   ]
  },
  {
   "cell_type": "code",
   "execution_count": 3,
   "id": "6c7de80e",
   "metadata": {},
   "outputs": [
    {
     "data": {
      "text/html": [
       "<div>\n",
       "<style scoped>\n",
       "    .dataframe tbody tr th:only-of-type {\n",
       "        vertical-align: middle;\n",
       "    }\n",
       "\n",
       "    .dataframe tbody tr th {\n",
       "        vertical-align: top;\n",
       "    }\n",
       "\n",
       "    .dataframe thead th {\n",
       "        text-align: right;\n",
       "    }\n",
       "</style>\n",
       "<table border=\"1\" class=\"dataframe\">\n",
       "  <thead>\n",
       "    <tr style=\"text-align: right;\">\n",
       "      <th></th>\n",
       "      <th>SName</th>\n",
       "      <th>Lyric</th>\n",
       "      <th>Genre</th>\n",
       "      <th>Artist</th>\n",
       "      <th>lyric_length</th>\n",
       "    </tr>\n",
       "  </thead>\n",
       "  <tbody>\n",
       "    <tr>\n",
       "      <th>2157</th>\n",
       "      <td>Family Affair</td>\n",
       "      <td>Refrain:. Let's get it crunkupon. We gon' have...</td>\n",
       "      <td>Hip Hop</td>\n",
       "      <td>Mary J. Blige</td>\n",
       "      <td>567</td>\n",
       "    </tr>\n",
       "    <tr>\n",
       "      <th>3187</th>\n",
       "      <td>Ransom (ft. Lil' Wayne)</td>\n",
       "      <td>Ransom,. . Yeah,. its Drizzy Baby. you already...</td>\n",
       "      <td>Hip Hop</td>\n",
       "      <td>Drake</td>\n",
       "      <td>967</td>\n",
       "    </tr>\n",
       "    <tr>\n",
       "      <th>9164</th>\n",
       "      <td>Close To Me</td>\n",
       "      <td>T.O.S.. (50 Cent). Unstoppable, incredible, im...</td>\n",
       "      <td>Hip Hop</td>\n",
       "      <td>G-Unit</td>\n",
       "      <td>557</td>\n",
       "    </tr>\n",
       "    <tr>\n",
       "      <th>2145</th>\n",
       "      <td>Zone</td>\n",
       "      <td>uhh, yea. uh uh uh. alright, well alright. . i...</td>\n",
       "      <td>Hip Hop</td>\n",
       "      <td>Drake</td>\n",
       "      <td>400</td>\n",
       "    </tr>\n",
       "    <tr>\n",
       "      <th>6442</th>\n",
       "      <td>Why You Up In Here (feat. Ludacris, Git Fresh ...</td>\n",
       "      <td>Flo-Rida. Gucci!. Bird!. I done bought all thi...</td>\n",
       "      <td>Hip Hop</td>\n",
       "      <td>Flo Rida</td>\n",
       "      <td>524</td>\n",
       "    </tr>\n",
       "    <tr>\n",
       "      <th>...</th>\n",
       "      <td>...</td>\n",
       "      <td>...</td>\n",
       "      <td>...</td>\n",
       "      <td>...</td>\n",
       "      <td>...</td>\n",
       "    </tr>\n",
       "    <tr>\n",
       "      <th>31738</th>\n",
       "      <td>What do You Need?</td>\n",
       "      <td>What do you need from me tonight?. I feel you ...</td>\n",
       "      <td>Rock</td>\n",
       "      <td>Goo Goo Dolls</td>\n",
       "      <td>197</td>\n",
       "    </tr>\n",
       "    <tr>\n",
       "      <th>31425</th>\n",
       "      <td>Rebel Heart</td>\n",
       "      <td>(R. Stewart, J. Golub, C. Kentis, C. Rojas). I...</td>\n",
       "      <td>Rock</td>\n",
       "      <td>Rod Stewart</td>\n",
       "      <td>412</td>\n",
       "    </tr>\n",
       "    <tr>\n",
       "      <th>35407</th>\n",
       "      <td>Before The Dawn</td>\n",
       "      <td>Meet me after dark again and I'll hold you. I ...</td>\n",
       "      <td>Rock</td>\n",
       "      <td>Evanescence</td>\n",
       "      <td>114</td>\n",
       "    </tr>\n",
       "    <tr>\n",
       "      <th>35281</th>\n",
       "      <td>Spanish is the Loving Tongue</td>\n",
       "      <td>Broke my heart, lost my soul. Adios,mi cora so...</td>\n",
       "      <td>Rock</td>\n",
       "      <td>Bob Dylan</td>\n",
       "      <td>126</td>\n",
       "    </tr>\n",
       "    <tr>\n",
       "      <th>38982</th>\n",
       "      <td>There Goes My Baby</td>\n",
       "      <td>There goes my baby going for a ride yeah there...</td>\n",
       "      <td>Rock</td>\n",
       "      <td>Ricky Nelson</td>\n",
       "      <td>113</td>\n",
       "    </tr>\n",
       "  </tbody>\n",
       "</table>\n",
       "<p>15000 rows × 5 columns</p>\n",
       "</div>"
      ],
      "text/plain": [
       "                                                   SName  \\\n",
       "2157                                       Family Affair   \n",
       "3187                             Ransom (ft. Lil' Wayne)   \n",
       "9164                                         Close To Me   \n",
       "2145                                                Zone   \n",
       "6442   Why You Up In Here (feat. Ludacris, Git Fresh ...   \n",
       "...                                                  ...   \n",
       "31738                                  What do You Need?   \n",
       "31425                                        Rebel Heart   \n",
       "35407                                    Before The Dawn   \n",
       "35281                       Spanish is the Loving Tongue   \n",
       "38982                                 There Goes My Baby   \n",
       "\n",
       "                                                   Lyric    Genre  \\\n",
       "2157   Refrain:. Let's get it crunkupon. We gon' have...  Hip Hop   \n",
       "3187   Ransom,. . Yeah,. its Drizzy Baby. you already...  Hip Hop   \n",
       "9164   T.O.S.. (50 Cent). Unstoppable, incredible, im...  Hip Hop   \n",
       "2145   uhh, yea. uh uh uh. alright, well alright. . i...  Hip Hop   \n",
       "6442   Flo-Rida. Gucci!. Bird!. I done bought all thi...  Hip Hop   \n",
       "...                                                  ...      ...   \n",
       "31738  What do you need from me tonight?. I feel you ...     Rock   \n",
       "31425  (R. Stewart, J. Golub, C. Kentis, C. Rojas). I...     Rock   \n",
       "35407  Meet me after dark again and I'll hold you. I ...     Rock   \n",
       "35281  Broke my heart, lost my soul. Adios,mi cora so...     Rock   \n",
       "38982  There goes my baby going for a ride yeah there...     Rock   \n",
       "\n",
       "              Artist  lyric_length  \n",
       "2157   Mary J. Blige           567  \n",
       "3187           Drake           967  \n",
       "9164          G-Unit           557  \n",
       "2145           Drake           400  \n",
       "6442        Flo Rida           524  \n",
       "...              ...           ...  \n",
       "31738  Goo Goo Dolls           197  \n",
       "31425    Rod Stewart           412  \n",
       "35407    Evanescence           114  \n",
       "35281      Bob Dylan           126  \n",
       "38982   Ricky Nelson           113  \n",
       "\n",
       "[15000 rows x 5 columns]"
      ]
     },
     "execution_count": 3,
     "metadata": {},
     "output_type": "execute_result"
    }
   ],
   "source": [
    "df"
   ]
  },
  {
   "cell_type": "code",
   "execution_count": 4,
   "id": "be9fffd1",
   "metadata": {},
   "outputs": [],
   "source": [
    "x = df['Lyric']\n",
    "y = df['Genre']"
   ]
  },
  {
   "cell_type": "code",
   "execution_count": 5,
   "id": "a3950804",
   "metadata": {},
   "outputs": [],
   "source": [
    "MAXLENGTH = 500"
   ]
  },
  {
   "cell_type": "code",
   "execution_count": 25,
   "id": "dfccdcb5",
   "metadata": {},
   "outputs": [],
   "source": [
    "label_encoder = preprocessing.LabelEncoder()\n",
    "labels = label_encoder.fit_transform(df.Genre.values)\n",
    "np.unique(labels)"
   ]
  },
  {
   "cell_type": "code",
   "execution_count": 26,
   "id": "6f4a1eef",
   "metadata": {},
   "outputs": [],
   "source": [
    "from sklearn.model_selection import train_test_split\n",
    "\n",
    "xtrain, xtest, ytrain, ytest = train_test_split(df.Lyric.values, \n",
    "                                                labels, \n",
    "                                                random_state=42, \n",
    "                                                test_size=0.1, \n",
    "                                                shuffle=True)"
   ]
  },
  {
   "cell_type": "code",
   "execution_count": 27,
   "id": "bbe5fcc2",
   "metadata": {
    "scrolled": true
   },
   "outputs": [],
   "source": [
    "token = Tokenizer()\n"
   ]
  },
  {
   "cell_type": "code",
   "execution_count": 9,
   "id": "b8d2fb4d",
   "metadata": {},
   "outputs": [],
   "source": [
    "token.fit_on_texts(xtrain)\n",
    "seq = token.texts_to_sequences(xtrain)\n"
   ]
  },
  {
   "cell_type": "code",
   "execution_count": 10,
   "id": "513cb0d4",
   "metadata": {},
   "outputs": [],
   "source": [
    "pad_seq = pad_sequences(seq,maxlen=MAXLENGTH)\n"
   ]
  },
  {
   "cell_type": "code",
   "execution_count": 11,
   "id": "8934cccf",
   "metadata": {},
   "outputs": [],
   "source": [
    "seq_test = token.texts_to_sequences(xtest)\n",
    "pad_seq_test = pad_sequences(seq_test,maxlen=MAXLENGTH)\n"
   ]
  },
  {
   "cell_type": "code",
   "execution_count": 12,
   "id": "25dae7ca",
   "metadata": {},
   "outputs": [],
   "source": [
    "vocab_size = len(token.word_index)+1\n"
   ]
  },
  {
   "cell_type": "code",
   "execution_count": 13,
   "id": "93c2a48b",
   "metadata": {},
   "outputs": [
    {
     "name": "stderr",
     "output_type": "stream",
     "text": [
      "1193517it [00:59, 19985.88it/s]\n"
     ]
    }
   ],
   "source": [
    "embedding_vector = {}\n",
    "f = open('glove.twitter.27B.200d.txt',encoding='utf8')\n",
    "for line in tqdm(f):\n",
    "    value = line.split(' ')\n",
    "    word = value[0]\n",
    "    coef = np.array(value[1:],dtype = 'float32')\n",
    "    embedding_vector[word] = coef"
   ]
  },
  {
   "cell_type": "code",
   "execution_count": 14,
   "id": "88cf5d71",
   "metadata": {},
   "outputs": [
    {
     "name": "stderr",
     "output_type": "stream",
     "text": [
      "100%|██████████| 59210/59210 [00:00<00:00, 427125.29it/s]\n"
     ]
    }
   ],
   "source": [
    "embedding_matrix = np.zeros((vocab_size,200))\n",
    "for word,i in tqdm(token.word_index.items()):\n",
    "    embedding_value = embedding_vector.get(word)\n",
    "    if embedding_value is not None:\n",
    "        embedding_matrix[i] = embedding_value"
   ]
  },
  {
   "cell_type": "code",
   "execution_count": 15,
   "id": "44d18737",
   "metadata": {},
   "outputs": [
    {
     "name": "stdout",
     "output_type": "stream",
     "text": [
      "WARNING:tensorflow:From /home/ubuntu/anaconda3/envs/tensorflow_p37/lib/python3.7/site-packages/keras/backend/tensorflow_backend.py:74: The name tf.get_default_graph is deprecated. Please use tf.compat.v1.get_default_graph instead.\n",
      "\n"
     ]
    }
   ],
   "source": [
    "model=Sequential()"
   ]
  },
  {
   "cell_type": "code",
   "execution_count": 16,
   "id": "ac61cee3",
   "metadata": {},
   "outputs": [
    {
     "name": "stdout",
     "output_type": "stream",
     "text": [
      "WARNING:tensorflow:From /home/ubuntu/anaconda3/envs/tensorflow_p37/lib/python3.7/site-packages/keras/backend/tensorflow_backend.py:517: The name tf.placeholder is deprecated. Please use tf.compat.v1.placeholder instead.\n",
      "\n",
      "WARNING:tensorflow:From /home/ubuntu/anaconda3/envs/tensorflow_p37/lib/python3.7/site-packages/keras/backend/tensorflow_backend.py:4138: The name tf.random_uniform is deprecated. Please use tf.random.uniform instead.\n",
      "\n",
      "WARNING:tensorflow:From /home/ubuntu/anaconda3/envs/tensorflow_p37/lib/python3.7/site-packages/keras/backend/tensorflow_backend.py:174: The name tf.get_default_session is deprecated. Please use tf.compat.v1.get_default_session instead.\n",
      "\n",
      "WARNING:tensorflow:From /home/ubuntu/anaconda3/envs/tensorflow_p37/lib/python3.7/site-packages/keras/backend/tensorflow_backend.py:181: The name tf.ConfigProto is deprecated. Please use tf.compat.v1.ConfigProto instead.\n",
      "\n",
      "WARNING:tensorflow:From /home/ubuntu/anaconda3/envs/tensorflow_p37/lib/python3.7/site-packages/keras/backend/tensorflow_backend.py:186: The name tf.Session is deprecated. Please use tf.compat.v1.Session instead.\n",
      "\n",
      "WARNING:tensorflow:From /home/ubuntu/anaconda3/envs/tensorflow_p37/lib/python3.7/site-packages/keras/backend/tensorflow_backend.py:190: The name tf.global_variables is deprecated. Please use tf.compat.v1.global_variables instead.\n",
      "\n",
      "WARNING:tensorflow:From /home/ubuntu/anaconda3/envs/tensorflow_p37/lib/python3.7/site-packages/keras/backend/tensorflow_backend.py:199: The name tf.is_variable_initialized is deprecated. Please use tf.compat.v1.is_variable_initialized instead.\n",
      "\n",
      "WARNING:tensorflow:From /home/ubuntu/anaconda3/envs/tensorflow_p37/lib/python3.7/site-packages/keras/backend/tensorflow_backend.py:206: The name tf.variables_initializer is deprecated. Please use tf.compat.v1.variables_initializer instead.\n",
      "\n"
     ]
    }
   ],
   "source": [
    "model.add(Embedding(vocab_size,200,weights = [embedding_matrix],input_length=MAXLENGTH,trainable = False))\n"
   ]
  },
  {
   "cell_type": "code",
   "execution_count": 17,
   "id": "3bfc436e",
   "metadata": {},
   "outputs": [
    {
     "name": "stdout",
     "output_type": "stream",
     "text": [
      "WARNING:tensorflow:From /home/ubuntu/anaconda3/envs/tensorflow_p37/lib/python3.7/site-packages/keras/backend/tensorflow_backend.py:133: The name tf.placeholder_with_default is deprecated. Please use tf.compat.v1.placeholder_with_default instead.\n",
      "\n",
      "WARNING:tensorflow:From /home/ubuntu/anaconda3/envs/tensorflow_p37/lib/python3.7/site-packages/keras/backend/tensorflow_backend.py:3445: calling dropout (from tensorflow.python.ops.nn_ops) with keep_prob is deprecated and will be removed in a future version.\n",
      "Instructions for updating:\n",
      "Please use `rate` instead of `keep_prob`. Rate should be set to `rate = 1 - keep_prob`.\n"
     ]
    }
   ],
   "source": [
    "model.add(Bidirectional(LSTM(128, dropout=0.3, recurrent_dropout=0.3)))\n"
   ]
  },
  {
   "cell_type": "code",
   "execution_count": 18,
   "id": "b50e957a",
   "metadata": {},
   "outputs": [],
   "source": [
    "model.add(Dense(32,activation = 'relu'))\n"
   ]
  },
  {
   "cell_type": "code",
   "execution_count": 19,
   "id": "0c274721",
   "metadata": {},
   "outputs": [],
   "source": [
    "model.add(Dense(3,activation = 'sigmoid'))\n"
   ]
  },
  {
   "cell_type": "code",
   "execution_count": 20,
   "id": "76ad7a0e",
   "metadata": {},
   "outputs": [
    {
     "name": "stdout",
     "output_type": "stream",
     "text": [
      "WARNING:tensorflow:From /home/ubuntu/anaconda3/envs/tensorflow_p37/lib/python3.7/site-packages/keras/optimizers.py:790: The name tf.train.Optimizer is deprecated. Please use tf.compat.v1.train.Optimizer instead.\n",
      "\n",
      "WARNING:tensorflow:From /home/ubuntu/anaconda3/envs/tensorflow_p37/lib/python3.7/site-packages/keras/backend/tensorflow_backend.py:3376: The name tf.log is deprecated. Please use tf.math.log instead.\n",
      "\n",
      "WARNING:tensorflow:From /home/ubuntu/anaconda3/envs/tensorflow_p37/gpu_cuda11.0/lib/python3.7/site-packages/tensorflow_core/python/ops/nn_impl.py:183: where (from tensorflow.python.ops.array_ops) is deprecated and will be removed in a future version.\n",
      "Instructions for updating:\n",
      "Use tf.where in 2.0, which has the same broadcast rule as np.where\n"
     ]
    }
   ],
   "source": [
    "model.compile(optimizer='adam',loss='binary_crossentropy',metrics = ['accuracy'])\n"
   ]
  },
  {
   "cell_type": "code",
   "execution_count": 21,
   "id": "7e4ed9fc",
   "metadata": {},
   "outputs": [
    {
     "data": {
      "text/plain": [
       "(13500, 500)"
      ]
     },
     "execution_count": 21,
     "metadata": {},
     "output_type": "execute_result"
    }
   ],
   "source": [
    "pad_seq.shape"
   ]
  },
  {
   "cell_type": "code",
   "execution_count": 22,
   "id": "ce3472bd",
   "metadata": {},
   "outputs": [],
   "source": [
    "from keras.utils import np_utils\n",
    "\n",
    "ytrain_encode = np_utils.to_categorical(ytrain)\n",
    "ytest_encode = np_utils.to_categorical(ytest)"
   ]
  },
  {
   "cell_type": "code",
   "execution_count": 23,
   "id": "46df5d74",
   "metadata": {
    "scrolled": true
   },
   "outputs": [
    {
     "name": "stdout",
     "output_type": "stream",
     "text": [
      "WARNING:tensorflow:From /home/ubuntu/anaconda3/envs/tensorflow_p37/lib/python3.7/site-packages/keras/backend/tensorflow_backend.py:986: The name tf.assign_add is deprecated. Please use tf.compat.v1.assign_add instead.\n",
      "\n",
      "WARNING:tensorflow:From /home/ubuntu/anaconda3/envs/tensorflow_p37/lib/python3.7/site-packages/keras/backend/tensorflow_backend.py:973: The name tf.assign is deprecated. Please use tf.compat.v1.assign instead.\n",
      "\n",
      "Epoch 1/2\n",
      "13500/13500 [==============================] - 1067s 79ms/step - loss: 0.5089 - acc: 0.7352\n",
      "Epoch 2/2\n",
      "13500/13500 [==============================] - 1067s 79ms/step - loss: 0.4689 - acc: 0.7576\n"
     ]
    }
   ],
   "source": [
    "history = model.fit(pad_seq,ytrain_encode,epochs = 2,batch_size=16)\n"
   ]
  },
  {
   "cell_type": "markdown",
   "id": "64c3679b",
   "metadata": {},
   "source": [
    "Large diff between acc on training vs testing (might be overfit)?"
   ]
  },
  {
   "cell_type": "code",
   "execution_count": 24,
   "id": "e3fddd79",
   "metadata": {
    "scrolled": false
   },
   "outputs": [
    {
     "name": "stdout",
     "output_type": "stream",
     "text": [
      "1500/1500 [==============================] - 47s 31ms/step\n",
      "              precision    recall  f1-score   support\n",
      "\n",
      "           0       0.82      0.84      0.83       516\n",
      "           1       0.54      0.56      0.55       503\n",
      "           2       0.62      0.58      0.60       481\n",
      "\n",
      "    accuracy                           0.66      1500\n",
      "   macro avg       0.66      0.66      0.66      1500\n",
      "weighted avg       0.66      0.66      0.66      1500\n",
      "\n"
     ]
    }
   ],
   "source": [
    "from sklearn.metrics import classification_report\n",
    "\n",
    "y_pred = model.predict(pad_seq_test, batch_size=16, verbose=1)\n",
    "y_pred_bool = np.argmax(y_pred, axis=1)\n",
    "print(classification_report(ytest, y_pred_bool))"
   ]
  },
  {
   "cell_type": "code",
   "execution_count": null,
   "id": "5832e087",
   "metadata": {},
   "outputs": [],
   "source": []
  }
 ],
 "metadata": {
  "kernelspec": {
   "display_name": "Environment (conda_tensorflow_p37)",
   "language": "python",
   "name": "conda_tensorflow_p37"
  },
  "language_info": {
   "codemirror_mode": {
    "name": "ipython",
    "version": 3
   },
   "file_extension": ".py",
   "mimetype": "text/x-python",
   "name": "python",
   "nbconvert_exporter": "python",
   "pygments_lexer": "ipython3",
   "version": "3.7.10"
  }
 },
 "nbformat": 4,
 "nbformat_minor": 5
}
