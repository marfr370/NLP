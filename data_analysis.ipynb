{
 "cells": [
  {
   "cell_type": "code",
   "execution_count": 1,
   "id": "9f975784",
   "metadata": {},
   "outputs": [],
   "source": [
    "import pandas as pd\n",
    "df = pd.read_csv('preprocessed_lyrics.csv')"
   ]
  },
  {
   "cell_type": "code",
   "execution_count": 2,
   "id": "edc09001",
   "metadata": {},
   "outputs": [
    {
     "data": {
      "text/html": [
       "<div>\n",
       "<style scoped>\n",
       "    .dataframe tbody tr th:only-of-type {\n",
       "        vertical-align: middle;\n",
       "    }\n",
       "\n",
       "    .dataframe tbody tr th {\n",
       "        vertical-align: top;\n",
       "    }\n",
       "\n",
       "    .dataframe thead th {\n",
       "        text-align: right;\n",
       "    }\n",
       "</style>\n",
       "<table border=\"1\" class=\"dataframe\">\n",
       "  <thead>\n",
       "    <tr style=\"text-align: right;\">\n",
       "      <th></th>\n",
       "      <th>SName</th>\n",
       "      <th>Lyric</th>\n",
       "      <th>Genre</th>\n",
       "      <th>Artist</th>\n",
       "      <th>lyric_length_processed</th>\n",
       "    </tr>\n",
       "  </thead>\n",
       "  <tbody>\n",
       "    <tr>\n",
       "      <th>0</th>\n",
       "      <td>Family Affair</td>\n",
       "      <td>refrain let crunkupon gon fun dancery ya open ...</td>\n",
       "      <td>Hip Hop</td>\n",
       "      <td>Mary J. Blige</td>\n",
       "      <td>244</td>\n",
       "    </tr>\n",
       "    <tr>\n",
       "      <th>1</th>\n",
       "      <td>Ransom (ft. Lil' Wayne)</td>\n",
       "      <td>ransom yeah Drizzy Baby know time high time sm...</td>\n",
       "      <td>Hip Hop</td>\n",
       "      <td>Drake</td>\n",
       "      <td>426</td>\n",
       "    </tr>\n",
       "    <tr>\n",
       "      <th>2</th>\n",
       "      <td>Close To Me</td>\n",
       "      <td>Cent unstoppable incredible impeccable unit wh...</td>\n",
       "      <td>Hip Hop</td>\n",
       "      <td>G-Unit</td>\n",
       "      <td>242</td>\n",
       "    </tr>\n",
       "    <tr>\n",
       "      <th>3</th>\n",
       "      <td>Zone</td>\n",
       "      <td>uhh yea uh uh uh alright alright love bump bad...</td>\n",
       "      <td>Hip Hop</td>\n",
       "      <td>Drake</td>\n",
       "      <td>164</td>\n",
       "    </tr>\n",
       "    <tr>\n",
       "      <th>4</th>\n",
       "      <td>Why You Up In Here (feat. Ludacris, Git Fresh ...</td>\n",
       "      <td>Flo Rida Gucci bird buy ciroc lil mama jock st...</td>\n",
       "      <td>Hip Hop</td>\n",
       "      <td>Flo Rida</td>\n",
       "      <td>199</td>\n",
       "    </tr>\n",
       "    <tr>\n",
       "      <th>...</th>\n",
       "      <td>...</td>\n",
       "      <td>...</td>\n",
       "      <td>...</td>\n",
       "      <td>...</td>\n",
       "      <td>...</td>\n",
       "    </tr>\n",
       "    <tr>\n",
       "      <th>994</th>\n",
       "      <td>Winterlong</td>\n",
       "      <td>fall rain cease dissolve come home grace let f...</td>\n",
       "      <td>Rock</td>\n",
       "      <td>Smashing Pumpkins</td>\n",
       "      <td>63</td>\n",
       "    </tr>\n",
       "    <tr>\n",
       "      <th>995</th>\n",
       "      <td>Follow The Leader</td>\n",
       "      <td>loose cannon shoulder strawberry hip phantasmi...</td>\n",
       "      <td>Rock</td>\n",
       "      <td>Bad Religion</td>\n",
       "      <td>73</td>\n",
       "    </tr>\n",
       "    <tr>\n",
       "      <th>996</th>\n",
       "      <td>RP McMurphy</td>\n",
       "      <td>straight jacket beauty breakdown away gutter j...</td>\n",
       "      <td>Rock</td>\n",
       "      <td>Manic Street Preachers</td>\n",
       "      <td>82</td>\n",
       "    </tr>\n",
       "    <tr>\n",
       "      <th>997</th>\n",
       "      <td>NEWBORN AWAKENING</td>\n",
       "      <td>gently stir gently rise dead newborn awakening...</td>\n",
       "      <td>Rock</td>\n",
       "      <td>The Doors</td>\n",
       "      <td>49</td>\n",
       "    </tr>\n",
       "    <tr>\n",
       "      <th>998</th>\n",
       "      <td>Living In The Storm</td>\n",
       "      <td>wrong friend head violence try pretend want tr...</td>\n",
       "      <td>Rock</td>\n",
       "      <td>The Pretty Reckless</td>\n",
       "      <td>61</td>\n",
       "    </tr>\n",
       "  </tbody>\n",
       "</table>\n",
       "<p>999 rows × 5 columns</p>\n",
       "</div>"
      ],
      "text/plain": [
       "                                                 SName  \\\n",
       "0                                        Family Affair   \n",
       "1                              Ransom (ft. Lil' Wayne)   \n",
       "2                                          Close To Me   \n",
       "3                                                 Zone   \n",
       "4    Why You Up In Here (feat. Ludacris, Git Fresh ...   \n",
       "..                                                 ...   \n",
       "994                                         Winterlong   \n",
       "995                                  Follow The Leader   \n",
       "996                                        RP McMurphy   \n",
       "997                                  NEWBORN AWAKENING   \n",
       "998                                Living In The Storm   \n",
       "\n",
       "                                                 Lyric    Genre  \\\n",
       "0    refrain let crunkupon gon fun dancery ya open ...  Hip Hop   \n",
       "1    ransom yeah Drizzy Baby know time high time sm...  Hip Hop   \n",
       "2    Cent unstoppable incredible impeccable unit wh...  Hip Hop   \n",
       "3    uhh yea uh uh uh alright alright love bump bad...  Hip Hop   \n",
       "4    Flo Rida Gucci bird buy ciroc lil mama jock st...  Hip Hop   \n",
       "..                                                 ...      ...   \n",
       "994  fall rain cease dissolve come home grace let f...     Rock   \n",
       "995  loose cannon shoulder strawberry hip phantasmi...     Rock   \n",
       "996  straight jacket beauty breakdown away gutter j...     Rock   \n",
       "997  gently stir gently rise dead newborn awakening...     Rock   \n",
       "998  wrong friend head violence try pretend want tr...     Rock   \n",
       "\n",
       "                     Artist  lyric_length_processed  \n",
       "0             Mary J. Blige                     244  \n",
       "1                     Drake                     426  \n",
       "2                    G-Unit                     242  \n",
       "3                     Drake                     164  \n",
       "4                  Flo Rida                     199  \n",
       "..                      ...                     ...  \n",
       "994       Smashing Pumpkins                      63  \n",
       "995            Bad Religion                      73  \n",
       "996  Manic Street Preachers                      82  \n",
       "997               The Doors                      49  \n",
       "998     The Pretty Reckless                      61  \n",
       "\n",
       "[999 rows x 5 columns]"
      ]
     },
     "execution_count": 2,
     "metadata": {},
     "output_type": "execute_result"
    }
   ],
   "source": [
    "df"
   ]
  },
  {
   "cell_type": "code",
   "execution_count": 3,
   "id": "aa9dad51",
   "metadata": {},
   "outputs": [],
   "source": [
    "from collections import Counter\n",
    "HipHop = Counter(\" \".join(df.loc[df['Genre']=='Hip Hop', 'Lyric']).split()).most_common(30)"
   ]
  },
  {
   "cell_type": "code",
   "execution_count": 4,
   "id": "6e149c52",
   "metadata": {},
   "outputs": [],
   "source": [
    "Pop = Counter(\" \".join(df.loc[df['Genre']=='Pop', 'Lyric']).split()).most_common(30)"
   ]
  },
  {
   "cell_type": "code",
   "execution_count": 5,
   "id": "38a50a0e",
   "metadata": {},
   "outputs": [],
   "source": [
    "Rock = Counter(\" \".join(df.loc[df['Genre']=='Rock', 'Lyric']).split()).most_common(30)"
   ]
  },
  {
   "cell_type": "code",
   "execution_count": 6,
   "id": "3692f27c",
   "metadata": {},
   "outputs": [
    {
     "data": {
      "text/plain": [
       "[('like', 1576),\n",
       " ('know', 1144),\n",
       " ('love', 688),\n",
       " ('come', 615),\n",
       " ('yeah', 603),\n",
       " ('let', 587),\n",
       " ('nigga', 578),\n",
       " ('shit', 542),\n",
       " ('time', 529),\n",
       " ('oh', 513),\n",
       " ('wanna', 466),\n",
       " ('baby', 447),\n",
       " ('girl', 446),\n",
       " ('cause', 442),\n",
       " ('tell', 430),\n",
       " ('want', 421),\n",
       " ('bitch', 400),\n",
       " ('get', 383),\n",
       " ('feel', 378),\n",
       " ('fuck', 375),\n",
       " ('look', 360),\n",
       " ('man', 360),\n",
       " ('right', 358),\n",
       " ('ya', 344),\n",
       " ('need', 332),\n",
       " ('think', 330),\n",
       " ('life', 328),\n",
       " ('way', 317),\n",
       " ('good', 298),\n",
       " ('night', 294)]"
      ]
     },
     "execution_count": 6,
     "metadata": {},
     "output_type": "execute_result"
    }
   ],
   "source": [
    "HipHop"
   ]
  },
  {
   "cell_type": "code",
   "execution_count": 7,
   "id": "c0cfada7",
   "metadata": {},
   "outputs": [
    {
     "data": {
      "text/plain": [
       "[('love', 921),\n",
       " ('know', 904),\n",
       " ('oh', 721),\n",
       " ('like', 601),\n",
       " ('let', 461),\n",
       " ('baby', 377),\n",
       " ('feel', 373),\n",
       " ('girl', 354),\n",
       " ('time', 334),\n",
       " ('come', 332),\n",
       " ('way', 332),\n",
       " ('yeah', 327),\n",
       " ('heart', 309),\n",
       " ('want', 298),\n",
       " ('tell', 296),\n",
       " ('wanna', 282),\n",
       " ('think', 265),\n",
       " ('need', 265),\n",
       " ('thing', 243),\n",
       " ('bad', 237),\n",
       " ('go', 229),\n",
       " ('look', 223),\n",
       " ('night', 222),\n",
       " ('boy', 219),\n",
       " ('good', 212),\n",
       " ('day', 211),\n",
       " ('away', 200),\n",
       " ('hey', 194),\n",
       " ('try', 192),\n",
       " ('stop', 189)]"
      ]
     },
     "execution_count": 7,
     "metadata": {},
     "output_type": "execute_result"
    }
   ],
   "source": [
    "Pop"
   ]
  },
  {
   "cell_type": "code",
   "execution_count": 8,
   "id": "bdcdd30a",
   "metadata": {},
   "outputs": [
    {
     "data": {
      "text/plain": [
       "[('love', 461),\n",
       " ('know', 398),\n",
       " ('come', 321),\n",
       " ('oh', 313),\n",
       " ('like', 307),\n",
       " ('time', 275),\n",
       " ('want', 246),\n",
       " ('way', 213),\n",
       " ('feel', 210),\n",
       " ('go', 209),\n",
       " ('yeah', 199),\n",
       " ('let', 187),\n",
       " ('away', 187),\n",
       " ('life', 183),\n",
       " ('tell', 171),\n",
       " ('think', 156),\n",
       " ('baby', 156),\n",
       " ('need', 148),\n",
       " ('good', 148),\n",
       " ('night', 145),\n",
       " ('look', 144),\n",
       " ('right', 144),\n",
       " ('world', 139),\n",
       " ('man', 138),\n",
       " ('wanna', 137),\n",
       " ('live', 136),\n",
       " ('leave', 135),\n",
       " ('day', 135),\n",
       " ('thing', 127),\n",
       " ('heart', 125)]"
      ]
     },
     "execution_count": 8,
     "metadata": {},
     "output_type": "execute_result"
    }
   ],
   "source": [
    "Rock"
   ]
  },
  {
   "cell_type": "code",
   "execution_count": 9,
   "id": "3539c20d",
   "metadata": {},
   "outputs": [
    {
     "data": {
      "text/plain": [
       "<matplotlib.axes._subplots.AxesSubplot at 0x7f52b7905a10>"
      ]
     },
     "execution_count": 9,
     "metadata": {},
     "output_type": "execute_result"
    },
    {
     "data": {
      "image/png": "[encoded data removed]",
      "text/plain": [
       "<Figure size 432x288 with 1 Axes>"
      ]
     },
     "metadata": {
      "needs_background": "light"
     },
     "output_type": "display_data"
    }
   ],
   "source": [
    "import matplotlib.pyplot as plt\n",
    "df_hip = pd.DataFrame(HipHop, columns=['word', 'frequency'])\n",
    "df_hip.plot(kind='bar', x='word')"
   ]
  },
  {
   "cell_type": "code",
   "execution_count": 10,
   "id": "bb5c5328",
   "metadata": {},
   "outputs": [
    {
     "data": {
      "text/plain": [
       "<matplotlib.axes._subplots.AxesSubplot at 0x7f52b5133650>"
      ]
     },
     "execution_count": 10,
     "metadata": {},
     "output_type": "execute_result"
    },
    {
     "data": {
      "image/png": "[encoded data removed]",
      "text/plain": [
       "<Figure size 432x288 with 1 Axes>"
      ]
     },
     "metadata": {
      "needs_background": "light"
     },
     "output_type": "display_data"
    }
   ],
   "source": [
    "df_pop = pd.DataFrame(Pop, columns=['word', 'frequency'])\n",
    "df_pop.plot(kind='bar', x='word')"
   ]
  },
  {
   "cell_type": "code",
   "execution_count": 11,
   "id": "a74e324a",
   "metadata": {},
   "outputs": [
    {
     "data": {
      "text/plain": [
       "<matplotlib.axes._subplots.AxesSubplot at 0x7f52b4fdf9d0>"
      ]
     },
     "execution_count": 11,
     "metadata": {},
     "output_type": "execute_result"
    },
    {
     "data": {
      "image/png": "[encoded data removed]",
      "text/plain": [
       "<Figure size 432x288 with 1 Axes>"
      ]
     },
     "metadata": {
      "needs_background": "light"
     },
     "output_type": "display_data"
    }
   ],
   "source": [
    "df_rock = pd.DataFrame(Rock, columns=['word', 'frequency'])\n",
    "df_rock.plot(kind='bar', x='word')"
   ]
  },
  {
   "cell_type": "code",
   "execution_count": null,
   "id": "ad0e9fb0",
   "metadata": {},
   "outputs": [],
   "source": []
  }
 ],
 "metadata": {
  "kernelspec": {
   "display_name": "Environment (conda_tensorflow_p37)",
   "language": "python",
   "name": "conda_tensorflow_p37"
  },
  "language_info": {
   "codemirror_mode": {
    "name": "ipython",
    "version": 3
   },
   "file_extension": ".py",
   "mimetype": "text/x-python",
   "name": "python",
   "nbconvert_exporter": "python",
   "pygments_lexer": "ipython3",
   "version": "3.7.10"
  }
 },
 "nbformat": 4,
 "nbformat_minor": 5
}
